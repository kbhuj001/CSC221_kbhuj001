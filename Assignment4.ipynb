{
  "nbformat": 4,
  "nbformat_minor": 0,
  "metadata": {
    "colab": {
      "provenance": [],
      "authorship_tag": "ABX9TyMIdlh3LIdU2PrDO5Y6JhaT",
      "include_colab_link": true
    },
    "kernelspec": {
      "name": "python3",
      "display_name": "Python 3"
    },
    "language_info": {
      "name": "python"
    }
  },
  "cells": [
    {
      "cell_type": "markdown",
      "metadata": {
        "id": "view-in-github",
        "colab_type": "text"
      },
      "source": [
        "<a href=\"https://colab.research.google.com/github/kbhuj001/CSC221_kbhuj001/blob/main/Assignment4.ipynb\" target=\"_parent\"><img src=\"https://colab.research.google.com/assets/colab-badge.svg\" alt=\"Open In Colab\"/></a>"
      ]
    },
    {
      "cell_type": "code",
      "execution_count": 1,
      "metadata": {
        "colab": {
          "base_uri": "https://localhost:8080/"
        },
        "id": "6zJhmm3nTO5v",
        "outputId": "e9c711d4-3db0-4733-d22e-76bab6b6b66b"
      },
      "outputs": [
        {
          "output_type": "stream",
          "name": "stdout",
          "text": [
            "Iskita\n",
            "Abhishek\n",
            "Uma\n",
            "Priya\n"
          ]
        }
      ],
      "source": [
        "names = ('Iskita', 'Abhishek', 'Uma', 'Priya')\n",
        "print(names[0])\n",
        "print(names[1])\n",
        "print(names[2])\n",
        "print(names[3])"
      ]
    },
    {
      "cell_type": "code",
      "source": [
        "names = ['iskita', 'abhishek', 'uma', 'priya']\n",
        "\n",
        "\n",
        "messages = [\n",
        "    f\"Hello, {name.title()}! What do you want to eat?\" for name in names\n",
        "]\n",
        "\n",
        "\n",
        "print(messages[0])\n",
        "print(messages[1])\n",
        "print(messages[2])\n",
        "print(messages[3])"
      ],
      "metadata": {
        "colab": {
          "base_uri": "https://localhost:8080/"
        },
        "id": "k86YK_0raU6D",
        "outputId": "d692f99a-4a18-4e10-f867-9ed0279630b2"
      },
      "execution_count": 25,
      "outputs": [
        {
          "output_type": "stream",
          "name": "stdout",
          "text": [
            "Hello, Iskita! What do you want to eat?\n",
            "Hello, Abhishek! What do you want to eat?\n",
            "Hello, Uma! What do you want to eat?\n",
            "Hello, Priya! What do you want to eat?\n"
          ]
        }
      ]
    },
    {
      "cell_type": "code",
      "source": [
        "favorite_cars = ['Tesla Model 3', 'Porsche 911', 'Audi A4', 'Ford Mustang', 'Jeep Wrangler']\n",
        "\n",
        "print(\"I would like to own a \" + favorite_cars[0] + \".\")\n",
        "print(\"I would like to own a \" + favorite_cars[1] + \".\")\n",
        "print(\"I would like to own an \" + favorite_cars[2] + \".\")\n",
        "print(\"I would like to own a \" + favorite_cars[3] + \".\")\n",
        "print(\"I would like to own a \" + favorite_cars[4] + \".\")"
      ],
      "metadata": {
        "colab": {
          "base_uri": "https://localhost:8080/"
        },
        "id": "zph_xKFmanfc",
        "outputId": "9f10e680-c5af-4757-e0b4-8e7524b6078d"
      },
      "execution_count": 1,
      "outputs": [
        {
          "output_type": "stream",
          "name": "stdout",
          "text": [
            "I would like to own a Tesla Model 3.\n",
            "I would like to own a Porsche 911.\n",
            "I would like to own an Audi A4.\n",
            "I would like to own a Ford Mustang.\n",
            "I would like to own a Jeep Wrangler.\n"
          ]
        }
      ]
    },
    {
      "cell_type": "code",
      "source": [
        "guests = ['Albert Einstein', 'Marie Curie', 'Isaac Newton']\n",
        "\n",
        "for guest in guests:\n",
        "    print(f\"Dear {guest}, you are invited to dinner at my place.\")"
      ],
      "metadata": {
        "colab": {
          "base_uri": "https://localhost:8080/"
        },
        "id": "tuMbo66DPAFX",
        "outputId": "173d7637-6a79-4dfd-aa3e-0f46cb3b7945"
      },
      "execution_count": 2,
      "outputs": [
        {
          "output_type": "stream",
          "name": "stdout",
          "text": [
            "Dear Albert Einstein, you are invited to dinner at my place.\n",
            "Dear Marie Curie, you are invited to dinner at my place.\n",
            "Dear Isaac Newton, you are invited to dinner at my place.\n"
          ]
        }
      ]
    },
    {
      "cell_type": "code",
      "source": [
        "cannot_attend = 'Marie Curie'\n",
        "new_guest = 'Nikola Tesla'\n",
        "\n",
        "print(f\"\\nUnfortunately, {cannot_attend} can't make it to the dinner.\\n\")\n",
        "guests[guests.index(cannot_attend)] = new_guest\n",
        "for guest in guests:\n",
        "    print(f\"Dear {guest}, you are invited to dinner at my place.\")"
      ],
      "metadata": {
        "colab": {
          "base_uri": "https://localhost:8080/"
        },
        "id": "VWOHPCUgQAOY",
        "outputId": "f4d81d41-abcb-4a54-ca3c-8dc1c69cf76e"
      },
      "execution_count": 3,
      "outputs": [
        {
          "output_type": "stream",
          "name": "stdout",
          "text": [
            "\n",
            "Unfortunately, Marie Curie can't make it to the dinner.\n",
            "\n",
            "Dear Albert Einstein, you are invited to dinner at my place.\n",
            "Dear Nikola Tesla, you are invited to dinner at my place.\n",
            "Dear Isaac Newton, you are invited to dinner at my place.\n"
          ]
        }
      ]
    },
    {
      "cell_type": "code",
      "source": [
        "print(\"\\nGreat news! I found a bigger dinner table.\\n\")\n",
        "\n",
        "guests.insert(0, 'Leonardo da Vinci')\n",
        "guests.insert(len(guests) // 2, 'Galileo Galilei')\n",
        "guests.append('Stephen Hawking')\n",
        "\n",
        "for guest in guests:\n",
        "    print(f\"Dear {guest}, you are invited to dinner at my place.\")"
      ],
      "metadata": {
        "colab": {
          "base_uri": "https://localhost:8080/"
        },
        "id": "AOmxWjqiQPeT",
        "outputId": "bd8d094b-5ece-4d09-c022-2808ceabd7c2"
      },
      "execution_count": 4,
      "outputs": [
        {
          "output_type": "stream",
          "name": "stdout",
          "text": [
            "\n",
            "Great news! I found a bigger dinner table.\n",
            "\n",
            "Dear Leonardo da Vinci, you are invited to dinner at my place.\n",
            "Dear Albert Einstein, you are invited to dinner at my place.\n",
            "Dear Galileo Galilei, you are invited to dinner at my place.\n",
            "Dear Nikola Tesla, you are invited to dinner at my place.\n",
            "Dear Isaac Newton, you are invited to dinner at my place.\n",
            "Dear Stephen Hawking, you are invited to dinner at my place.\n"
          ]
        }
      ]
    },
    {
      "cell_type": "code",
      "source": [
        "\n",
        "places_to_visit = ['Tokyo', 'Paris', 'Machu Picchu', 'Bora Bora', 'New York City']\n",
        "\n",
        "print(\"Original Order:\")\n",
        "print(places_to_visit)\n",
        "\n",
        "print(\"\\nAlphabetical Order:\")\n",
        "print(sorted(places_to_visit))\n",
        "\n",
        "print(\"\\nOriginal Order (still):\")\n",
        "print(places_to_visit)\n",
        "\n",
        "\n",
        "print(\"\\nReverse Alphabetical Order:\")\n",
        "print(sorted(places_to_visit, reverse=True))\n",
        "\n",
        "\n",
        "print(\"\\nOriginal Order (still):\")\n",
        "print(places_to_visit)\n",
        "\n",
        "\n",
        "places_to_visit.reverse()\n",
        "print(\"\\nReversed Order:\")\n",
        "print(places_to_visit)\n",
        "\n",
        "\n",
        "places_to_visit.reverse()\n",
        "print(\"\\nBack to Original Order:\")\n",
        "print(places_to_visit)\n",
        "\n",
        "\n",
        "places_to_visit.sort()\n",
        "print(\"\\nAlphabetical Order (modified):\")\n",
        "print(places_to_visit)\n",
        "\n",
        "\n",
        "places_to_visit.sort(reverse=True)\n",
        "print(\"\\nReverse Alphabetical Order (modified):\")\n",
        "print(places_to_visit)\n",
        "\n",
        "print(\"\\nNumber of Places Invited to Visit:\", len(places_to_visit))\n"
      ],
      "metadata": {
        "colab": {
          "base_uri": "https://localhost:8080/"
        },
        "id": "p40dvnyXQ4bk",
        "outputId": "644f3691-81da-4e7e-c6d5-1f24ceec233c"
      },
      "execution_count": 5,
      "outputs": [
        {
          "output_type": "stream",
          "name": "stdout",
          "text": [
            "Original Order:\n",
            "['Tokyo', 'Paris', 'Machu Picchu', 'Bora Bora', 'New York City']\n",
            "\n",
            "Alphabetical Order:\n",
            "['Bora Bora', 'Machu Picchu', 'New York City', 'Paris', 'Tokyo']\n",
            "\n",
            "Original Order (still):\n",
            "['Tokyo', 'Paris', 'Machu Picchu', 'Bora Bora', 'New York City']\n",
            "\n",
            "Reverse Alphabetical Order:\n",
            "['Tokyo', 'Paris', 'New York City', 'Machu Picchu', 'Bora Bora']\n",
            "\n",
            "Original Order (still):\n",
            "['Tokyo', 'Paris', 'Machu Picchu', 'Bora Bora', 'New York City']\n",
            "\n",
            "Reversed Order:\n",
            "['New York City', 'Bora Bora', 'Machu Picchu', 'Paris', 'Tokyo']\n",
            "\n",
            "Back to Original Order:\n",
            "['Tokyo', 'Paris', 'Machu Picchu', 'Bora Bora', 'New York City']\n",
            "\n",
            "Alphabetical Order (modified):\n",
            "['Bora Bora', 'Machu Picchu', 'New York City', 'Paris', 'Tokyo']\n",
            "\n",
            "Reverse Alphabetical Order (modified):\n",
            "['Tokyo', 'Paris', 'New York City', 'Machu Picchu', 'Bora Bora']\n",
            "\n",
            "Number of Places Invited to Visit: 5\n"
          ]
        }
      ]
    },
    {
      "cell_type": "code",
      "source": [
        "\n",
        "cubes = [x**3 for x in range(60, 86) if x % 7 == 0]\n",
        "\n",
        "for cube in cubes:\n",
        "    print(cube)\n"
      ],
      "metadata": {
        "colab": {
          "base_uri": "https://localhost:8080/"
        },
        "id": "UbHnSPE9RNWG",
        "outputId": "ecc89b59-c8b4-4299-a94c-6c9d549f70f3"
      },
      "execution_count": 6,
      "outputs": [
        {
          "output_type": "stream",
          "name": "stdout",
          "text": [
            "250047\n",
            "343000\n",
            "456533\n",
            "592704\n"
          ]
        }
      ]
    },
    {
      "cell_type": "code",
      "source": [
        "x_values = [40, 50, 120, -8, 6]\n",
        "y_values = [7.4 * x + 51 for x in x_values]\n",
        "\n",
        "print(y_values)"
      ],
      "metadata": {
        "id": "Dr_heZodSMPg"
      },
      "execution_count": null,
      "outputs": []
    }
  ]
}