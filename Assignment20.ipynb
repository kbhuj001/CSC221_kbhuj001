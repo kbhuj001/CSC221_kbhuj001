{
  "nbformat": 4,
  "nbformat_minor": 0,
  "metadata": {
    "colab": {
      "provenance": [],
      "include_colab_link": true
    },
    "kernelspec": {
      "name": "python3",
      "display_name": "Python 3"
    },
    "language_info": {
      "name": "python"
    }
  },
  "cells": [
    {
      "cell_type": "markdown",
      "metadata": {
        "id": "view-in-github",
        "colab_type": "text"
      },
      "source": [
        "<a href=\"https://colab.research.google.com/github/kbhuj001/CSC221_kbhuj001/blob/main/Assignment20.ipynb\" target=\"_parent\"><img src=\"https://colab.research.google.com/assets/colab-badge.svg\" alt=\"Open In Colab\"/></a>"
      ]
    },
    {
      "cell_type": "markdown",
      "source": [
        "# Assignment 20\n",
        "## CSC 221\n",
        "- PLEASE INSERT YOUR NAME HERE!\n",
        "\n",
        "### Instructions:\n",
        "Fill in each code cell below the question. We are following along in Chapter 4 of Python Distilled."
      ],
      "metadata": {
        "id": "IAOUzGWE1eDx"
      }
    },
    {
      "cell_type": "code",
      "execution_count": null,
      "metadata": {
        "id": "Gnj3su7i5-lx",
        "colab": {
          "base_uri": "https://localhost:8080/"
        },
        "outputId": "40bf34bf-2970-4d26-f986-6806fd060e17"
      },
      "outputs": [
        {
          "output_type": "stream",
          "name": "stdout",
          "text": [
            "19\n",
            "44.5\n",
            "asdfg13\n"
          ]
        }
      ],
      "source": [
        "# 4.1 Essential Concepts\n",
        "\n",
        "# When we write \"a + b\" in Python, the interpreter tries to execute a.__add__(b)\n",
        "\n",
        "# Show that this is true by trying the following:\n",
        "a = 6\n",
        "b = 31.5\n",
        "c = 'asdfg'\n",
        "a1 = a.__add__(13)\n",
        "b1 = b.__add__(13)\n",
        "c1 = c.__add__('13')\n",
        "print(a1)\n",
        "print(b1)\n",
        "print(c1)\n",
        "\n",
        "# What are the types of a, b, and c?\n",
        "'''\n",
        "  a is an integer\n",
        "  b is a float\n",
        "  c is a string\n",
        " '''\n",
        "\n",
        "# Explain the results\n",
        "'''\n",
        "   The + doesn't always mean plain old addition. + in Python tries to call the __add__ special\n",
        "   method to perform the addition or concatenation operation on the two operands.\n",
        "   The type of the operands determines what kind of __add__ method is called and therefore how + behaves.\n",
        "\n",
        "'''"
      ]
    },
    {
      "cell_type": "code",
      "source": [
        "# 4.2 through 4.4 will be covered in the next assignment\n"
      ],
      "metadata": {
        "id": "w2uYd3DO2do6"
      },
      "execution_count": null,
      "outputs": []
    },
    {
      "cell_type": "code",
      "source": [
        "# 4.5 str and repr\n",
        "# How many categories of printing are shown below for a datetime object?\n",
        "'''\n",
        "There are 4 different categories of printing shown\n",
        "1. Default string representation:\n",
        "    print(d)\n",
        "    print(f'{d}')\n",
        "    These call d.str() to get the default string representation\n",
        "\n",
        "2. Formal string representation:\n",
        "    print(f'{d!r}')\n",
        "    print(repr(d))\n",
        "    These call d.repr() to get the formal string representation\n",
        "\n",
        "3. Informal string representation:\n",
        "    print(f'{d!s}')\n",
        "    print(str(d))\n",
        "    These call d.str() to get the informal string representation\n",
        "\n",
        "4. Explicit method calls:\n",
        "    print(d.str())\n",
        "    print(d.repr())\n",
        "    These directly call the str() and repr() methods on d\n",
        "'''\n",
        "\n",
        "# What in the Pythion code makes each one get callled?\n",
        "'''\n",
        "The print() function and f-strings will automatically call str() or repr()\n",
        "as needed.\n",
        "'''\n",
        "\n",
        "from datetime import date\n",
        "d = date(2023, 11, 7)\n",
        "\n",
        "#print(d)\n",
        "#print(f'{d}')\n",
        "#print(f'{d!s}')\n",
        "#print(f'{d!r}')\n",
        "#print(str(d))\n",
        "#print(repr(d))\n",
        "#print(d.__str__())\n",
        "#print(d.__repr__())\n"
      ],
      "metadata": {
        "id": "Aa3ylzmV2wNF"
      },
      "execution_count": null,
      "outputs": []
    },
    {
      "cell_type": "code",
      "source": [
        "# 4.6 First-Class Objects\n",
        "# What is the significance of all objects being \"first-class\" in Python?\n",
        "\n",
        "# Explain by typing in the code to create and use the 'items' dictionary shown in section 4.6.\n",
        "# Explain each of the lines starting with '>>>' in the section.\n",
        "\n",
        "import random\n",
        "\n",
        "def square(x):\n",
        "    return x ** 2\n",
        "\n",
        "nums = [1,2,3,4]\n",
        "\n",
        "data = {\n",
        "    'operation': square,\n",
        "    'rand': random,\n",
        "    'error': IndexError,\n",
        "    'extend': nums.extend\n",
        "}\n",
        "\n",
        "\n",
        "\n",
        "'''\n",
        ">>> data['operation'](8)\n",
        "# Executes square(8)\n",
        "64\n",
        "# Calls the square function\n",
        "\n",
        ">>> data['rand'].uniform(1, 10)\n",
        "# Generates a random float between 1 and 10 using random.uniform\n",
        "# e.g., 7.482193\n",
        "calls the uniform method\n",
        "\n",
        ">>> try:\n",
        "...     value = numbers[10]\n",
        "... except data['error'] as e:\n",
        "...     print(\"Index out of range\")\n",
        "...\n",
        "Index out of range\n",
        "# Catches IndexError stored in the dictionary\n",
        "\n",
        ">>> data['extend']([5, 6, 7])\n",
        "# Executes numbers.extend([5, 6, 7])\n",
        ">>> numbers\n",
        "[1, 2, 3, 4, 5, 6, 7]\n",
        "it extends the list of numbers\n",
        "\n",
        ">>> line = 'XYZ,42,78.9'\n",
        ">>> types = [str, int, float]\n",
        ">>> parts = line.split(',')\n",
        "# Splits the line from ',' and stores into list\n",
        "# parts = ['XYZ', '42', '78.9']\n",
        "\n",
        ">>> values = [ty(val) for ty, val in zip(types, parts)]\n",
        "# It creates the list and converts the types of the variables with the type\n",
        "# from the types list.\n",
        "# values = ['XYZ', 42, 78.9]\n",
        "\n",
        ">>> values\n",
        "['XYZ', 42, 78.9]\n",
        "'''"
      ],
      "metadata": {
        "id": "9LRpP06Vsw6n",
        "colab": {
          "base_uri": "https://localhost:8080/",
          "height": 143
        },
        "outputId": "f7724813-e382-47bd-80e1-d972eab85055"
      },
      "execution_count": 5,
      "outputs": [
        {
          "output_type": "execute_result",
          "data": {
            "text/plain": [
              "'\\n>>> data[\\'operation\\'](8)\\n# Executes square(8)\\n64\\n# Calls the square function\\n\\n>>> data[\\'rand\\'].uniform(1, 10)\\n# Generates a random float between 1 and 10 using random.uniform\\n# e.g., 7.482193\\ncalls the uniform method\\n\\n>>> try:\\n...     value = numbers[10]\\n... except data[\\'error\\'] as e:\\n...     print(\"Index out of range\")\\n...\\nIndex out of range\\n# Catches IndexError stored in the dictionary\\n\\n>>> data[\\'extend\\']([5, 6, 7])\\n# Executes numbers.extend([5, 6, 7])\\n>>> numbers\\n[1, 2, 3, 4, 5, 6, 7]\\nit extends the list of numbers\\n\\n>>> line = \\'XYZ,42,78.9\\'\\n>>> types = [str, int, float]\\n>>> parts = line.split(\\',\\')\\n# Splits the line from \\',\\' and stores into list\\n# parts = [\\'XYZ\\', \\'42\\', \\'78.9\\']\\n\\n>>> values = [ty(val) for ty, val in zip(types, parts)]\\n# Creates the list and converts the types of the variables with the type\\n# from the types list.\\n# values = [\\'XYZ\\', 42, 78.9]\\n\\n>>> values\\n[\\'XYZ\\', 42, 78.9]\\n'"
            ],
            "application/vnd.google.colaboratory.intrinsic+json": {
              "type": "string"
            }
          },
          "metadata": {},
          "execution_count": 5
        }
      ]
    },
    {
      "cell_type": "code",
      "source": [
        "# 4.7 Using None\n",
        "# Write a function that takes two parameters and returns their sum if they are\n",
        "#  integers or returns None if either one is not.\n",
        "\n",
        "# Put in some test code to show that your function works\n",
        "\n",
        "# INSERT YOUR CODE HERE\n",
        "\n",
        "def add_integers(a, b):\n",
        "    # Check if both parameters are integers\n",
        "    if isinstance(a, int) and isinstance(b, int):\n",
        "        return a + b\n",
        "    else:\n",
        "        return None\n",
        "\n",
        "#Test Cases\n",
        "print(add_integers(5, 6))\n",
        "print(add_integers(3, 'ola'))\n",
        "print(add_integers(8, None))\n"
      ],
      "metadata": {
        "id": "dUhRWGnCtewU",
        "outputId": "1f259b84-2c3c-432d-ed01-05dff59b8d23",
        "colab": {
          "base_uri": "https://localhost:8080/"
        }
      },
      "execution_count": 1,
      "outputs": [
        {
          "output_type": "stream",
          "name": "stdout",
          "text": [
            "11\n",
            "None\n",
            "None\n"
          ]
        }
      ]
    },
    {
      "cell_type": "code",
      "source": [
        "# 4.9 Object Protocol\n",
        "# Create a simple object that has methods for:\n",
        "#  __new__\n",
        "#  __init__\n",
        "#  __del__\n",
        "#  __repr__\n",
        "#  __str__\n",
        "\n",
        "# Put in some test code to show how and when each of these 'magic' functions gets called.\n",
        "\n",
        "# INSERT YOUR CODE HERE\n",
        "\n",
        "class MyObject:\n",
        "    def __new__(cls):\n",
        "        print('__new__ called')\n",
        "        return super().__new__(cls)\n",
        "\n",
        "    def __init__(self):\n",
        "        print('__init__ called')\n",
        "\n",
        "    def __del__(self):\n",
        "        print('__del__ called')\n",
        "\n",
        "    def __repr__(self):\n",
        "        return '__repr__ called'\n",
        "\n",
        "    def __str__(self):\n",
        "        return '__str__ called'\n",
        "\n",
        "# Test code\n",
        "obj = MyObject()\n",
        "print(repr(obj))\n",
        "print(obj)\n",
        "del obj"
      ],
      "metadata": {
        "id": "4M-CQevEt2xQ",
        "outputId": "aed122ad-d458-49c7-9ff1-b532be3a4079",
        "colab": {
          "base_uri": "https://localhost:8080/"
        }
      },
      "execution_count": 2,
      "outputs": [
        {
          "output_type": "stream",
          "name": "stdout",
          "text": [
            "__new__ called\n",
            "__init__ called\n",
            "__repr__ called\n",
            "__str__ called\n",
            "__del__ called\n"
          ]
        }
      ]
    }
  ]
}