{
  "nbformat": 4,
  "nbformat_minor": 0,
  "metadata": {
    "colab": {
      "provenance": [],
      "authorship_tag": "ABX9TyMGjwN/Lw0xj+wCpYE6OArp",
      "include_colab_link": true
    },
    "kernelspec": {
      "name": "python3",
      "display_name": "Python 3"
    },
    "language_info": {
      "name": "python"
    }
  },
  "cells": [
    {
      "cell_type": "markdown",
      "metadata": {
        "id": "view-in-github",
        "colab_type": "text"
      },
      "source": [
        "<a href=\"https://colab.research.google.com/github/kbhuj001/CSC221_kbhuj001/blob/main/Assignment11.ipynb\" target=\"_parent\"><img src=\"https://colab.research.google.com/assets/colab-badge.svg\" alt=\"Open In Colab\"/></a>"
      ]
    },
    {
      "cell_type": "code",
      "execution_count": 1,
      "metadata": {
        "id": "NzxeHpnF9q5m"
      },
      "outputs": [],
      "source": [
        "class Dog():\n",
        "    '''A simple attempt to model a dog.'''\n",
        "\n",
        "    def __init__(self, name, age):\n",
        "        '''Initialize name and age attributes.'''\n",
        "        self.name = name\n",
        "        self.age = age\n",
        "\n",
        "    def sit(self):\n",
        "        '''Simulate dog sitting in response to a command.'''\n",
        "        print(self.name.title() + \" is now sitting.\")\n",
        "\n",
        "    def roll_over(self):\n",
        "        '''Simulate rolling over in response to a command'''\n",
        "        print(self.name.title() + \" rolled over!\")"
      ]
    },
    {
      "cell_type": "code",
      "source": [
        "my_dog = Dog('Tommy', 3)\n",
        "print(\"My dog's name is \" + my_dog.name.title() + \".\")\n",
        "print(\"My dog is \" + str(my_dog.age) + \" years old.\")"
      ],
      "metadata": {
        "colab": {
          "base_uri": "https://localhost:8080/"
        },
        "id": "_R1dtVGq95zW",
        "outputId": "fe61e34e-2654-431d-9a30-b2823c0e152e"
      },
      "execution_count": 2,
      "outputs": [
        {
          "output_type": "stream",
          "name": "stdout",
          "text": [
            "My dog's name is Tommy.\n",
            "My dog is 3 years old.\n"
          ]
        }
      ]
    },
    {
      "cell_type": "code",
      "source": [
        "my_dog.sit()\n",
        "my_dog.roll_over()"
      ],
      "metadata": {
        "colab": {
          "base_uri": "https://localhost:8080/"
        },
        "id": "bsZ_IR2F-A1k",
        "outputId": "16009e79-ca51-48b9-b69e-56a3483f50df"
      },
      "execution_count": 3,
      "outputs": [
        {
          "output_type": "stream",
          "name": "stdout",
          "text": [
            "Tommy is now sitting.\n",
            "Tommy rolled over!\n"
          ]
        }
      ]
    },
    {
      "cell_type": "code",
      "source": [
        "my_dog = Dog('Tommy', 6)\n",
        "your_dog = Dog('Mila', 3)\n",
        "\n",
        "print(\"My dog's name is \" + my_dog.name.title() + \".\")\n",
        "print(\"My dog is \" + str(my_dog.age) + \" years old.\")\n",
        "my_dog.sit()\n",
        "\n",
        "print(\"\\nYour dog's name is \" + your_dog.name.title() + \".\")\n",
        "print(\"Your dog is \" + str(your_dog.age) + \" years old.\")\n",
        "your_dog.sit()\n",
        ""
      ],
      "metadata": {
        "colab": {
          "base_uri": "https://localhost:8080/"
        },
        "id": "pk4j9na8-D3D",
        "outputId": "ed422da3-26a8-45e5-fa4e-b8c975b49281"
      },
      "execution_count": 4,
      "outputs": [
        {
          "output_type": "stream",
          "name": "stdout",
          "text": [
            "My dog's name is Tommy.\n",
            "My dog is 6 years old.\n",
            "Tommy is now sitting.\n",
            "\n",
            "Your dog's name is Mila.\n",
            "Your dog is 3 years old.\n",
            "Mila is now sitting.\n"
          ]
        }
      ]
    },
    {
      "cell_type": "code",
      "source": [
        "class Restaurant():\n",
        "    '''A simple method to make a model of restaurant.'''\n",
        "\n",
        "    def __init__(self, restaurant_name, cuisine_type):\n",
        "        '''It creates an instance of restaurant when class is called.'''\n",
        "        self.restaurant_name = restaurant_name\n",
        "        self.cuisine_type = cuisine_type\n",
        "\n",
        "    def describe_restaurant(self):\n",
        "        print(f\"The name of the restaurant is {self.restaurant_name.title()}.\")\n",
        "        print(f\"The types of cuisine {self.restaurant_name.title()} has is {self.cuisine_type.title()}.\")\n",
        "\n",
        "    def open_restaurant(self):\n",
        "        print(f\"{self.restaurant_name.title()} is now open.\")\n",
        "\n",
        "\n",
        "restaurant = Restaurant(\"TacoHUB\", \"Mexican\")\n",
        "\n",
        "print(f\"Restaurant Name: {restaurant.restaurant_name}\")\n",
        "print(f\"Cuisine Type: {restaurant.cuisine_type}\")\n",
        "\n",
        "restaurant.describe_restaurant()\n",
        "restaurant.open_restaurant()"
      ],
      "metadata": {
        "colab": {
          "base_uri": "https://localhost:8080/"
        },
        "id": "k51GlRl8-LV7",
        "outputId": "6ee26e82-fd28-4501-a71d-0042153948dc"
      },
      "execution_count": 7,
      "outputs": [
        {
          "output_type": "stream",
          "name": "stdout",
          "text": [
            "Restaurant Name: TacoHUB\n",
            "Cuisine Type: Mexican\n",
            "The name of the restaurant is Tacohub.\n",
            "The types of cuisine Tacohub has is Mexican.\n",
            "Tacohub is now open.\n"
          ]
        }
      ]
    },
    {
      "cell_type": "code",
      "source": [
        "# 9.2\n",
        "restaurant1 = Restaurant(\"Restaurant A\", \"Italian\")\n",
        "restaurant2 = Restaurant(\"Restaurant B\", \"Mexican\")\n",
        "restaurant3 = Restaurant(\"Restaurant C\", \"Japanese\")\n",
        "\n",
        "# Call describe_restaurant() for each instance\n",
        "restaurant1.describe_restaurant()\n",
        "restaurant2.describe_restaurant()\n",
        "restaurant3.describe_restaurant()\n"
      ],
      "metadata": {
        "colab": {
          "base_uri": "https://localhost:8080/"
        },
        "id": "hRTzDa_3-aum",
        "outputId": "266a6187-577a-4045-dcd0-1aac3dcceea5"
      },
      "execution_count": 8,
      "outputs": [
        {
          "output_type": "stream",
          "name": "stdout",
          "text": [
            "The name of the restaurant is Restaurant A.\n",
            "The types of cuisine Restaurant A has is Italian.\n",
            "The name of the restaurant is Restaurant B.\n",
            "The types of cuisine Restaurant B has is Mexican.\n",
            "The name of the restaurant is Restaurant C.\n",
            "The types of cuisine Restaurant C has is Japanese.\n"
          ]
        }
      ]
    },
    {
      "cell_type": "code",
      "source": [
        "# 9.3\n",
        "class User():\n",
        "    def __init__(self, first_name, last_name, username, email, location):\n",
        "        self.first_name = first_name\n",
        "        self.last_name = last_name\n",
        "        self.username = username\n",
        "        self.email = email\n",
        "        self.location = location\n",
        "\n",
        "    def describe_user(self):\n",
        "        print(f\"User Profile Information for {self.first_name} {self.last_name}:\")\n",
        "        print(f\"Username: {self.username}\")\n",
        "        print(f\"Email: {self.email}\")\n",
        "        print(f\"Location: {self.location}\")\n",
        "\n",
        "    def greet_user(self):\n",
        "        print(f\"Hello, {self.first_name}! Welcome to our platform.\")\n",
        "\n",
        "# Create several instances representing different users\n",
        "user1 = User(\"John\", \"Doe\", \"johndoe123\", \"johndoe@example.com\", \"New York\")\n",
        "user2 = User(\"Jane\", \"Smith\", \"janesmith456\", \"janesmith@example.com\", \"Los Angeles\")\n",
        "user3 = User(\"Alice\", \"Johnson\", \"alicej\", \"alice@example.com\", \"Chicago\")\n",
        "\n",
        "# Call both methods for each user\n",
        "user1.describe_user()\n",
        "user1.greet_user()\n",
        "\n",
        "user2.describe_user()\n",
        "user2.greet_user()\n",
        "\n",
        "user3.describe_user()\n",
        "user3.greet_user()"
      ],
      "metadata": {
        "colab": {
          "base_uri": "https://localhost:8080/"
        },
        "id": "IcL1yWHT-hau",
        "outputId": "256445d5-6e35-40e1-bdb6-953a6dd99112"
      },
      "execution_count": 9,
      "outputs": [
        {
          "output_type": "stream",
          "name": "stdout",
          "text": [
            "User Profile Information for John Doe:\n",
            "Username: johndoe123\n",
            "Email: johndoe@example.com\n",
            "Location: New York\n",
            "Hello, John! Welcome to our platform.\n",
            "User Profile Information for Jane Smith:\n",
            "Username: janesmith456\n",
            "Email: janesmith@example.com\n",
            "Location: Los Angeles\n",
            "Hello, Jane! Welcome to our platform.\n",
            "User Profile Information for Alice Johnson:\n",
            "Username: alicej\n",
            "Email: alice@example.com\n",
            "Location: Chicago\n",
            "Hello, Alice! Welcome to our platform.\n"
          ]
        }
      ]
    },
    {
      "cell_type": "code",
      "source": [
        "# The Car Class\n",
        "\n",
        "class Car():\n",
        "    \"\"\"A simple attempt to represent a car.\"\"\"\n",
        "\n",
        "    def __init__(self, make, model, year):\n",
        "        \"\"\"Initialize attributes to describe a car.\"\"\"\n",
        "        self.make = make\n",
        "        self.model = model\n",
        "        self.year = year\n",
        "        self.odometer_reading = 0\n",
        "\n",
        "    def get_descriptive_name(self):\n",
        "        \"\"\"Return a neatly formatted descriptive name.\"\"\"\n",
        "        long_name = str(self.year) + ' ' + self.make + ' ' + self.model\n",
        "        return long_name.title()\n",
        "\n",
        "    def read_odometer(self):\n",
        "        \"\"\"Print a statement showing the car's mileage.\"\"\"\n",
        "        print(\"This car has \" + str(self.odometer_reading) + \" miles on it.\")\n",
        "\n",
        "    def update_odometer(self, mileage):\n",
        "        \"\"\"\n",
        "        Set the odometer reading to the given value.\n",
        "        Reject the change if it attempts to roll the odometer back.\n",
        "        \"\"\"\n",
        "        if mileage >= self.odometer_reading:\n",
        "            self.odometer_reading = mileage\n",
        "        else:\n",
        "            print(\"You can't roll back an odometer!\")\n",
        "\n",
        "    def increment_odometer(self, miles):\n",
        "        \"\"\"Add the given amount to the odometer reading.\"\"\"\n",
        "        self.odometer_reading += miles\n",
        "\n",
        "my_new_car = Car('Honda', 'Civic', 2018)\n",
        "print(my_new_car.get_descriptive_name())\n",
        "my_new_car.read_odometer()\n",
        "my_new_car.update_odometer(23)\n",
        "my_new_car.read_odometer()\n",
        "\n",
        "my_used_car = Car('Hyundai', 'I20', 2013)\n",
        "print(my_used_car.get_descriptive_name())\n",
        "\n",
        "my_used_car.update_odometer(23500)\n",
        "my_used_car.read_odometer()\n",
        "\n",
        "my_used_car.increment_odometer(100)\n",
        "my_used_car.read_odometer()"
      ],
      "metadata": {
        "colab": {
          "base_uri": "https://localhost:8080/"
        },
        "id": "u8A_OFiy-o01",
        "outputId": "1feb2de1-cc7b-4e74-852d-edee114d9ffb"
      },
      "execution_count": 10,
      "outputs": [
        {
          "output_type": "stream",
          "name": "stdout",
          "text": [
            "2018 Honda Civic\n",
            "This car has 0 miles on it.\n",
            "This car has 23 miles on it.\n",
            "2013 Hyundai I20\n",
            "This car has 23500 miles on it.\n",
            "This car has 23600 miles on it.\n"
          ]
        }
      ]
    },
    {
      "cell_type": "code",
      "source": [
        "my_new_car.odometer_reading = 23\n",
        "my_new_car.read_odometer()\n",
        ""
      ],
      "metadata": {
        "colab": {
          "base_uri": "https://localhost:8080/"
        },
        "id": "tHKTMIpV-2ia",
        "outputId": "db567526-2e86-48d9-ffaa-bbbc23dc6a73"
      },
      "execution_count": 11,
      "outputs": [
        {
          "output_type": "stream",
          "name": "stdout",
          "text": [
            "This car has 23 miles on it.\n"
          ]
        }
      ]
    },
    {
      "cell_type": "code",
      "source": [
        "# 9.6\n",
        "\n",
        "class IceCreamStand(Restaurant):\n",
        "    '''A simple method to make an ice cream stand.'''\n",
        "\n",
        "    def __init__(self, restaurant_name, cuisine_type, flavors):\n",
        "        '''Initialize attributes of the parent class.'''\n",
        "        super().__init__(restaurant_name, cuisine_type)\n",
        "        self.flavors = flavors\n",
        "\n",
        "    def display_flavors(self):\n",
        "        print(f\"{self.restaurant_name.title()} has following flavors available: \")\n",
        "        for flavor in self.flavors:\n",
        "            print(\"> \", flavor)\n",
        "\n",
        "ice_cream_stand = IceCreamStand(\"Cold Stone\", \"Ice Cream\", [\"Vanilla\", \"Chocolate\", \"Strawberry\"])\n",
        "\n",
        "ice_cream_stand.display_flavors()\n",
        "\n"
      ],
      "metadata": {
        "colab": {
          "base_uri": "https://localhost:8080/"
        },
        "id": "3qJNFL8P-5c4",
        "outputId": "6455dbbe-2ad8-4135-d32a-33322499f9cd"
      },
      "execution_count": 12,
      "outputs": [
        {
          "output_type": "stream",
          "name": "stdout",
          "text": [
            "Cold Stone has following flavors available: \n",
            ">  Vanilla\n",
            ">  Chocolate\n",
            ">  Strawberry\n"
          ]
        }
      ]
    },
    {
      "cell_type": "code",
      "source": [
        "# 9.7\n",
        "\n",
        "class Admin(User):\n",
        "    \"\"\"Creating admin for the user class\"\"\"\n",
        "\n",
        "    def __init__(self, first_name, last_name, username, email, location, privileges):\n",
        "        '''Initialize attributes of the parent class.'''\n",
        "        super().__init__(first_name, last_name, username, email, location)\n",
        "        self.privileges = privileges\n",
        "\n",
        "    def show_privileges(self):\n",
        "        print(f\"{self.first_name} {self.last_name} has following privileges: \")\n",
        "        for privilege in self.privileges:\n",
        "            print(\"-\", privilege)\n",
        "\n",
        "admin = Admin('John', 'Doe', 'johnd', 'john@example.com', 'New York',\n",
        "              ['can add post', 'can delete post', 'can ban user'])\n",
        "\n",
        "admin.show_privileges()\n",
        ""
      ],
      "metadata": {
        "id": "033vcpkB-_rV",
        "outputId": "55494c91-ca22-4942-f0ad-6bc14d0cd960",
        "colab": {
          "base_uri": "https://localhost:8080/"
        }
      },
      "execution_count": 13,
      "outputs": [
        {
          "output_type": "stream",
          "name": "stdout",
          "text": [
            "John Doe has following privileges: \n",
            "- can add post\n",
            "- can delete post\n",
            "- can ban user\n"
          ]
        }
      ]
    }
  ]
}