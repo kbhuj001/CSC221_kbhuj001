{
  "nbformat": 4,
  "nbformat_minor": 0,
  "metadata": {
    "colab": {
      "provenance": [],
      "authorship_tag": "ABX9TyPghtpTlczZLsSo66ArLVEW",
      "include_colab_link": true
    },
    "kernelspec": {
      "name": "python3",
      "display_name": "Python 3"
    },
    "language_info": {
      "name": "python"
    }
  },
  "cells": [
    {
      "cell_type": "markdown",
      "metadata": {
        "id": "view-in-github",
        "colab_type": "text"
      },
      "source": [
        "<a href=\"https://colab.research.google.com/github/kbhuj001/CSC221_kbhuj001/blob/main/Assignment16_17.ipynb\" target=\"_parent\"><img src=\"https://colab.research.google.com/assets/colab-badge.svg\" alt=\"Open In Colab\"/></a>"
      ]
    },
    {
      "cell_type": "code",
      "execution_count": null,
      "metadata": {
        "id": "19vQnJArhIrk"
      },
      "outputs": [],
      "source": [
        "# section 1.1\n",
        "'''\n",
        "Programs in python are executed by an interpreter, which can run in various environments such as IDEs\n",
        "browsers, or terminals. The interpreter operates in a Read-Evaluation-Print Loop (REPL) where we can\n",
        "input Python code and immediately see the results.\n",
        "\n",
        "'''"
      ]
    },
    {
      "cell_type": "code",
      "source": [
        "#section 1.2\n",
        "\n",
        "'''\n",
        "Python programs are text files ending in .py that contain Python statements.\n",
        "Similarly, the # character denotes comments.\n",
        "You can run programs repeatedly by putting statements in .py files and launching repeatedly.\n",
        "'''\n",
        "\n",
        "\n"
      ],
      "metadata": {
        "id": "USHxOEyEiqLb"
      },
      "execution_count": null,
      "outputs": []
    },
    {
      "cell_type": "code",
      "source": [
        "# Section1.3\n",
        "\n",
        "'''\n",
        "Python has basic data types like integers, floats, strings, booleans that are used to represent values.\n",
        "Learned about Key Python statements:\n",
        "Assignment (x = 5)\n",
        "print()\n",
        "while loops\n",
        "Indentation to denote blocks of code\n",
        "'''\n"
      ],
      "metadata": {
        "id": "A4LNw5b1jZzj"
      },
      "execution_count": null,
      "outputs": []
    },
    {
      "cell_type": "code",
      "source": [
        "# Section 1.4\n",
        "\n",
        "'''\n",
        "Python has standard math operators like +, -, *, / for arithmetic and Comparison operators like ==, <=, >= that\n",
        "compare values and return True or False booleans.\n",
        "'''\n",
        "x = 10 + 5 # Addition\n",
        "y = 10 > 5 # Comparison, True\n",
        "\n",
        "'''\n",
        "Expressions combine variables, operators, and values to produce a new value\n",
        "'''\n",
        "z = x + 2*y # Expression with variables\n",
        "print(z)\n",
        "\n"
      ],
      "metadata": {
        "colab": {
          "base_uri": "https://localhost:8080/"
        },
        "id": "tsO8H9CzkEKe",
        "outputId": "6baf09a0-6841-400a-a53f-c0b59ec17cdc"
      },
      "execution_count": 4,
      "outputs": [
        {
          "output_type": "stream",
          "name": "stdout",
          "text": [
            "17\n"
          ]
        }
      ]
    },
    {
      "cell_type": "code",
      "source": [
        "# Section 1.5\n",
        "\n",
        "'''\n",
        "Control flow statements like if/else allow executing code conditionally:\n",
        "'''\n",
        "\n",
        "a = 15\n",
        "b = 20\n",
        "\n",
        "if a > b:\n",
        "  print(\"a is greater\")\n",
        "else:\n",
        "  print(\"b is greater\")"
      ],
      "metadata": {
        "colab": {
          "base_uri": "https://localhost:8080/"
        },
        "id": "jxuzEUe2k2TD",
        "outputId": "c91ffdfa-946e-4f1c-dbae-c2d8661147d3"
      },
      "execution_count": 2,
      "outputs": [
        {
          "output_type": "stream",
          "name": "stdout",
          "text": [
            "b is greater\n"
          ]
        }
      ]
    },
    {
      "cell_type": "code",
      "source": [
        "# Section 1.6\n",
        "'''\n",
        "The things I learned from this section are :\n",
        "\n",
        "1. str(), int(), float() convert between string and numbers\n",
        "2. print() and str() show user-friendly string representation\n",
        "3. repr() shows code-level representation for debugging\n",
        "4. format() and f-strings {} allow formatted output\n",
        "5. Strings are key Python data types used to represent text.\n",
        "'''\n"
      ],
      "metadata": {
        "id": "U2Vs6ehelVXD"
      },
      "execution_count": null,
      "outputs": []
    },
    {
      "cell_type": "code",
      "source": [
        "#section 1.7\n",
        "\n",
        "'''\n",
        "the things I learned from the section are mentioned below:\n",
        "\n",
        "1. Use open() to open a file and get a file object\n",
        "2. To read a file use file.read() to read entire contents as a string\n",
        "3. Use for line in file: to iterate over lines\n",
        "\n",
        "'''\n"
      ],
      "metadata": {
        "colab": {
          "base_uri": "https://localhost:8080/",
          "height": 53
        },
        "id": "PajZ9Nj-mAjn",
        "outputId": "9d06b9c5-12cf-46dd-d06c-59df8b0eba1f"
      },
      "execution_count": 6,
      "outputs": [
        {
          "output_type": "execute_result",
          "data": {
            "text/plain": [
              "'\\nthe things I learned from the section are mentioned below:\\n\\n1. Use open() to open a file and get a file object\\n2. To read a file use file.read() to read entire contents as a string\\n3. Use for line in file: to iterate over lines\\n\\n'"
            ],
            "application/vnd.google.colaboratory.intrinsic+json": {
              "type": "string"
            }
          },
          "metadata": {},
          "execution_count": 6
        }
      ]
    },
    {
      "cell_type": "code",
      "source": [
        "# Section 1.8\n",
        "'''\n",
        "Few examples on how to create list and append them\n",
        "'''\n",
        "names = ['Dave', 'Paula', 'Thomas', 'Lewis']\n",
        "\n",
        "a = names[2]       # Accessing the third item ('Thomas')\n",
        "names[2] = 'Tom'   # Modifying the third item\n",
        "print(names[-1])   # Accessing the last item ('Lewis')\n",
        "\n",
        "a = [1, 'Dave', 3.14, ['Mark', 7, 9, [100, 101]], 10]\n",
        "print(a[1])          # Accessing an item ('Dave')\n",
        "print(a[3][2])       # Accessing an item within a nested list (9)\n",
        "print(a[3][3][1])    # Accessing an item within a deeply nested list (101)\n",
        "\n"
      ],
      "metadata": {
        "colab": {
          "base_uri": "https://localhost:8080/"
        },
        "id": "_ksq9oCxnXiN",
        "outputId": "2f2950ce-37fc-4407-d7a4-4e2e3a9406e9"
      },
      "execution_count": 11,
      "outputs": [
        {
          "output_type": "stream",
          "name": "stdout",
          "text": [
            "Lewis\n",
            "Dave\n",
            "9\n",
            "101\n"
          ]
        }
      ]
    },
    {
      "cell_type": "code",
      "source": [
        "#Section 1.9\n",
        "\n",
        "'''\n",
        "Explains about tuples\n",
        "A tuple is an ordered, immutable collection of elements in Python.\n",
        "'''\n",
        "# Creating a tuple\n",
        "my_tuple = (1, 'two', 3.0)\n",
        "\n",
        "# Accessing elements\n",
        "print(my_tuple[0])    # Output: 1\n",
        "\n",
        "# Slicing\n",
        "print(my_tuple[1:])   # Output: ('two', 3.0)\n",
        "\n",
        "# Unpacking\n",
        "a, b, c = my_tuple\n",
        "print(a, b, c)        # Output: 1 two 3.0\n"
      ],
      "metadata": {
        "colab": {
          "base_uri": "https://localhost:8080/"
        },
        "id": "AoRnm2_8oBTV",
        "outputId": "0ff0800a-8e12-42e6-cf17-5a96343b1422"
      },
      "execution_count": 12,
      "outputs": [
        {
          "output_type": "stream",
          "name": "stdout",
          "text": [
            "1\n",
            "('two', 3.0)\n",
            "1 two 3.0\n"
          ]
        }
      ]
    },
    {
      "cell_type": "code",
      "source": [
        "# Section 1.10\n",
        "\n",
        "'''\n",
        "Sets are unordered collections of unique objects.\n",
        "\n",
        "'''\n",
        "# Creating sets\n",
        "fruits_set1 = {'apple', 'banana', 'orange', 'kiwi'}\n",
        "fruits_set2 = {'orange', 'kiwi', 'grape', 'pear'}\n",
        "\n",
        "# Displaying sets\n",
        "print(\"Set 1:\", fruits_set1)\n",
        "print(\"Set 2:\", fruits_set2)\n",
        "\n",
        "# Set operations\n",
        "union_set = fruits_set1 | fruits_set2   # Union\n",
        "intersection_set = fruits_set1 & fruits_set2  # Intersection\n",
        "difference_set1 = fruits_set1 - fruits_set2    # Difference\n",
        "difference_set2 = fruits_set2 - fruits_set1    # Difference\n",
        "symmetric_difference_set = fruits_set1 ^ fruits_set2  # Symmetric Difference\n",
        "\n",
        "print(\"Union Set:\", union_set)\n",
        "print(\"Intersection Set:\", intersection_set)\n",
        "print(\"Difference Set 1:\", difference_set1)\n",
        "print(\"Difference Set 2:\", difference_set2)\n",
        "print(\"Symmetric Difference Set:\", symmetric_difference_set)\n",
        "\n"
      ],
      "metadata": {
        "colab": {
          "base_uri": "https://localhost:8080/"
        },
        "id": "KEnE6iSyocgt",
        "outputId": "3a857de7-fd9c-4357-9ec3-a849dbfcef74"
      },
      "execution_count": 14,
      "outputs": [
        {
          "output_type": "stream",
          "name": "stdout",
          "text": [
            "Set 1: {'banana', 'orange', 'apple', 'kiwi'}\n",
            "Set 2: {'kiwi', 'orange', 'grape', 'pear'}\n",
            "Union Set: {'banana', 'pear', 'grape', 'orange', 'kiwi', 'apple'}\n",
            "Intersection Set: {'kiwi', 'orange'}\n",
            "Difference Set 1: {'banana', 'apple'}\n",
            "Difference Set 2: {'pear', 'grape'}\n",
            "Symmetric Difference Set: {'banana', 'pear', 'grape', 'apple'}\n"
          ]
        }
      ]
    },
    {
      "cell_type": "code",
      "source": [
        "# Section 1.11\n",
        "\n",
        "'''\n",
        "Explains about dictionaries. Dictionaries are created using key-value pairs enclosed in curly braces.\n",
        "'''\n",
        "# Creating a dictionary\n",
        "stock_info = {\n",
        "    'GOOG': {'shares': 100, 'price': 490.10},\n",
        "    'AAPL': {'shares': 50, 'price': 123.5},\n",
        "    'IBM': {'shares': 75, 'price': 91.5},\n",
        "    'MSFT': {'shares': 120, 'price': 52.13}\n",
        "}\n",
        "\n",
        "# Accessing and modifying dictionary items\n",
        "name = stock_info['GOOG']['shares']\n",
        "cost = stock_info['AAPL']['shares'] * stock_info['AAPL']['price']\n",
        "stock_info['IBM']['shares'] = 90\n",
        "stock_info['AMZN'] = {'shares': 80, 'price': 3200.75}\n",
        "\n",
        "# Displaying the modified dictionary\n",
        "print(\"Modified Stock Info:\", stock_info)\n",
        "\n",
        "# Checking dictionary membership\n",
        "if 'IBM' in stock_info:\n",
        "    ibm_shares = stock_info['IBM']['shares']\n",
        "else:\n",
        "    ibm_shares = 0\n",
        "\n",
        "# Using get() method for membership check\n",
        "msft_shares = stock_info.get('MSFT', {'shares': 0})['shares']\n",
        "\n",
        "# Deleting an item from the dictionary\n",
        "del stock_info['GOOG']\n",
        "\n",
        "# Displaying the dictionary after deletion\n",
        "print(\"Stock Info after Deletion:\", stock_info)\n",
        "\n",
        "# Iterating over key-value pairs\n",
        "print(\"Stock Prices:\")\n",
        "for symbol, data in stock_info.items():\n",
        "    print(f'{symbol}: {data[\"shares\"]} shares at ${data[\"price\"]}')\n",
        "\n",
        "# Creating a dictionary using comprehension\n",
        "companies = ['GOOG', 'AAPL', 'IBM', 'MSFT']\n",
        "initial_shares = 50\n",
        "initial_prices = [100.0, 150.5, 90.0, 50.0]\n",
        "portfolio = {company: {'shares': initial_shares, 'price': price} for company, price in zip(companies, initial_prices)}\n",
        "\n",
        "# Displaying the created dictionary\n",
        "print(\"Portfolio:\", portfolio)\n"
      ],
      "metadata": {
        "colab": {
          "base_uri": "https://localhost:8080/"
        },
        "id": "nfm5y-CwpIFI",
        "outputId": "97ac69e0-04c3-4642-a3df-6620ac9fc9e0"
      },
      "execution_count": 15,
      "outputs": [
        {
          "output_type": "stream",
          "name": "stdout",
          "text": [
            "Modified Stock Info: {'GOOG': {'shares': 100, 'price': 490.1}, 'AAPL': {'shares': 50, 'price': 123.5}, 'IBM': {'shares': 90, 'price': 91.5}, 'MSFT': {'shares': 120, 'price': 52.13}, 'AMZN': {'shares': 80, 'price': 3200.75}}\n",
            "Stock Info after Deletion: {'AAPL': {'shares': 50, 'price': 123.5}, 'IBM': {'shares': 90, 'price': 91.5}, 'MSFT': {'shares': 120, 'price': 52.13}, 'AMZN': {'shares': 80, 'price': 3200.75}}\n",
            "Stock Prices:\n",
            "AAPL: 50 shares at $123.5\n",
            "IBM: 90 shares at $91.5\n",
            "MSFT: 120 shares at $52.13\n",
            "AMZN: 80 shares at $3200.75\n",
            "Portfolio: {'GOOG': {'shares': 50, 'price': 100.0}, 'AAPL': {'shares': 50, 'price': 150.5}, 'IBM': {'shares': 50, 'price': 90.0}, 'MSFT': {'shares': 50, 'price': 50.0}}\n"
          ]
        }
      ]
    },
    {
      "cell_type": "code",
      "source": [
        "#Section 1.12\n",
        "'''\n",
        "Basically talks about different iterations of loops.\n",
        "\n",
        "'''"
      ],
      "metadata": {
        "id": "zcuZ0yYFpm0A"
      },
      "execution_count": null,
      "outputs": []
    },
    {
      "cell_type": "code",
      "source": [
        "#Section 1.13\n",
        "\n",
        "'''\n",
        "The concept of function is discussed in this section\n",
        "'''\n",
        "def is_even(number):\n",
        "    '''\n",
        "    Check if a number is even.\n",
        "\n",
        "    Parameters:\n",
        "    - number (int): The integer to be checked.\n",
        "\n",
        "    Returns:\n",
        "    - bool: True if the number is even, False otherwise.\n",
        "    '''\n",
        "    return number % 2 == 0\n",
        "\n",
        "# Example Usage:\n",
        "user_number = int(input(\"Enter an integer: \"))\n",
        "\n",
        "if is_even(user_number):\n",
        "    print(f'{user_number} is an even number.')\n",
        "else:\n",
        "    print(f'{user_number} is an odd number.')\n"
      ],
      "metadata": {
        "colab": {
          "base_uri": "https://localhost:8080/"
        },
        "id": "wHlYG5BfrkYS",
        "outputId": "ad22d552-633b-4fc3-89c1-a3fb17ecc9d1"
      },
      "execution_count": 23,
      "outputs": [
        {
          "output_type": "stream",
          "name": "stdout",
          "text": [
            "Enter an integer: 4\n",
            "4 is an even number.\n"
          ]
        }
      ]
    },
    {
      "cell_type": "code",
      "source": [
        "# Section 1.14\n",
        "\n",
        "'''\n",
        "Learned about Exception handling with 'try' and ' except'.\n",
        "'''\n",
        "try:\n",
        "\n",
        "    user_input = input(\"Enter an integer: \")\n",
        "    number = int(user_input)\n",
        "    print(\"You entered:\", number)\n",
        "\n",
        "except ValueError as err:\n",
        "    # Handle the ValueError (invalid literal for int())\n",
        "    print(\"Error:\", err)\n",
        "    print(\"Please enter a valid integer.\")\n",
        "\n",
        "\n",
        "'''\n",
        "Also learned about simplifying Resource Management with \"with\" Statement\n",
        "'''\n"
      ],
      "metadata": {
        "colab": {
          "base_uri": "https://localhost:8080/",
          "height": 71
        },
        "id": "Va9Cdp1LpxlG",
        "outputId": "76d5ce9d-a446-4ae5-faa8-6aa519888f41"
      },
      "execution_count": 22,
      "outputs": [
        {
          "output_type": "stream",
          "name": "stdout",
          "text": [
            "Enter an integer: 1\n",
            "You entered: 1\n"
          ]
        },
        {
          "output_type": "execute_result",
          "data": {
            "text/plain": [
              "'\\nAlso learned about simplifying Resource Management with \"with\" Statement\\n'"
            ],
            "application/vnd.google.colaboratory.intrinsic+json": {
              "type": "string"
            }
          },
          "metadata": {},
          "execution_count": 22
        }
      ]
    },
    {
      "cell_type": "code",
      "source": [
        "# Section 1.15\n",
        "'''\n",
        "This section introduces the use of raise SystemExit() to force a program to exit.\n",
        "'''\n"
      ],
      "metadata": {
        "id": "uELztZaRrRuz"
      },
      "execution_count": null,
      "outputs": []
    },
    {
      "cell_type": "code",
      "source": [
        "#Section 1.16\n",
        "\n",
        "'''\n",
        "All values used in a Python program are objects.\n",
        "An object consists of internal data and methods that perform operations on that data.\n",
        "'''\n",
        "'''\n",
        "The \"dir()\" function lists the methods available on an object.\n",
        "The \"class\" statement is used to define new types of objects for object-oriented programming.\n",
        "Special methods like \"__init__\" are used for initialization.\n",
        "\n",
        "'''\n",
        "'''\n",
        "I have tried creating example after reading this section\n",
        "'''\n",
        "class Person:\n",
        "    def __init__(self, name, age):\n",
        "        self.name = name\n",
        "        self.age = age\n",
        "\n",
        "    def greet(self):\n",
        "        return f\"Hello, my name is {self.name} and I am {self.age} years old.\"\n",
        "\n",
        "    def have_birthday(self):\n",
        "        self.age += 1\n",
        "        return f\"Happy Birthday! I am now {self.age} years old.\"\n",
        "\n",
        "\n",
        "person1 = Person(\"RAM\", 25)\n",
        "person2 = Person(\"BISHNU\", 30)\n",
        "\n",
        "print(person1.name)\n",
        "print(person2.greet())\n",
        "\n",
        "print(person1.have_birthday())\n",
        "\n"
      ],
      "metadata": {
        "colab": {
          "base_uri": "https://localhost:8080/"
        },
        "id": "hFH7RTcUsT_E",
        "outputId": "eb8011a0-071c-4e0b-a1c9-8530b1be57a7"
      },
      "execution_count": 24,
      "outputs": [
        {
          "output_type": "stream",
          "name": "stdout",
          "text": [
            "RAM\n",
            "Hello, my name is BISHNU and I am 30 years old.\n",
            "Happy Birthday! I am now 26 years old.\n"
          ]
        }
      ]
    },
    {
      "cell_type": "code",
      "source": [
        "#Section 1.17\n",
        "\n",
        "'''\n",
        "This section is about modules.\n",
        "Modules in Python are created by putting relevant statements and definitions into a file with a .py suffix.\n",
        "The \"import\" statement is used to use a module in another file.\n",
        "Python has a vast number of third-party modules available on the Python Package Index (PyPI) that can be installed to address various tasks.\n",
        "'''"
      ],
      "metadata": {
        "id": "qUPaMbLYtWwM"
      },
      "execution_count": null,
      "outputs": []
    },
    {
      "cell_type": "code",
      "source": [
        "#Section 1.18\n",
        "\n",
        "'''\n",
        "This section covers how a Python script can be designed to function both as a script and as an importable library.\n",
        "From the section I learned that Python files can serve two purposes: they can be executed as standalone scripts\n",
        "or imported as modules into other scripts.\n",
        "To encapsulate code that should only run when the script is executed directly, the common idiom is to use if __name__ == '__main__'\n",
        "The argparse standard library module provides a more robust and structured way to parse command-line arguments compared to manually processing sys.argv.\n",
        "'''"
      ],
      "metadata": {
        "id": "2VgXN2tiuBIO"
      },
      "execution_count": null,
      "outputs": []
    },
    {
      "cell_type": "code",
      "source": [
        "#Section 1.19\n",
        "\n",
        "'''\n",
        "The section introduces the concept of packages in Python and addresses some common considerations when organizing code into packages\n",
        "packages are directories containing init.py.\n",
        "import package.module imports from the package namespace.\n",
        "Using package-relative imports avoids hardcoding the package name, making it more flexible in case of package renaming or movement within the project.\n",
        "'''\n"
      ],
      "metadata": {
        "id": "Lb6Gc-yNuzBG"
      },
      "execution_count": null,
      "outputs": []
    },
    {
      "cell_type": "code",
      "source": [
        "# Section 1.20\n",
        "\n",
        "'''\n",
        "Large code bases are organized into packages.\n",
        "Packages help manage import statements and module namespaces during programming.\n",
        "Always choose a unique name for the top-level directory (package) to isolate your code from others.\n",
        "Also as long as the main set of source code files resides in a proper package (with __init__.py), the structure is suitable.\n",
        "'''\n",
        "\n"
      ],
      "metadata": {
        "id": "DZyCmci1viSX"
      },
      "execution_count": null,
      "outputs": []
    },
    {
      "cell_type": "code",
      "source": [
        "#Section 1.21\n",
        "\n",
        "'''\n",
        "The section provides information on managing third-party packages in Python.\n",
        "To install a third-party package, we have to use the pip command.\n",
        "Using virtual environments helps create isolated environments for your projects,\n",
        "preventing interference with system-wide Python installations and simplifying package management.\n",
        "'''"
      ],
      "metadata": {
        "id": "-SYuBl_-wXjW"
      },
      "execution_count": null,
      "outputs": []
    }
  ]
}