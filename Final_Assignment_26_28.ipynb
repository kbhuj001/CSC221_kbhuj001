{
  "cells": [
    {
      "cell_type": "markdown",
      "metadata": {
        "id": "view-in-github",
        "colab_type": "text"
      },
      "source": [
        "<a href=\"https://colab.research.google.com/github/kbhuj001/CSC221_kbhuj001/blob/main/Final_Assignment_26_28.ipynb\" target=\"_parent\"><img src=\"https://colab.research.google.com/assets/colab-badge.svg\" alt=\"Open In Colab\"/></a>"
      ]
    },
    {
      "cell_type": "code",
      "execution_count": null,
      "metadata": {
        "colab": {
          "base_uri": "https://localhost:8080/"
        },
        "id": "nLldROH08wXp",
        "outputId": "c4e851a6-94d5-41cb-9b47-9838d58835b7"
      },
      "outputs": [
        {
          "output_type": "stream",
          "name": "stdout",
          "text": [
            "Enter an integer: 1\n",
            "You entered an integer: 1\n",
            "Enter a floating-point number: 3\n",
            "You entered a float: 3.0\n",
            "Sum of the integer and float: 4.0\n",
            "Product of the integer and float: 3.0\n"
          ]
        }
      ],
      "source": [
        "#1  Demonstrate int, float, and string\n",
        "\n",
        "user_input_integer = int(input(\"Enter an integer: \"))  # Taking user input for an integer\n",
        "print(\"You entered an integer:\", user_input_integer)\n",
        "\n",
        "user_input_float = float(input(\"Enter a floating-point number: \"))  # Taking user input for a float\n",
        "print(\"You entered a float:\", user_input_float)\n",
        "\n",
        "result_sum = user_input_integer + user_input_float   # Performing some calculations\n",
        "result_product = user_input_integer * user_input_float\n",
        "\n",
        "print(\"Sum of the integer and float:\", str(result_sum))  # Performing some calculations\n",
        "print(\"Product of the integer and float:\", str(result_product))\n"
      ]
    },
    {
      "cell_type": "code",
      "execution_count": null,
      "metadata": {
        "colab": {
          "base_uri": "https://localhost:8080/"
        },
        "id": "onpMtsQP9MdK",
        "outputId": "639e2a3f-80ce-429d-f09e-ed9ea61d973b"
      },
      "outputs": [
        {
          "name": "stdout",
          "output_type": "stream",
          "text": [
            "Product: Mac Book pro M2\n",
            "Price per unit: $1200.5\n",
            "Quantity: 2\n",
            "Total cost: $2401.0\n"
          ]
        }
      ],
      "source": [
        "#2 Show how an f-string works (f'Something like this with {something} in it.')\n",
        "\n",
        "product_name = \"Mac Book pro M2\"\n",
        "price = 1200.50\n",
        "quantity = 2\n",
        "\n",
        "total_cost = price * quantity\n",
        "\n",
        "# Creating an f-string to display information\n",
        "invoice_summary = f'Product: {product_name}\\nPrice per unit: ${price}\\nQuantity: {quantity}\\nTotal cost: ${total_cost}'\n",
        "\n",
        "# Printing the f-string\n",
        "print(invoice_summary)\n"
      ]
    },
    {
      "cell_type": "code",
      "execution_count": null,
      "metadata": {
        "id": "3aGwk37c9jGq",
        "colab": {
          "base_uri": "https://localhost:8080/"
        },
        "outputId": "7b1a917d-6140-42cb-ee9f-6f8938851185"
      },
      "outputs": [
        {
          "output_type": "stream",
          "name": "stdout",
          "text": [
            "MY NAME IS KRISH\n",
            "my name is krish\n",
            "my name is krish\n"
          ]
        }
      ],
      "source": [
        "#3  Demonstrate some methods of the string class\n",
        "my_string = \"my name is krish\"\n",
        "print(my_string.upper())  # Output: my name is krish\n",
        "print(my_string.lower())  # Output: my name is krish\n",
        "print(my_string.strip())\n"
      ]
    },
    {
      "cell_type": "code",
      "execution_count": null,
      "metadata": {
        "colab": {
          "base_uri": "https://localhost:8080/"
        },
        "id": "BFLEYYna-yN9",
        "outputId": "9fbfb62a-f348-4d79-ee7e-6578032643ae"
      },
      "outputs": [
        {
          "name": "stdout",
          "output_type": "stream",
          "text": [
            "soccer_players List: ['Messi', 'Ronaldo', 'Lampard', 'Drogba']\n",
            "First soccer_player: Messi\n",
            "Second soccer_player: Ronaldo\n",
            "Updated soccer_players List: ['Messi', 'Ronaldo', 'Lampard', 'Terry']\n"
          ]
        }
      ],
      "source": [
        "#4 Do something with List.\n",
        "\n",
        "# Creating a list\n",
        "soccer_players = ['Messi', 'Ronaldo', 'Lampard', 'Drogba']\n",
        "\n",
        "# Accessing elements\n",
        "first_soccer_player =soccer_players[0]\n",
        "second_soccer_player =soccer_players[1]\n",
        "\n",
        "print(\"soccer_players List:\", soccer_players)\n",
        "print(\"First soccer_player:\", first_soccer_player)\n",
        "print(\"Second soccer_player:\", second_soccer_player)\n",
        "\n",
        "\n",
        "# appending and removing in the list\n",
        "\n",
        "soccer_players.append('Terry')\n",
        "soccer_players.remove('Drogba')\n",
        "\n",
        "print(\"Updated soccer_players List:\", soccer_players)\n",
        "\n",
        "\n"
      ]
    },
    {
      "cell_type": "code",
      "execution_count": null,
      "metadata": {
        "id": "29Mj7uzBBGoO",
        "colab": {
          "base_uri": "https://localhost:8080/"
        },
        "outputId": "16dbfb88-946b-4d75-b442-3dea63c429f3"
      },
      "outputs": [
        {
          "output_type": "stream",
          "name": "stdout",
          "text": [
            "\n",
            "Teams List of Lists:\n",
            "['Messi', 'Suarez', 'Neymar']\n",
            "['Ronaldo', 'Benzema', 'Bale']\n",
            "['Lampard', 'Drogba', 'Terry']\n",
            "\n",
            "First team: ['Messi', 'Suarez', 'Neymar']\n",
            "Second player in the first team: Suarez\n"
          ]
        }
      ],
      "source": [
        "#5 Do something with a list of lists\n",
        "teams = [\n",
        "    ['Messi', 'Suarez', 'Neymar'],\n",
        "    ['Ronaldo', 'Benzema', 'Bale'],\n",
        "    ['Lampard', 'Drogba', 'Terry']\n",
        "]\n",
        "\n",
        "# Accessing elements in the list of lists\n",
        "first_team = teams[0]\n",
        "second_player_in_first_team = teams[0][1]\n",
        "\n",
        "print(\"\\nTeams List of Lists:\")\n",
        "for team in teams:\n",
        "    print(team)\n",
        "\n",
        "print(\"\\nFirst team:\", first_team)\n",
        "print(\"Second player in the first team:\", second_player_in_first_team)\n"
      ]
    },
    {
      "cell_type": "code",
      "execution_count": null,
      "metadata": {
        "colab": {
          "base_uri": "https://localhost:8080/"
        },
        "id": "WMWUtKvfDTpY",
        "outputId": "3e70a0b0-bb0e-4a23-d612-6a066ecd6fb9"
      },
      "outputs": [
        {
          "name": "stdout",
          "output_type": "stream",
          "text": [
            "Original List: [{'name': 'Ronaldo', 'age': 38}, {'name': 'Drogba', 'age': 45}, {'name': 'Messi', 'age': 36}, {'name': 'Terry', 'age': 43}]\n",
            "Sorted Representation by Age: [{'name': 'Messi', 'age': 36}, {'name': 'Ronaldo', 'age': 38}, {'name': 'Terry', 'age': 43}, {'name': 'Drogba', 'age': 45}]\n"
          ]
        }
      ],
      "source": [
        "#6 Show how to print a list in sorted order without changing it.\n",
        "\n",
        "# Original list of dictionaries\n",
        "soccer_players = [\n",
        "\n",
        "    {\"name\": \"Ronaldo\", \"age\": 38},\n",
        "    {\"name\": \"Drogba\", \"age\": 45},\n",
        "    {\"name\": \"Messi\", \"age\": 36},\n",
        "    {\"name\": \"Terry\", \"age\": 43},\n",
        "]\n",
        "\n",
        "# Creating a sorted representation based on age without modifying the original list\n",
        "sorted_soccer_players_by_age = sorted(soccer_players, key=lambda x: x[\"age\"])\n",
        "\n",
        "# Displaying the original and sorted lists\n",
        "print(\"Original List:\", soccer_players)\n",
        "print(\"Sorted Representation by Age:\", sorted_soccer_players_by_age)\n"
      ]
    },
    {
      "cell_type": "code",
      "execution_count": null,
      "metadata": {
        "colab": {
          "base_uri": "https://localhost:8080/"
        },
        "id": "Jz-c0a_HEG9Z",
        "outputId": "6d0836a5-38af-45ab-a3c9-219d2987ffbd"
      },
      "outputs": [
        {
          "name": "stdout",
          "output_type": "stream",
          "text": [
            "1\n",
            "2\n",
            "3\n",
            "4\n",
            "5\n",
            "6\n",
            "7\n",
            "8\n",
            "9\n",
            "10\n"
          ]
        }
      ],
      "source": [
        "#7 Printing a series of numbers using for and range\n",
        "\n",
        "for number in range(1, 11):\n",
        "    print(number)\n"
      ]
    },
    {
      "cell_type": "code",
      "execution_count": null,
      "metadata": {
        "colab": {
          "base_uri": "https://localhost:8080/"
        },
        "id": "vPnx6uIvEgT9",
        "outputId": "0b90788a-c626-4719-e85e-a078a0770b16"
      },
      "outputs": [
        {
          "name": "stdout",
          "output_type": "stream",
          "text": [
            "[1, 4, 9, 16, 25, 36, 64, 81, 100, 121, 144, 169, 225, 256, 289, 324, 361, 400, 484, 529, 576, 625, 676, 729, 841, 900, 961, 1024, 1089, 1156, 1296, 1369, 1444, 1521, 1600, 1681, 1849, 1936, 2025, 2116, 2209, 2304, 2500, 2601, 2704, 2809, 2916, 3025, 3249, 3364, 3481, 3600, 3721, 3844, 4096, 4225, 4356, 4489, 4624, 4761, 5041, 5184, 5329, 5476, 5625, 5776, 6084, 6241, 6400, 6561, 6724, 6889, 7225, 7396, 7569, 7744, 7921, 8100, 8464, 8649, 8836, 9025, 9216, 9409, 9801, 10000, 10201, 10404, 10609, 10816, 11236, 11449, 11664, 11881, 12100, 12321, 12769, 12996, 13225, 13456, 13689, 13924, 14400, 14641, 14884, 15129, 15376, 15625, 16129, 16384, 16641, 16900, 17161, 17424, 17956, 18225, 18496, 18769, 19044, 19321, 19881, 20164, 20449, 20736, 21025, 21316, 21904, 22201, 22500, 22801, 23104, 23409, 24025, 24336, 24649, 24964, 25281, 25600, 26244, 26569, 26896, 27225, 27556, 27889, 28561, 28900, 29241, 29584, 29929, 30276, 30976, 31329, 31684, 32041, 32400, 32761, 33489, 33856, 34225, 34596, 34969, 35344, 36100, 36481, 36864, 37249, 37636, 38025, 38809, 39204, 39601, 40000, 40401, 40804, 41616, 42025, 42436, 42849, 43264, 43681, 44521, 44944, 45369, 45796, 46225, 46656, 47524, 47961, 48400, 48841, 49284, 49729, 50625, 51076, 51529, 51984, 52441, 52900, 53824, 54289, 54756, 55225, 55696, 56169, 57121, 57600, 58081, 58564, 59049, 59536, 60516, 61009, 61504, 62001, 62500, 63001, 64009, 64516, 65025, 65536, 66049, 66564, 67600, 68121, 68644, 69169, 69696, 70225, 71289, 71824, 72361, 72900, 73441, 73984, 75076, 75625, 76176, 76729, 77284, 77841, 78961, 79524, 80089, 80656, 81225, 81796, 82944, 83521, 84100, 84681, 85264, 85849, 87025, 87616, 88209, 88804, 89401, 90000, 91204, 91809, 92416, 93025, 93636, 94249, 95481, 96100, 96721, 97344, 97969, 98596, 99856, 100489, 101124, 101761, 102400, 103041, 104329, 104976, 105625, 106276, 106929, 107584, 108900, 109561, 110224, 110889, 111556, 112225, 113569, 114244, 114921, 115600, 116281, 116964, 118336, 119025, 119716, 120409, 121104, 121801, 123201, 123904, 124609, 125316, 126025, 126736, 128164, 128881, 129600, 130321, 131044, 131769, 133225, 133956, 134689, 135424, 136161, 136900, 138384, 139129, 139876, 140625, 141376, 142129, 143641, 144400, 145161, 145924, 146689, 147456, 148996, 149769, 150544, 151321, 152100, 152881, 154449, 155236, 156025, 156816, 157609, 158404, 160000, 160801, 161604, 162409, 163216, 164025, 165649, 166464, 167281, 168100, 168921, 169744, 171396, 172225, 173056, 173889, 174724, 175561, 177241, 178084, 178929, 179776, 180625, 181476, 183184, 184041, 184900, 185761, 186624, 187489, 189225, 190096, 190969, 191844, 192721, 193600, 195364, 196249, 197136, 198025, 198916, 199809, 201601, 202500, 203401, 204304, 205209, 206116, 207936, 208849, 209764, 210681, 211600, 212521, 214369, 215296, 216225, 217156, 218089, 219024, 220900, 221841, 222784, 223729, 224676, 225625, 227529, 228484, 229441, 230400, 231361, 232324, 234256, 235225, 236196, 237169, 238144, 239121, 241081, 242064, 243049, 244036, 245025, 246016, 248004, 249001, 250000, 251001, 252004, 253009, 255025, 256036, 257049, 258064, 259081, 260100, 262144, 263169, 264196, 265225, 266256, 267289, 269361, 270400, 271441, 272484, 273529, 274576, 276676, 277729, 278784, 279841, 280900, 281961, 284089, 285156, 286225, 287296, 288369, 289444, 291600, 292681, 293764, 294849, 295936, 297025, 299209, 300304, 301401, 302500, 303601, 304704, 306916, 308025, 309136, 310249, 311364, 312481, 314721, 315844, 316969, 318096, 319225, 320356, 322624, 323761, 324900, 326041, 327184, 328329, 330625, 331776, 332929, 334084, 335241, 336400, 338724, 339889, 341056, 342225, 343396, 344569, 346921, 348100, 349281, 350464, 351649, 352836, 355216, 356409, 357604, 358801, 360000, 361201, 363609, 364816, 366025, 367236, 368449, 369664, 372100, 373321, 374544, 375769, 376996, 378225, 380689, 381924, 383161, 384400, 385641, 386884, 389376, 390625, 391876, 393129, 394384, 395641, 398161, 399424, 400689, 401956, 403225, 404496, 407044, 408321, 409600, 410881, 412164, 413449, 416025, 417316, 418609, 419904, 421201, 422500, 425104, 426409, 427716, 429025, 430336, 431649, 434281, 435600, 436921, 438244, 439569, 440896, 443556, 444889, 446224, 447561, 448900, 450241, 452929, 454276, 455625, 456976, 458329, 459684, 462400, 463761, 465124, 466489, 467856, 469225, 471969, 473344, 474721, 476100, 477481, 478864, 481636, 483025, 484416, 485809, 487204, 488601, 491401, 492804, 494209, 495616, 497025, 498436, 501264, 502681, 504100, 505521, 506944, 508369, 511225, 512656, 514089, 515524, 516961, 518400, 521284, 522729, 524176, 525625, 527076, 528529, 531441, 532900, 534361, 535824, 537289, 538756, 541696, 543169, 544644, 546121, 547600, 549081, 552049, 553536, 555025, 556516, 558009, 559504, 562500, 564001, 565504, 567009, 568516, 570025, 573049, 574564, 576081, 577600, 579121, 580644, 583696, 585225, 586756, 588289, 589824, 591361, 594441, 595984, 597529, 599076, 600625, 602176, 605284, 606841, 608400, 609961, 611524, 613089, 616225, 617796, 619369, 620944, 622521, 624100, 627264, 628849, 630436, 632025, 633616, 635209, 638401, 640000, 641601, 643204, 644809, 646416, 649636, 651249, 652864, 654481, 656100, 657721, 660969, 662596, 664225, 665856, 667489, 669124, 672400, 674041, 675684, 677329, 678976, 680625, 683929, 685584, 687241, 688900, 690561, 692224, 695556, 697225, 698896, 700569, 702244, 703921, 707281, 708964, 710649, 712336, 714025, 715716, 719104, 720801, 722500, 724201, 725904, 727609, 731025, 732736, 734449, 736164, 737881, 739600, 743044, 744769, 746496, 748225, 749956, 751689, 755161, 756900, 758641, 760384, 762129, 763876, 767376, 769129, 770884, 772641, 774400, 776161, 779689, 781456, 783225, 784996, 786769, 788544, 792100, 793881, 795664, 797449, 799236, 801025, 804609, 806404, 808201, 810000, 811801, 813604, 817216, 819025, 820836, 822649, 824464, 826281, 829921, 831744, 833569, 835396, 837225, 839056, 842724, 844561, 846400, 848241, 850084, 851929, 855625, 857476, 859329, 861184, 863041, 864900, 868624, 870489, 872356, 874225, 876096, 877969, 881721, 883600, 885481, 887364, 889249, 891136, 894916, 896809, 898704, 900601, 902500, 904401, 908209, 910116, 912025, 913936, 915849, 917764, 921600, 923521, 925444, 927369, 929296, 931225, 935089, 937024, 938961, 940900, 942841, 944784, 948676, 950625, 952576, 954529, 956484, 958441, 962361, 964324, 966289, 968256, 970225, 972196, 976144, 978121, 980100, 982081, 984064, 986049, 990025, 992016, 994009, 996004, 998001, 1000000]\n"
          ]
        }
      ],
      "source": [
        "#8 Printing a series of squares of all numbers from 1 to 1000 that are not multiples of 7 using list comprehension.\n",
        "\n",
        "squares = [x**2 for x in range(1, 1001) if x % 7 != 0]\n",
        "print(squares)\n"
      ]
    },
    {
      "cell_type": "code",
      "execution_count": null,
      "metadata": {
        "id": "EkF387OUEvSt",
        "colab": {
          "base_uri": "https://localhost:8080/"
        },
        "outputId": "8eab4fdd-0312-425b-f445-12eb7cfe1906"
      },
      "outputs": [
        {
          "output_type": "stream",
          "name": "stdout",
          "text": [
            "Prime numbers from 2 to 1000: [2, 3, 5, 7, 11, 13, 17, 19, 23, 29, 31, 37, 41, 43, 47, 53, 59, 61, 67, 71, 73, 79, 83, 89, 97, 101, 103, 107, 109, 113, 127, 131, 137, 139, 149, 151, 157, 163, 167, 173, 179, 181, 191, 193, 197, 199, 211, 223, 227, 229, 233, 239, 241, 251, 257, 263, 269, 271, 277, 281, 283, 293, 307, 311, 313, 317, 331, 337, 347, 349, 353, 359, 367, 373, 379, 383, 389, 397, 401, 409, 419, 421, 431, 433, 439, 443, 449, 457, 461, 463, 467, 479, 487, 491, 499, 503, 509, 521, 523, 541, 547, 557, 563, 569, 571, 577, 587, 593, 599, 601, 607, 613, 617, 619, 631, 641, 643, 647, 653, 659, 661, 673, 677, 683, 691, 701, 709, 719, 727, 733, 739, 743, 751, 757, 761, 769, 773, 787, 797, 809, 811, 821, 823, 827, 829, 839, 853, 857, 859, 863, 877, 881, 883, 887, 907, 911, 919, 929, 937, 941, 947, 953, 967, 971, 977, 983, 991, 997]\n"
          ]
        }
      ],
      "source": [
        "#9 Generating all of the prime numbers from 2 to 1000 using the Sieve of Eratosthenes which I suggest you ask ChatGPT for help on.\n",
        "\n",
        "# Sieve of Eratosthenes is an algorithm for finding all the prime numbers up to the given limits.\n",
        "\n",
        "def sieve_of_eratosthenes(limit):\n",
        "    # Creating a boolean list \"is_prime[0..limit]\" and initializing all elements as True.\n",
        "    is_prime = [True] * (limit + 1)\n",
        "    is_prime[0] = is_prime[1] = False  # 0 and 1 are not prime numbers.\n",
        "\n",
        "    for num in range(2, int(limit**0.5) + 1):\n",
        "        if is_prime[num]:\n",
        "            # Marking all multiples of num as not prime.\n",
        "            for multiple in range(num * num, limit + 1, num):\n",
        "                is_prime[multiple] = False\n",
        "\n",
        "    # Collecting all prime numbers.\n",
        "    primes = [num for num in range(2, limit + 1) if is_prime[num]]\n",
        "    return primes\n",
        "\n",
        "# Generating prime numbers from 2 to 1000\n",
        "primes_up_to_1000 = sieve_of_eratosthenes(1000)\n",
        "\n",
        "# Printing the list of prime numbers\n",
        "print(\"Prime numbers from 2 to 1000:\", primes_up_to_1000)\n"
      ]
    },
    {
      "cell_type": "code",
      "execution_count": null,
      "metadata": {
        "id": "u32MkjaeFsjK",
        "colab": {
          "base_uri": "https://localhost:8080/"
        },
        "outputId": "6c2bf6dd-85f2-4117-a1b1-d02018277d55"
      },
      "outputs": [
        {
          "output_type": "stream",
          "name": "stdout",
          "text": [
            "2\n",
            "3\n",
            "4\n",
            "5\n",
            "6\n",
            "7\n",
            "8\n",
            "9\n",
            "10\n",
            "11\n",
            "12\n",
            "13\n",
            "14\n",
            "15\n",
            "16\n",
            "17\n",
            "18\n",
            "19\n",
            "20\n"
          ]
        }
      ],
      "source": [
        "#10  Create a generator from your function above that you can use to print the first N prime numbers.\n",
        "def sieve_of_eratosthenes_generator(limit):\n",
        "    # Creating a boolean list \"is_prime[0..limit]\" and initializing all elements as True.\n",
        "    is_prime = [True] * (limit + 1)\n",
        "    is_prime[0] = is_prime[1] = False  # 0 and 1 are not prime numbers.\n",
        "\n",
        "    # Yielding prime numbers as they are computed.\n",
        "    for num in range(2, int(limit ** 0.5)+1):\n",
        "        if is_prime[num]:\n",
        "            yield num\n",
        "\n",
        "# Generating the first N prime numbers\n",
        "N = 20  # Change N to the desired number of primes\n",
        "for prime_number in sieve_of_eratosthenes_generator(N**2):\n",
        "  if N > 0:\n",
        "    print(prime_number)\n",
        "    N-=1\n",
        "  else:\n",
        "    break"
      ]
    },
    {
      "cell_type": "code",
      "execution_count": null,
      "metadata": {
        "colab": {
          "base_uri": "https://localhost:8080/"
        },
        "id": "RUCCqF6jGNK9",
        "outputId": "4a17132e-997e-4f33-b1ec-1bbc7f1a9871"
      },
      "outputs": [
        {
          "name": "stdout",
          "output_type": "stream",
          "text": [
            "Minimum: 1\n",
            "Maximum: 1000\n",
            "Sum: 496942\n",
            "Average: 496.942\n"
          ]
        }
      ],
      "source": [
        "#11  Generate 1000 random integers in a list (random.randint(...)) and print their min, max, sum, and average\n",
        "\n",
        "import random\n",
        "\n",
        "random_list = [random.randint(1, 1000) for _ in range(1000)]\n",
        "\n",
        "minimum = min(random_list)\n",
        "maximum = max(random_list)\n",
        "sum_of_list = sum(random_list)\n",
        "average = sum(random_list) / len(random_list)\n",
        "\n",
        "print(f\"Minimum: {minimum}\")\n",
        "print(f\"Maximum: {maximum}\")\n",
        "print(f\"Sum: {sum_of_list}\")\n",
        "print(f\"Average: {average}\")"
      ]
    },
    {
      "cell_type": "code",
      "execution_count": null,
      "metadata": {
        "colab": {
          "base_uri": "https://localhost:8080/"
        },
        "id": "i-MZkjjCGfC6",
        "outputId": "dc92ff0d-2bb3-4bc6-b279-8f5f169a405b"
      },
      "outputs": [
        {
          "name": "stdout",
          "output_type": "stream",
          "text": [
            "I'm thinking of a number between 1 and 10. Can you guess what it is?\n",
            "Your guess: 10\n",
            "Too high, try again!\n",
            "Your guess: 2\n",
            "Too low, try again!\n",
            "Your guess: 3\n",
            "You got it! The number was 3\n",
            "Congrats! You won!\n",
            "Do you want to play again (y/n)?n\n",
            "Thanks for playing!\n",
            "Game over!\n"
          ]
        }
      ],
      "source": [
        "#12 Write a simple function that uses if, elif, and else and show that it works.\n",
        "\n",
        "#  a part of number guessing game that we did in lab\n",
        "\n",
        "import random\n",
        "\n",
        "print(\"I'm thinking of a number between 1 and 10. Can you guess what it is?\")\n",
        "target = random.randint(1,10)\n",
        "\n",
        "while True:\n",
        "    guess = int(input(\"Your guess: \"))\n",
        "\n",
        "    if guess < target:\n",
        "        print(\"Too low, try again!\")\n",
        "    elif guess > target:\n",
        "        print(\"Too high, try again!\")\n",
        "    else:\n",
        "        print(\"You got it! The number was\", target)\n",
        "        print(\"Congrats! You won!\")\n",
        "        play_again = input(\"Do you want to play again (y/n)?\")\n",
        "        if play_again == 'y':\n",
        "            target = random.randint(1,10)\n",
        "            print(\"I'm thinking of a new number!\")\n",
        "        else:\n",
        "            print(\"Thanks for playing!\")\n",
        "            break\n",
        "\n",
        "print(\"Game over!\")"
      ]
    },
    {
      "cell_type": "code",
      "execution_count": null,
      "metadata": {
        "id": "NYo2EhexG9XU"
      },
      "outputs": [],
      "source": [
        "#13 Show me three things from PEP-8 that surprise you"
      ]
    },
    {
      "cell_type": "code",
      "execution_count": null,
      "metadata": {
        "colab": {
          "base_uri": "https://localhost:8080/"
        },
        "id": "OsBap6j-HFUk",
        "outputId": "a0c3f87b-34d6-4dbf-8aa5-a042a4ac086e"
      },
      "outputs": [
        {
          "output_type": "stream",
          "name": "stdout",
          "text": [
            "Writing testfile.txt\n"
          ]
        }
      ],
      "source": [
        "#14 Create a file using %%file testfile.txt in Colab. The file should contain lines like the following:\n",
        "\n",
        "%%writefile testfile.txt\n",
        "Amy, cat\n",
        "Fred, dog\n",
        "Hunter, dog\n",
        "Peena, parakeet\n",
        "Rover, dog\n"
      ]
    },
    {
      "cell_type": "code",
      "source": [
        "#15  Read that file in and convert it to a dictionary. Show how you can lookup pet type by using pet name with your dictionary.\n",
        "\n",
        "# Read the file and convert it to a dictionary\n",
        "pet_dict = {}\n",
        "with open('testfile.txt', 'r') as file:\n",
        "    for line in file:\n",
        "        name, pet_type = line.strip().split(', ')\n",
        "        pet_dict[name] = pet_type\n",
        "\n",
        "print(\"Pet Dictionary:\")\n",
        "print(pet_dict)\n",
        "\n",
        "lookup_name = 'Fred'\n",
        "if lookup_name in pet_dict:\n",
        "    pet_type = pet_dict[lookup_name]\n",
        "    print(f\"{lookup_name}'s pet type is {pet_type}\")\n",
        "else:\n",
        "    print(f\"{lookup_name} not found in the dictionary.\")\n"
      ],
      "metadata": {
        "colab": {
          "base_uri": "https://localhost:8080/"
        },
        "id": "WReBb2zr1LQm",
        "outputId": "0bc8c804-59f3-4693-9069-196d6b6d1fe9"
      },
      "execution_count": null,
      "outputs": [
        {
          "output_type": "stream",
          "name": "stdout",
          "text": [
            "Pet Dictionary:\n",
            "{'Amy': 'cat', 'Fred': 'dog', 'Hunter': 'dog', 'Peena': 'parakeet', 'Rover': 'dog'}\n",
            "Fred's pet type is dog\n"
          ]
        }
      ]
    },
    {
      "cell_type": "code",
      "source": [
        "#16  Generate a list of all the unique pet types in the dictionary. Use a set to make this happen.\n",
        "\n",
        "unique_pet_types = set()\n",
        "\n",
        "for pet_type in pet_dict.values():\n",
        "  unique_pet_types.add(pet_type)\n",
        "\n",
        "unique_pet_types_list = list(unique_pet_types)\n",
        "\n",
        "print(\"Unique Pet Types:\", unique_pet_types_list)"
      ],
      "metadata": {
        "id": "0v85pYkd1i2L",
        "colab": {
          "base_uri": "https://localhost:8080/"
        },
        "outputId": "e78121e9-f71a-4890-caf5-0e80ecfd9cdf"
      },
      "execution_count": null,
      "outputs": [
        {
          "output_type": "stream",
          "name": "stdout",
          "text": [
            "Unique Pet Types: ['dog', 'parakeet', 'cat']\n"
          ]
        }
      ]
    },
    {
      "cell_type": "code",
      "source": [
        "#17 Use a while loop to print the numbers from 80 down to 16 by 8. Do not use for or range.\n",
        "\n",
        "number = 80\n",
        "\n",
        "while number >= 16:\n",
        "    print(number)\n",
        "    number -= 8\n"
      ],
      "metadata": {
        "id": "RS8SlZ9iwE3c"
      },
      "execution_count": null,
      "outputs": []
    },
    {
      "cell_type": "code",
      "source": [
        "#18 Write a function that takes three numbers and returns their min, max, and sum as a tuple\n",
        "\n",
        "def min_max_sum(num1, num2, num3):\n",
        "\n",
        "    min_value = min(num1, num2, num3)\n",
        "    max_value = max(num1, num2, num3)\n",
        "    total_sum = num1 + num2 + num3\n",
        "\n",
        "    return min_value, max_value, total_sum\n",
        "\n",
        "num1 = 15\n",
        "num2 = 8\n",
        "num3 = 24\n",
        "\n",
        "result = min_max_sum(num1, num2, num3)\n",
        "print(f\"Numbers: {num1}, {num2}, {num3}\")\n",
        "print(\"Min, Max, Sum:\", result)\n"
      ],
      "metadata": {
        "colab": {
          "base_uri": "https://localhost:8080/"
        },
        "id": "CN-x2UWdwe-Z",
        "outputId": "6652f25d-cf30-4377-f79a-e86791297525"
      },
      "execution_count": null,
      "outputs": [
        {
          "output_type": "stream",
          "name": "stdout",
          "text": [
            "Numbers: 15, 8, 24\n",
            "Min, Max, Sum: (8, 24, 47)\n"
          ]
        }
      ]
    },
    {
      "cell_type": "code",
      "source": [
        "#19 Write a function that takes any number of numbers and returns their min, max, and sum as a tuple.\n",
        "\n",
        "def min_max_sum(*args):\n",
        "\n",
        "    if not args:\n",
        "        return None\n",
        "    min_value = min(args)\n",
        "    max_value = max(args)\n",
        "    total_sum = sum(args)\n",
        "\n",
        "    return min_value, max_value, total_sum\n",
        "\n",
        "numbers = [15, 8, 24, 12, 36]\n",
        "\n",
        "result = min_max_sum(*numbers)\n",
        "print(f\"Numbers: {numbers}\")\n",
        "print(\"Min, Max, Sum:\", result)\n"
      ],
      "metadata": {
        "colab": {
          "base_uri": "https://localhost:8080/"
        },
        "id": "BaR2T03fxi1W",
        "outputId": "8c8de1c2-1374-445d-f03d-a7aeb29b4bfd"
      },
      "execution_count": null,
      "outputs": [
        {
          "output_type": "stream",
          "name": "stdout",
          "text": [
            "Numbers: [15, 8, 24, 12, 36]\n",
            "Min, Max, Sum: (8, 36, 95)\n"
          ]
        }
      ]
    },
    {
      "cell_type": "code",
      "source": [
        "#20 Create a decorator called traceroo and use it to print messages showing how your function above executes.\n",
        "\n",
        "def traceroo(func):\n",
        "    def wrapper(*args, **kwargs):\n",
        "        print(f\"Function {func.__name__} is about to be executed with arguments {args}.\")\n",
        "        result = func(*args, **kwargs)\n",
        "        print(f\"Function {func.__name__} has been executed. Result: {result}.\")\n",
        "        return result\n",
        "    return wrapper\n",
        "\n",
        "@traceroo\n",
        "def min_max_sum(*args):\n",
        "    if not args:\n",
        "        return None\n",
        "\n",
        "    min_value = min(args)\n",
        "    max_value = max(args)\n",
        "    total_sum = sum(args)\n",
        "\n",
        "    return min_value, max_value, total_sum\n",
        "numbers = [15, 8, 24, 12, 36]\n",
        "result = min_max_sum(*numbers)\n",
        "print(f\"\\nFinal Result (Min, Max, Sum): {result}\")\n"
      ],
      "metadata": {
        "colab": {
          "base_uri": "https://localhost:8080/"
        },
        "id": "RyuY_PHMxuJT",
        "outputId": "a228f63a-30f0-4920-d41c-3598e74fb23c"
      },
      "execution_count": null,
      "outputs": [
        {
          "output_type": "stream",
          "name": "stdout",
          "text": [
            "Function min_max_sum is about to be executed with arguments (15, 8, 24, 12, 36).\n",
            "Function min_max_sum has been executed. Result: (8, 36, 95).\n",
            "\n",
            "Final Result (Min, Max, Sum): (8, 36, 95)\n"
          ]
        }
      ]
    },
    {
      "cell_type": "code",
      "source": [
        "#21 Create a class that uses __init__, __repr__, __str__, and __add__. Demonstrate that all of the methods work.\n",
        "\n",
        "class Math:\n",
        "    def __init__(self, x, y):\n",
        "        self.x = x\n",
        "        self.y = y\n",
        "\n",
        "    def __repr__(self):\n",
        "        return f\"Math({self.x}, {self.y})\"\n",
        "\n",
        "    def __str__(self):\n",
        "        return f\"X: {self.x}, Y: {self.y}\"\n",
        "\n",
        "    def add(self):\n",
        "        return self.x + self.y\n",
        "\n",
        "m1 = Math(2, 3)\n",
        "print(m1)\n",
        "# Prints \"X: 2, Y: 3\"\n",
        "\n",
        "print(repr(m1))\n",
        "# Prints \"Math(2, 3)\"\n",
        "\n",
        "print(m1.add())\n",
        "# Prints 5"
      ],
      "metadata": {
        "colab": {
          "base_uri": "https://localhost:8080/"
        },
        "id": "kCSJnQHDx_Bx",
        "outputId": "d2df9de9-c264-479b-979f-c777b3b6b30c"
      },
      "execution_count": null,
      "outputs": [
        {
          "output_type": "stream",
          "name": "stdout",
          "text": [
            "X: 2, Y: 3\n",
            "Math(2, 3)\n",
            "5\n"
          ]
        }
      ]
    },
    {
      "cell_type": "code",
      "source": [
        "#22 Is your birth date included in the digits of pi?\n",
        "\n",
        "import math\n",
        "\n",
        "birthday = \"12252003\"\n",
        "\n",
        "pi_digits = str(math.pi)[2:] # convert pi to string and remove leading 3.\n",
        "\n",
        "if birthday in pi_digits:\n",
        "    print(\"Your birthday is found in the first millions digits of pi!\")\n",
        "else:\n",
        "    print(\"Your birthday not found in the first millions digits of pi.\")"
      ],
      "metadata": {
        "colab": {
          "base_uri": "https://localhost:8080/"
        },
        "id": "VhaHwA-2yS0z",
        "outputId": "4aec7bd9-28b9-4e27-f2cf-130a54ba2779"
      },
      "execution_count": null,
      "outputs": [
        {
          "output_type": "stream",
          "name": "stdout",
          "text": [
            "Your birthday not found in the first millions digits of pi.\n"
          ]
        }
      ]
    },
    {
      "cell_type": "code",
      "source": [],
      "metadata": {
        "id": "hKdbJu5T2P28"
      },
      "execution_count": null,
      "outputs": []
    },
    {
      "cell_type": "code",
      "source": [
        "##### This is the game I decided to make when I first got the project where you didn't\n",
        "##### give the full information about what to do in this project\n",
        "#### I made this using my knowledge from the lab too. It is a basic game where you can sell buy and trade your snekears.\n",
        "\n",
        "import random\n",
        "\n",
        "class Sneaker:\n",
        "    def __init__(self, name, brand, size, condition, price):\n",
        "        self.name = name\n",
        "        self.brand = brand\n",
        "        self.size = size\n",
        "        self.condition = condition\n",
        "        self.price = price\n",
        "\n",
        "    def display_info(self):\n",
        "        print(f\"{self.brand} {self.name} | Size: {self.size} | Condition: {self.condition} | Price: ${self.price}\")\n",
        "\n",
        "class Player:\n",
        "    def __init__(self, name, budget):\n",
        "        self.name = name\n",
        "        self.budget = budget\n",
        "        self.inventory = []\n",
        "\n",
        "    def display_inventory(self):\n",
        "        print(f\"\\nInventory for {self.name}:\")\n",
        "        for i, sneaker in enumerate(self.inventory, start=1):\n",
        "            print(f\"{i}. \", end=\"\")\n",
        "            sneaker.display_info()\n",
        "\n",
        "    def buy_sneaker(self, sneaker):\n",
        "        if self.budget >= sneaker.price:\n",
        "            self.inventory.append(sneaker)\n",
        "            self.budget -= sneaker.price\n",
        "            print(f\"\\nSuccessfully bought {sneaker.name} for ${sneaker.price}.\")\n",
        "        else:\n",
        "            print(\"\\nNot enough budget to buy the sneaker.\")\n",
        "\n",
        "    def sell_sneaker(self, sneaker):\n",
        "        if sneaker in self.inventory:\n",
        "            self.inventory.remove(sneaker)\n",
        "            self.budget += sneaker.price\n",
        "            print(f\"\\nSuccessfully sold {sneaker.name} for ${sneaker.price}.\")\n",
        "        else:\n",
        "            print(\"\\nThe sneaker is not in your inventory.\")\n",
        "\n",
        "    def trade_sneaker(self, other_player, sneaker_to_trade, sneaker_to_receive):\n",
        "        if sneaker_to_trade in self.inventory and sneaker_to_receive in other_player.inventory:\n",
        "            self.inventory.remove(sneaker_to_trade)\n",
        "            other_player.inventory.remove(sneaker_to_receive)\n",
        "\n",
        "            # Implement negotiation\n",
        "            if random.choice([True, False]):\n",
        "                # Negotiation successful\n",
        "                self.inventory.append(sneaker_to_receive)\n",
        "                other_player.inventory.append(sneaker_to_trade)\n",
        "                print(f\"\\nTrade successful! {self.name} traded {sneaker_to_trade.name} for {sneaker_to_receive.name}.\")\n",
        "            else:\n",
        "                # Negotiation failed\n",
        "                self.inventory.append(sneaker_to_trade)\n",
        "                other_player.inventory.append(sneaker_to_receive)\n",
        "                print(f\"\\nNegotiation failed. No trade made.\")\n",
        "        else:\n",
        "            print(\"\\nInvalid trade. Check your inventories and try again.\")\n",
        "\n",
        "class Shopkeeper:\n",
        "    def __init__(self):\n",
        "        self.inventory = [Sneaker(\"Special Edition\", \"Nike\", \"9\", \"New\", 200)]\n",
        "\n",
        "    def display_inventory(self):\n",
        "        print(\"\\nShopkeeper's Inventory:\")\n",
        "        for i, sneaker in enumerate(self.inventory, start=1):\n",
        "            print(f\"{i}. \", end=\"\")\n",
        "            sneaker.display_info()\n",
        "\n",
        "    def sell_sneaker_to_player(self, player, sneaker):\n",
        "        if sneaker in self.inventory and player.budget >= sneaker.price:\n",
        "            player.inventory.append(sneaker)\n",
        "            player.budget -= sneaker.price\n",
        "            self.inventory.remove(sneaker)\n",
        "            print(f\"\\nSuccessfully bought {sneaker.name} from the shopkeeper for ${sneaker.price}.\")\n",
        "        else:\n",
        "            print(\"\\nUnable to buy the sneaker from the shopkeeper.\")\n",
        "\n",
        "def generate_random_sneaker():\n",
        "    sneaker_names = [\"Air Max\", \"Chuck Taylor\", \"Yeezy\", \"Superstar\", \"Stan Smith\"]\n",
        "    brands = [\"Nike\", \"Converse\", \"Adidas\"]\n",
        "    sizes = [\"7\", \"8\", \"9\", \"10\", \"11\"]\n",
        "    conditions = [\"New\", \"Used\"]\n",
        "    price = random.randint(50, 500)\n",
        "    return Sneaker(\n",
        "        name=random.choice(sneaker_names),\n",
        "        brand=random.choice(brands),\n",
        "        size=random.choice(sizes),\n",
        "        condition=random.choice(conditions),\n",
        "        price=price\n",
        "    )\n",
        "\n",
        "def main():\n",
        "    player1 = Player(\"Player 1\", 1000)\n",
        "    shopkeeper = Shopkeeper()\n",
        "\n",
        "    for _ in range(3):  # Generate some initial sneakers\n",
        "        player1.inventory.append(generate_random_sneaker())\n",
        "\n",
        "    while True:\n",
        "        print(\"\\n===== Virtual Sneaker Marketplace =====\")\n",
        "        print(\"1. Display Player Inventory\")\n",
        "        print(\"2. Buy Sneaker from Shopkeeper\")\n",
        "        print(\"3. Sell Sneaker to Shopkeeper\")\n",
        "        print(\"4. Trade Sneaker with Another Player\")\n",
        "        print(\"5. Display Shopkeeper Inventory\")\n",
        "        print(\"6. Quit\")\n",
        "\n",
        "        choice = input(\"\\nEnter your choice: \")\n",
        "\n",
        "        if choice == \"1\":\n",
        "            player1.display_inventory()\n",
        "        elif choice == \"2\":\n",
        "            shopkeeper.display_inventory()\n",
        "            index_to_buy = int(input(\"Enter the index of the sneaker to buy from the shopkeeper: \")) - 1\n",
        "            shopkeeper.sell_sneaker_to_player(player1, shopkeeper.inventory[index_to_buy])\n",
        "        elif choice == \"3\":\n",
        "            player1.display_inventory()\n",
        "            index_to_sell = int(input(\"Enter the index of the sneaker to sell to the shopkeeper: \")) - 1\n",
        "            shopkeeper.inventory.append\n",
        "        elif choice == \"4\":\n",
        "            player1.display_inventory()\n",
        "            index_to_trade_from = int(input(\"Enter the index of the sneaker to trade from Player 1's inventory: \")) - 1\n",
        "            index_to_trade_to = int(input(\"Enter the index of the sneaker to trade from Player 2's inventory: \")) - 1\n",
        "        elif choice == \"5\":\n",
        "            shopkeeper.display_inventory()\n",
        "        elif choice == \"6\":\n",
        "            print(\"Exiting the Virtual Sneaker Marketplace. Goodbye!\")\n",
        "            break\n",
        "        else:\n",
        "            print(\"Invalid choice. Please enter a number between 1 and 6.\")\n",
        "\n",
        "\n",
        "\n",
        "\n",
        "if __name__ == \"__main__\":\n",
        "    main()\n",
        "\n",
        "\n"
      ],
      "metadata": {
        "colab": {
          "base_uri": "https://localhost:8080/"
        },
        "id": "T8q8xUOozGhY",
        "outputId": "e7977a22-7240-413d-8a3f-1523afedcc71"
      },
      "execution_count": null,
      "outputs": [
        {
          "output_type": "stream",
          "name": "stdout",
          "text": [
            "\n",
            "===== Virtual Sneaker Marketplace =====\n",
            "1. Display Player Inventory\n",
            "2. Buy Sneaker from Shopkeeper\n",
            "3. Sell Sneaker to Shopkeeper\n",
            "4. Trade Sneaker with Another Player\n",
            "5. Display Shopkeeper Inventory\n",
            "6. Quit\n",
            "\n",
            "Enter your choice: 4\n",
            "\n",
            "Inventory for Player 1:\n",
            "1. Nike Chuck Taylor | Size: 11 | Condition: New | Price: $404\n",
            "2. Adidas Yeezy | Size: 8 | Condition: New | Price: $491\n",
            "3. Adidas Superstar | Size: 7 | Condition: New | Price: $144\n",
            "Enter the index of the sneaker to trade from Player 1's inventory: 1\n",
            "Enter the index of the sneaker to trade from Player 2's inventory: 2\n",
            "\n",
            "===== Virtual Sneaker Marketplace =====\n",
            "1. Display Player Inventory\n",
            "2. Buy Sneaker from Shopkeeper\n",
            "3. Sell Sneaker to Shopkeeper\n",
            "4. Trade Sneaker with Another Player\n",
            "5. Display Shopkeeper Inventory\n",
            "6. Quit\n",
            "\n",
            "Enter your choice: 6\n",
            "Exiting the Virtual Sneaker Marketplace. Goodbye!\n"
          ]
        }
      ]
    }
  ],
  "metadata": {
    "colab": {
      "provenance": [],
      "authorship_tag": "ABX9TyMxUMFkhvPSPd5Yh3wQD+7i",
      "include_colab_link": true
    },
    "kernelspec": {
      "display_name": "Python 3",
      "name": "python3"
    },
    "language_info": {
      "name": "python"
    }
  },
  "nbformat": 4,
  "nbformat_minor": 0
}