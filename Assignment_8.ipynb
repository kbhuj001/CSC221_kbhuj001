{
  "nbformat": 4,
  "nbformat_minor": 0,
  "metadata": {
    "colab": {
      "provenance": [],
      "include_colab_link": true
    },
    "kernelspec": {
      "name": "python3",
      "display_name": "Python 3"
    },
    "language_info": {
      "name": "python"
    }
  },
  "cells": [
    {
      "cell_type": "markdown",
      "metadata": {
        "id": "view-in-github",
        "colab_type": "text"
      },
      "source": [
        "<a href=\"https://colab.research.google.com/github/kbhuj001/CSC221_kbhuj001/blob/main/Assignment_8.ipynb\" target=\"_parent\"><img src=\"https://colab.research.google.com/assets/colab-badge.svg\" alt=\"Open In Colab\"/></a>"
      ]
    },
    {
      "cell_type": "code",
      "execution_count": null,
      "metadata": {
        "colab": {
          "base_uri": "https://localhost:8080/"
        },
        "id": "FNohuv-HWBT8",
        "outputId": "249496e9-5060-465b-c0d3-a4d3f75e7f2e"
      },
      "outputs": [
        {
          "output_type": "stream",
          "name": "stdout",
          "text": [
            "What car do you drive?\n",
            "Ferrari\n",
            "You drive a awesome Ferrari\n"
          ]
        }
      ],
      "source": [
        "06#7-1 Rental Car\n",
        "carType= input(\"What car do you drive?\\n\")\n",
        "print(\"You drive a awesome \"+ carType)\n",
        "\n",
        "\n"
      ]
    },
    {
      "cell_type": "code",
      "source": [
        "#7-2 Multiple of ten\n",
        "num = input(\"Enter a number:\\n\")\n",
        "num = int(num)\n",
        "if num % 10 == 0 :\n",
        "    print(str(num) + \" is a multiple of 10\")\n",
        "else:\n",
        "    print(str(num) + \" is not a multiple of 10\")\n"
      ],
      "metadata": {
        "colab": {
          "base_uri": "https://localhost:8080/"
        },
        "id": "_3-14Q9C2vrS",
        "outputId": "46115ee5-f07f-42ec-f843-678cee05c88e"
      },
      "execution_count": null,
      "outputs": [
        {
          "output_type": "stream",
          "name": "stdout",
          "text": [
            "Enter a number:\n",
            "22\n",
            "22 is not a multiple of 10\n"
          ]
        }
      ]
    },
    {
      "cell_type": "code",
      "source": [
        "\n",
        "\n",
        "#7-5) Movie ticket\n",
        "\n",
        "prompt = \"\\nWhat is your age?\"\n",
        "prompt += \"\\nEnter 'quit' if you want to end the program.\\n\"\n",
        "message =\"\"\n",
        "while message != 'quit' :\n",
        "    message = input(prompt)\n",
        "    if(message != 'quit'):\n",
        "        age = int(message)\n",
        "        if age < 3:\n",
        "            print(\"Your Ticket is free.\")\n",
        "        elif age >=3 and age<=12:\n",
        "            print(\"Your Ticket price is $10.\")\n",
        "        else:\n",
        "            print(\"Your Ticket price is $15.\")\n",
        "\n",
        "\n",
        "\n"
      ],
      "metadata": {
        "id": "1Ov2Zvo_Xm_K",
        "colab": {
          "base_uri": "https://localhost:8080/"
        },
        "outputId": "60c835ee-4af7-4a0a-e374-5efa75ee8897"
      },
      "execution_count": null,
      "outputs": [
        {
          "name": "stdout",
          "output_type": "stream",
          "text": [
            "\n",
            "What is your age?\n",
            "Enter 'quit' if you want to end the program.\n",
            "12\n",
            "Your Ticket price is $10.\n",
            "\n",
            "What is your age?\n",
            "Enter 'quit' if you want to end the program.\n",
            "80\n",
            "Your Ticket price is $15.\n",
            "\n",
            "What is your age?\n",
            "Enter 'quit' if you want to end the program.\n",
            "quit\n"
          ]
        }
      ]
    },
    {
      "cell_type": "code",
      "source": [
        "#7-6) Movie ticket updated\n",
        "\n",
        "while True:\n",
        "    try:\n",
        "        age_input = input(\"Enter your age (or 'quit' to exit): \")\n",
        "        if age_input.lower() == 'quit':\n",
        "            break  # Exit the loop if the user enters 'quit'\n",
        "        age = int(age_input)\n",
        "    except:\n",
        "        print(\"Enter your age in number!!!\")\n",
        "        continue\n",
        "\n",
        "    if age < 3:\n",
        "        print(\"The ticket is free!!!!\")\n",
        "    elif 3 <= age <= 12:\n",
        "        print(\"The ticket is $10.\")\n",
        "    else:\n",
        "        print(\"The ticket is $15.\")\n",
        "\n"
      ],
      "metadata": {
        "id": "pb4R6tjQXqDz",
        "colab": {
          "base_uri": "https://localhost:8080/"
        },
        "outputId": "559f100b-8a68-4dc9-9953-a39d7b81ca52"
      },
      "execution_count": 5,
      "outputs": [
        {
          "name": "stdout",
          "output_type": "stream",
          "text": [
            "Enter your age (or 'quit' to exit): 12\n",
            "The ticket is $10.\n",
            "Enter your age (or 'quit' to exit): quit\n"
          ]
        }
      ]
    },
    {
      "cell_type": "code",
      "source": [
        "#7-8) Deli\n",
        "sandwich_orders = ['Cheese sandwich','Breakfast sandwich', 'Chicken sandwich','Cuban sandwich','Hamburger']\n",
        "finished_sandwiches =[]\n",
        "while sandwich_orders:\n",
        "    sandwich_prepared = sandwich_orders.pop()\n",
        "\n",
        "    print(f\"Verifying Order : {sandwich_prepared.title()}\")\n",
        "    finished_sandwiches.append(sandwich_prepared)\n",
        "\n",
        "print(\"\\nThe following sandwiches have been prepared\")\n",
        "for finished_sandwich in finished_sandwiches:\n",
        "    print(finished_sandwich.title())\n",
        "\n",
        "\n"
      ],
      "metadata": {
        "id": "vmFB01jHXtkS",
        "colab": {
          "base_uri": "https://localhost:8080/"
        },
        "outputId": "b3671d95-42ae-42b6-d83a-2dd581491904"
      },
      "execution_count": null,
      "outputs": [
        {
          "output_type": "stream",
          "name": "stdout",
          "text": [
            "Verifying Order : Hamburger\n",
            "Verifying Order : Cuban Sandwich\n",
            "Verifying Order : Chicken Sandwich\n",
            "Verifying Order : Breakfast Sandwich\n",
            "Verifying Order : Cheese Sandwich\n",
            "\n",
            "The following sandwiches have been prepared\n",
            "Hamburger\n",
            "Cuban Sandwich\n",
            "Chicken Sandwich\n",
            "Breakfast Sandwich\n",
            "Cheese Sandwich\n"
          ]
        }
      ]
    },
    {
      "cell_type": "code",
      "source": [
        "#Basic Calculator Using input and while\n",
        "\n",
        "total = 0\n",
        "while True:\n",
        "    try:\n",
        "        number_input = input(\"Please provide a number(or 'q' to exit): \")\n",
        "        if number_input.lower() == 'q':\n",
        "            break\n",
        "        number = int(number_input)\n",
        "    except:\n",
        "        print(\"Enter a valid number or word!!!\")\n",
        "        continue\n",
        "\n",
        "    operator_input = input(\"What operation would you like to perform (+,-,*,/): \")\n",
        "    if operator_input == \"+\":\n",
        "        final_number = total + number\n",
        "        print(f\"{total} {operator_input} {number} = {final_number}\\n\")\n",
        "    elif operator_input == \"-\":\n",
        "        final_number = total - number\n",
        "        print(f\"{total} {operator_input} {number} = {final_number}\\n\")\n",
        "    elif operator_input == \"*\":\n",
        "        final_number = total * number\n",
        "        print(f\"{total} {operator_input} {number} = {final_number}\\n\")\n",
        "    else:\n",
        "        final_number = total / number\n",
        "        print(f\"{total} {operator_input} {number} = {final_number}\\n\")\n",
        "\n",
        "    total = final_number\n",
        "\n",
        "\n"
      ],
      "metadata": {
        "id": "T4KB_pIoXxkE"
      },
      "execution_count": null,
      "outputs": []
    }
  ]
}