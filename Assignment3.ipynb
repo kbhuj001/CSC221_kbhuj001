{
  "nbformat": 4,
  "nbformat_minor": 0,
  "metadata": {
    "colab": {
      "provenance": [],
      "authorship_tag": "ABX9TyNx2KUNJRCzfdnCrHN15BOI",
      "include_colab_link": true
    },
    "kernelspec": {
      "name": "python3",
      "display_name": "Python 3"
    },
    "language_info": {
      "name": "python"
    }
  },
  "cells": [
    {
      "cell_type": "markdown",
      "metadata": {
        "id": "view-in-github",
        "colab_type": "text"
      },
      "source": [
        "<a href=\"https://colab.research.google.com/github/kbhuj001/CSC221_kbhuj001/blob/main/Assignment3.ipynb\" target=\"_parent\"><img src=\"https://colab.research.google.com/assets/colab-badge.svg\" alt=\"Open In Colab\"/></a>"
      ]
    },
    {
      "cell_type": "code",
      "execution_count": 1,
      "metadata": {
        "colab": {
          "base_uri": "https://localhost:8080/"
        },
        "id": "r2Ru7Sf8h1hQ",
        "outputId": "6e759718-af8b-4856-819e-8b9d125c6416"
      },
      "outputs": [
        {
          "output_type": "stream",
          "name": "stdout",
          "text": [
            "Shake it OFF!!!!\n"
          ]
        }
      ],
      "source": [
        "simplemessage = \"Shake it OFF!!!!\"\n",
        "print(simplemessage)"
      ]
    },
    {
      "cell_type": "code",
      "source": [
        "message = \"Cruel Summer\"\n",
        "print(message)\n",
        "message = \"All too well\"\n",
        "print(message)"
      ],
      "metadata": {
        "colab": {
          "base_uri": "https://localhost:8080/"
        },
        "id": "xJDZPLvBie3A",
        "outputId": "acc09dbe-bf2f-4bd3-be5f-91180248df04"
      },
      "execution_count": 3,
      "outputs": [
        {
          "output_type": "stream",
          "name": "stdout",
          "text": [
            "Cruel Summer\n",
            "All too well\n"
          ]
        }
      ]
    },
    {
      "cell_type": "code",
      "source": [
        "person_name = \"Krish\"\n",
        "print(f\"Hello {person_name}, would you like to learn some Python today?\")"
      ],
      "metadata": {
        "colab": {
          "base_uri": "https://localhost:8080/"
        },
        "id": "yusHoQS0kJw0",
        "outputId": "322bd921-1d6c-4bde-c0ca-b242136daceb"
      },
      "execution_count": 4,
      "outputs": [
        {
          "output_type": "stream",
          "name": "stdout",
          "text": [
            "Hello Krish, would you like to learn some Python today?\n"
          ]
        }
      ]
    },
    {
      "cell_type": "code",
      "source": [
        "person_name = \"Krish\"\n",
        "print(\"Lowercase:\", person_name.lower())\n",
        "print(\"Uppercase:\", person_name.upper())\n",
        "print(\"TItle case\", person_name.title())"
      ],
      "metadata": {
        "colab": {
          "base_uri": "https://localhost:8080/"
        },
        "id": "0t_zv7LTkdgr",
        "outputId": "aa9ec74a-96e7-4c65-a237-4499555ea2ee"
      },
      "execution_count": 5,
      "outputs": [
        {
          "output_type": "stream",
          "name": "stdout",
          "text": [
            "Lowercase: krish\n",
            "Uppercase: KRISH\n",
            "TItle case Krish\n"
          ]
        }
      ]
    },
    {
      "cell_type": "code",
      "source": [
        "quote = \"A person who never made a mistake never tried anything new.\"\n",
        "author = \"Albert Einstein\"\n",
        "\n",
        "\n",
        "print(f\"{author} once said, \\\"{quote}\\\"\")\n",
        "\n",
        "famous_person = \"Albert Einstein\"\n",
        "quote = \"A person who never made a mistake never tried anything new.\"\n",
        "\n",
        "message = f\"{famous_person} once said, \\\"{quote}\\\"\"\n",
        "print(message)"
      ],
      "metadata": {
        "colab": {
          "base_uri": "https://localhost:8080/"
        },
        "id": "Xqcv_gC6VkzF",
        "outputId": "b18db812-5773-4e6d-da80-2299709e8a19"
      },
      "execution_count": 2,
      "outputs": [
        {
          "output_type": "stream",
          "name": "stdout",
          "text": [
            "Albert Einstein once said, \"A person who never made a mistake never tried anything new.\"\n",
            "Albert Einstein once said, \"A person who never made a mistake never tried anything new.\"\n"
          ]
        }
      ]
    },
    {
      "cell_type": "code",
      "source": [
        "person_name = \"\\t\\n   Krishdeep Bhujel   \\t\\n\"\n",
        "print(\"Original Name:\")\n",
        "print(person_name)\n",
        "print(\"Name with left stripping:\")\n",
        "print(person_name.lstrip())\n",
        "print(\"Name with right stripping:\")\n",
        "print(person_name.rstrip())\n",
        "print(\"Name with both left and right stripping:\")\n",
        "print(person_name.strip())"
      ],
      "metadata": {
        "colab": {
          "base_uri": "https://localhost:8080/"
        },
        "id": "x6oaXofkVv38",
        "outputId": "a57d8f2e-299c-4bb2-b1e2-ea360cf13357"
      },
      "execution_count": 3,
      "outputs": [
        {
          "output_type": "stream",
          "name": "stdout",
          "text": [
            "Original Name:\n",
            "\t\n",
            "   Krishdeep Bhujel   \t\n",
            "\n",
            "Name with left stripping:\n",
            "Krishdeep Bhujel   \t\n",
            "\n",
            "Name with right stripping:\n",
            "\t\n",
            "   Krishdeep Bhujel\n",
            "Name with both left and right stripping:\n",
            "Krishdeep Bhujel\n"
          ]
        }
      ]
    },
    {
      "cell_type": "code",
      "source": [
        "# Addition\n",
        "print(5 + 3)\n",
        "\n",
        "# Subtraction\n",
        "print(10 - 2)\n",
        "\n",
        "# Multiplication\n",
        "print(4 * 2)\n",
        "\n",
        "# Division\n",
        "print(16 / 2)"
      ],
      "metadata": {
        "colab": {
          "base_uri": "https://localhost:8080/"
        },
        "id": "e_OUdPZoWuy7",
        "outputId": "5b3f446e-d7b4-40ec-c0c8-8ad7ce39b3dd"
      },
      "execution_count": 4,
      "outputs": [
        {
          "output_type": "stream",
          "name": "stdout",
          "text": [
            "8\n",
            "8\n",
            "8\n",
            "8.0\n"
          ]
        }
      ]
    },
    {
      "cell_type": "code",
      "source": [
        "favorite_number = 7\n",
        "message = f\"My favorite number is {favorite_number}.\"\n",
        "\n",
        "print(message)"
      ],
      "metadata": {
        "colab": {
          "base_uri": "https://localhost:8080/"
        },
        "id": "Rk7YMzNyW7gs",
        "outputId": "417093e8-edbb-436b-dd63-d460b1b356d0"
      },
      "execution_count": 5,
      "outputs": [
        {
          "output_type": "stream",
          "name": "stdout",
          "text": [
            "My favorite number is 7.\n"
          ]
        }
      ]
    },
    {
      "cell_type": "code",
      "source": [
        "import this"
      ],
      "metadata": {
        "colab": {
          "base_uri": "https://localhost:8080/"
        },
        "id": "AEanqnTeXAdQ",
        "outputId": "8e0ebb3f-f764-4ecd-a2c2-eded8a7508c5"
      },
      "execution_count": 6,
      "outputs": [
        {
          "output_type": "stream",
          "name": "stdout",
          "text": [
            "The Zen of Python, by Tim Peters\n",
            "\n",
            "Beautiful is better than ugly.\n",
            "Explicit is better than implicit.\n",
            "Simple is better than complex.\n",
            "Complex is better than complicated.\n",
            "Flat is better than nested.\n",
            "Sparse is better than dense.\n",
            "Readability counts.\n",
            "Special cases aren't special enough to break the rules.\n",
            "Although practicality beats purity.\n",
            "Errors should never pass silently.\n",
            "Unless explicitly silenced.\n",
            "In the face of ambiguity, refuse the temptation to guess.\n",
            "There should be one-- and preferably only one --obvious way to do it.\n",
            "Although that way may not be obvious at first unless you're Dutch.\n",
            "Now is better than never.\n",
            "Although never is often better than *right* now.\n",
            "If the implementation is hard to explain, it's a bad idea.\n",
            "If the implementation is easy to explain, it may be a good idea.\n",
            "Namespaces are one honking great idea -- let's do more of those!\n"
          ]
        }
      ]
    }
  ]
}