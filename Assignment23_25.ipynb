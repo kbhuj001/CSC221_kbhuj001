{
  "nbformat": 4,
  "nbformat_minor": 0,
  "metadata": {
    "colab": {
      "provenance": [],
      "authorship_tag": "ABX9TyMgL82qmpZzIZ7Cm9YSfItE",
      "include_colab_link": true
    },
    "kernelspec": {
      "name": "python3",
      "display_name": "Python 3"
    },
    "language_info": {
      "name": "python"
    }
  },
  "cells": [
    {
      "cell_type": "markdown",
      "metadata": {
        "id": "view-in-github",
        "colab_type": "text"
      },
      "source": [
        "<a href=\"https://colab.research.google.com/github/kbhuj001/CSC221_kbhuj001/blob/main/Assignment23_25.ipynb\" target=\"_parent\"><img src=\"https://colab.research.google.com/assets/colab-badge.svg\" alt=\"Open In Colab\"/></a>"
      ]
    },
    {
      "cell_type": "code",
      "execution_count": null,
      "metadata": {
        "colab": {
          "base_uri": "https://localhost:8080/"
        },
        "id": "KfkC33LnDsqY",
        "outputId": "1d1a1368-c4ca-4578-e5d2-82c3917ab3e0"
      },
      "outputs": [
        {
          "output_type": "stream",
          "name": "stdout",
          "text": [
            "24\n"
          ]
        }
      ],
      "source": [
        "# 1. Write and test a function that has only positional arguments: def func(a, b)\n",
        "\n",
        "def calculate_rectangle_area(length, width):\n",
        "    area = length * width\n",
        "    return area\n",
        "\n",
        "# test code\n",
        "rectangle_area = calculate_rectangle_area(4, 6)\n",
        "print(rectangle_area)\n"
      ]
    },
    {
      "cell_type": "code",
      "source": [
        "# 2. Write and test a function that has variadic arguments: def func(*s)\n",
        "\n",
        "def sum_values(*numbers):\n",
        "    result = sum(numbers)\n",
        "    return result\n",
        "\n",
        "# Test code\n",
        "result1 = sum_values(1, 2, 3)\n",
        "result2 = sum_values(4, 5, 6, 7)\n",
        "\n",
        "print(result1)\n",
        "print(result2)\n"
      ],
      "metadata": {
        "colab": {
          "base_uri": "https://localhost:8080/"
        },
        "id": "YWnNS7GvEFEJ",
        "outputId": "540a1ad7-9500-4a2b-fd33-3bf0f1b6fb73"
      },
      "execution_count": null,
      "outputs": [
        {
          "output_type": "stream",
          "name": "stdout",
          "text": [
            "6\n",
            "22\n"
          ]
        }
      ]
    },
    {
      "cell_type": "code",
      "source": [
        "# 3. Write and test a function that uses only keyword arguments: def func(**kwargs)\n",
        "\n",
        "def print_info(**kwargs):\n",
        "    for key, value in kwargs.items():\n",
        "        print(f\"{key}: {value}\")\n",
        "\n",
        "# Test code\n",
        "print_info(name=\"Bibek\", age=25, city=\"Kathmandu\")\n",
        "print_info(name=\"Sumit\", age=30, city=\"Pokhara\", occupation=\"Engineer\")\n"
      ],
      "metadata": {
        "colab": {
          "base_uri": "https://localhost:8080/"
        },
        "id": "3GSGM5q7EkGd",
        "outputId": "fc53d992-3ded-4640-e395-8bdc9b0e7fc1"
      },
      "execution_count": null,
      "outputs": [
        {
          "output_type": "stream",
          "name": "stdout",
          "text": [
            "name: Bibek\n",
            "age: 25\n",
            "city: Kathmandu\n",
            "name: Sumit\n",
            "age: 30\n",
            "city: Pokhara\n",
            "occupation: Engineer\n"
          ]
        }
      ]
    },
    {
      "cell_type": "code",
      "source": [
        "# 4. Write and test a function that accepts any inputs: def func(*args, **kwargs).\n",
        "#    The function should add or subtract all the *args based on a keyword operator='+' or operator='-'\n",
        "\n",
        "def func(*args, **kwargs):\n",
        "    operator = kwargs.get('operator', '+')\n",
        "    result = args[0]\n",
        "\n",
        "    for arg in args[1:]:\n",
        "        if operator == '+':\n",
        "            result += arg\n",
        "        elif operator == '-':\n",
        "            result -= arg\n",
        "\n",
        "    return result\n",
        "\n",
        "print(func(5, 6, 7, 8, operator='+'))\n",
        "print(func(11, 8, 1, 1, operator='-'))\n",
        "\n"
      ],
      "metadata": {
        "colab": {
          "base_uri": "https://localhost:8080/"
        },
        "id": "65vpGE6oehOc",
        "outputId": "b1b4fa5a-f3cb-4698-ec5b-010545aaf3b4"
      },
      "execution_count": 14,
      "outputs": [
        {
          "output_type": "stream",
          "name": "stdout",
          "text": [
            "26\n",
            "1\n"
          ]
        }
      ]
    },
    {
      "cell_type": "code",
      "source": [
        "# 5. Create a global variable and then create a function that uses and changes its value.\n",
        "global_variable = 10\n",
        "\n",
        "# Function that uses and changes the global variable\n",
        "def modify_global_variable():\n",
        "    global global_variable\n",
        "    print(\"Current global variable value:\", global_variable)\n",
        "    global_variable += 5\n",
        "    print(\"Global variable modified. New value:\", global_variable)\n",
        "\n",
        "# Call the function\n",
        "modify_global_variable()\n",
        "\n"
      ],
      "metadata": {
        "colab": {
          "base_uri": "https://localhost:8080/"
        },
        "id": "nyXBArs2GYap",
        "outputId": "1068f41d-a7d6-4e92-cc1d-4d21b647fc54"
      },
      "execution_count": 15,
      "outputs": [
        {
          "output_type": "stream",
          "name": "stdout",
          "text": [
            "Current global variable value: 10\n",
            "Global variable modified. New value: 15\n"
          ]
        }
      ]
    },
    {
      "cell_type": "code",
      "source": [
        "# 6. Create a lambda function that allows the use of sorted(...) such that words are sorted by the number of vowels they contain.\n",
        "\n",
        "vowels = 'aeiou'\n",
        "\n",
        "words = ['apple', 'zebra', 'banana', 'carrot', 'egg', 'lamb' , 'Alien' , 'eeri']\n",
        "\n",
        "sorted_words = sorted(words, key=lambda word: sum(letter in vowels for letter in word), reverse=True)\n",
        "\n",
        "\n",
        "print(sorted_words)"
      ],
      "metadata": {
        "colab": {
          "base_uri": "https://localhost:8080/"
        },
        "id": "ZqXnUhbZenTW",
        "outputId": "b14a410c-8cb8-49d2-fb4a-9c0ab313c4d7"
      },
      "execution_count": 8,
      "outputs": [
        {
          "output_type": "stream",
          "name": "stdout",
          "text": [
            "['banana', 'eeri', 'apple', 'zebra', 'carrot', 'Alien', 'egg', 'lamb']\n"
          ]
        }
      ]
    },
    {
      "cell_type": "code",
      "source": [
        "# 7. Write a decorator called logger() that appends the name of the function, all of its arguments, and its return value to a file called log.txt.\n",
        "#    Use some of your functions above to demonstrate how @logger works.\n",
        "\n",
        "def logger(func):\n",
        "  def wrappers(*args, **kwargs):\n",
        "    with open('log.txt', 'a') as f:\n",
        "            f.write(f'Calling {func.__name__} with args {args} and kwargs {kwargs}\\n')\n",
        "            result = func(*args, **kwargs)\n",
        "            f.write(f'{func.__name__} returned {result}\\n')\n",
        "    return result\n",
        "  return wrappers\n",
        "\n",
        "\n",
        "#Test code\n",
        "@logger\n",
        "def calculate_rectangle_area(length, width):\n",
        "    return length * width\n",
        "\n",
        "calculate_rectangle_area(5, 8)\n",
        "\n",
        "\n",
        "@logger\n",
        "def modify_global_variable():\n",
        "    global global_variable\n",
        "    print(\"Current global variable value:\", global_variable)\n",
        "    global_variable += 5\n",
        "    print(\"Global variable modified. New value:\", global_variable)\n",
        "\n",
        "modify_global_variable()\n",
        "\n"
      ],
      "metadata": {
        "colab": {
          "base_uri": "https://localhost:8080/"
        },
        "id": "ywdzuDjTerI3",
        "outputId": "3b5dd04d-177d-4c6c-c37d-bdd125a02c63"
      },
      "execution_count": 56,
      "outputs": [
        {
          "output_type": "stream",
          "name": "stdout",
          "text": [
            "Current global variable value: 15\n",
            "Global variable modified. New value: 20\n"
          ]
        }
      ]
    },
    {
      "cell_type": "code",
      "source": [
        "# 8. Show an example of how Python can be used to perform map, filter, and reduce operations.\n",
        "\n",
        "def trace(func):\n",
        "    def call(*args, **kwargs):\n",
        "        print(f'Calling {func}({args}, {kwargs})')\n",
        "        return func(*args, **kwargs)\n",
        "    return call\n",
        "\n",
        "a = [x*x for x in [14,25,58,78]]\n",
        "print(a)\n",
        "\n",
        "\n",
        "@trace\n",
        "def special(a, b):\n",
        "    return a + b + 3\n",
        "\n",
        "a = [special(x, x) for x in [14,25,58,78]]\n",
        "print(a)\n",
        "\n",
        "\n",
        "from functools import reduce\n",
        "@trace\n",
        "def reducer(a, b):\n",
        "    print(f\"I'm happily reducing {a} and {b}\")\n",
        "    return (a + b) * 2\n",
        "\n",
        "a = [ 14, 25, 58, 78, 87]\n",
        "x = reduce(reducer, a)\n",
        "print(x)\n",
        "\n",
        "\n",
        "\n",
        "def myfunc(x):\n",
        "    return (x + 13) * 5\n",
        "\n",
        "# Adding filter\n",
        "x = [myfunc(x) for x in range(200) if x % 13 == 0]\n",
        "print(x)\n",
        "\n"
      ],
      "metadata": {
        "colab": {
          "base_uri": "https://localhost:8080/"
        },
        "id": "a_gURQ3_ewYC",
        "outputId": "c8b3d7f7-d7c1-4c3d-83ca-7ceabf27d67a"
      },
      "execution_count": 60,
      "outputs": [
        {
          "output_type": "stream",
          "name": "stdout",
          "text": [
            "[196, 625, 3364, 6084]\n",
            "Calling <function special at 0x7cc74cf76170>((14, 14), {})\n",
            "Calling <function special at 0x7cc74cf76170>((25, 25), {})\n",
            "Calling <function special at 0x7cc74cf76170>((58, 58), {})\n",
            "Calling <function special at 0x7cc74cf76170>((78, 78), {})\n",
            "[31, 53, 119, 159]\n",
            "Calling <function reducer at 0x7cc74ce09990>((14, 25), {})\n",
            "I'm happily reducing 14 and 25\n",
            "Calling <function reducer at 0x7cc74ce09990>((78, 58), {})\n",
            "I'm happily reducing 78 and 58\n",
            "Calling <function reducer at 0x7cc74ce09990>((272, 78), {})\n",
            "I'm happily reducing 272 and 78\n",
            "Calling <function reducer at 0x7cc74ce09990>((700, 87), {})\n",
            "I'm happily reducing 700 and 87\n",
            "1574\n",
            "[65, 130, 195, 260, 325, 390, 455, 520, 585, 650, 715, 780, 845, 910, 975, 1040]\n"
          ]
        }
      ]
    },
    {
      "cell_type": "code",
      "source": [
        "# 9. Show how you can use exec(...) to make a simple calculator that runs in a loop and allows me to type in and Python expression (like '5 + 3 - 8 / 12') and\n",
        "#    print the result by merely passing the expression to exec(...).\n",
        "\n",
        "\n",
        "while True:\n",
        "    command = input(\"What would you like me to do? (Type 'quit' to quit)\")\n",
        "    if command == 'quit':\n",
        "        break\n",
        "\n",
        "    to_exec = f'print({command})'\n",
        "\n",
        "    try:\n",
        "        exec(to_exec)\n",
        "    except:\n",
        "        print('That failed.')\n"
      ],
      "metadata": {
        "colab": {
          "base_uri": "https://localhost:8080/"
        },
        "id": "aZEqHopRezZh",
        "outputId": "c8789ebe-4b03-4f18-ada9-73e57498fa0a"
      },
      "execution_count": 62,
      "outputs": [
        {
          "name": "stdout",
          "output_type": "stream",
          "text": [
            "What would you like me to do? (Type 'quit' to quit)888/99\n",
            "8.969696969696969\n",
            "What would you like me to do? (Type 'quit' to quit)quit\n"
          ]
        }
      ]
    }
  ]
}