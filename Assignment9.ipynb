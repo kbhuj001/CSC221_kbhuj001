{
  "nbformat": 4,
  "nbformat_minor": 0,
  "metadata": {
    "colab": {
      "provenance": [],
      "authorship_tag": "ABX9TyNpB0ocSEvht9N1W8KRA5X+",
      "include_colab_link": true
    },
    "kernelspec": {
      "name": "python3",
      "display_name": "Python 3"
    },
    "language_info": {
      "name": "python"
    }
  },
  "cells": [
    {
      "cell_type": "markdown",
      "metadata": {
        "id": "view-in-github",
        "colab_type": "text"
      },
      "source": [
        "<a href=\"https://colab.research.google.com/github/kbhuj001/CSC221_kbhuj001/blob/main/Assignment9.ipynb\" target=\"_parent\"><img src=\"https://colab.research.google.com/assets/colab-badge.svg\" alt=\"Open In Colab\"/></a>"
      ]
    },
    {
      "cell_type": "markdown",
      "source": [
        "Name = Krishdeep Bhujel\n",
        "Assignment 9\n",
        "Email = kbhuj001@plattsburgh.edu\n",
        "CSC221A-Intro to Programming"
      ],
      "metadata": {
        "id": "3lZZUc8s8Jwg"
      }
    },
    {
      "cell_type": "code",
      "execution_count": 1,
      "metadata": {
        "colab": {
          "base_uri": "https://localhost:8080/"
        },
        "id": "fcLo50Zm7I30",
        "outputId": "f5f66bb5-1b6b-4370-8c9b-b895f93ebfb8"
      },
      "outputs": [
        {
          "output_type": "stream",
          "name": "stdout",
          "text": [
            "One of my favorite books is Harry Potter.\n"
          ]
        }
      ],
      "source": [
        "# 8-2\n",
        "def favorite_book(title):\n",
        "    print(f\"One of my favorite books is {title}.\")\n",
        "\n",
        "# Call the function with a book title\n",
        "favorite_book(\"Harry Potter\")"
      ]
    },
    {
      "cell_type": "code",
      "source": [
        "# 8-3\n",
        "def make_shirt(size, message):\n",
        "    print(f\"Shirt size: {size}, Messsage: {message}\")\n",
        "\n",
        "# Call the function using positional arguments\n",
        "make_shirt(\"Large\", \"Hello, World!\")\n",
        "\n",
        "# Call the function using keyword arguments\n",
        "make_shirt(size=\"Medium\", message=\"Python Lover\")"
      ],
      "metadata": {
        "colab": {
          "base_uri": "https://localhost:8080/"
        },
        "id": "DWBKfsnJ7Uj8",
        "outputId": "b0322ec1-abde-436a-fba0-a70589caad12"
      },
      "execution_count": 2,
      "outputs": [
        {
          "output_type": "stream",
          "name": "stdout",
          "text": [
            "Shirt size: Large, Messsage: Hello, World!\n",
            "Shirt size: Medium, Messsage: Python Lover\n"
          ]
        }
      ]
    },
    {
      "cell_type": "code",
      "source": [
        "# 8-4\n",
        "def make_shirt(size = \"Large\", message = \"I love Python\"):\n",
        "    print(f\"Shirt size: {size}, Messsage: {message}\")\n",
        "\n",
        "# Make a large shirt with the default message\n",
        "make_shirt()\n",
        "\n",
        "# Make a medium shirt with the default message\n",
        "make_shirt(size = \"Medium\")\n",
        "\n",
        "# Make a custom-sized shirt with a different message\n",
        "make_shirt(size = \"Small\", message = \"Coding is fun!\")"
      ],
      "metadata": {
        "colab": {
          "base_uri": "https://localhost:8080/"
        },
        "id": "vDF78zas7pr4",
        "outputId": "82bdd419-6ffb-4faa-805b-4d48f5ad7641"
      },
      "execution_count": 3,
      "outputs": [
        {
          "output_type": "stream",
          "name": "stdout",
          "text": [
            "Shirt size: Large, Messsage: I love Python\n",
            "Shirt size: Medium, Messsage: I love Python\n",
            "Shirt size: Small, Messsage: Coding is fun!\n"
          ]
        }
      ]
    },
    {
      "cell_type": "code",
      "source": [
        "# 8-14\n",
        "def cars(manufacturer, model, **kwargs):\n",
        "    car_info = {\n",
        "        \"Manufacturer\": manufacturer,\n",
        "        \"Model name\": model,\n",
        "    }\n",
        "    car_info.update(kwargs)\n",
        "    return car_info\n",
        "\n",
        "# Call the function with the required information and additional details\n",
        "car = cars('Honda', 'civic', color='black', tow_package=True)\n",
        "\n",
        "# Print the dictionary containing car information\n",
        "print(car)"
      ],
      "metadata": {
        "colab": {
          "base_uri": "https://localhost:8080/"
        },
        "id": "JNHQ2LMI7sAb",
        "outputId": "1522de79-9a78-4bf0-be8c-7cade95035d4"
      },
      "execution_count": 5,
      "outputs": [
        {
          "output_type": "stream",
          "name": "stdout",
          "text": [
            "{'Manufacturer': 'Honda', 'Model name': 'civic', 'color': 'black', 'tow_package': True}\n"
          ]
        }
      ]
    },
    {
      "cell_type": "code",
      "source": [
        "from IPython.core.display import Math\n",
        "'''\n",
        "Write a function that takes two numbers and returns their sum and a list\n",
        "containing both numbers in sorted order. The second number defaults to pi\n",
        "if it is not provided.\n",
        "'''\n",
        "import math    # Import the math module to access the value of pi\n",
        "\n",
        "def sum_and_sort_numbers(num1, num2=math.pi):\n",
        "    # Calculate the sum of the two numbers\n",
        "    total = num1 + num2\n",
        "\n",
        "    # Create a list containing both numbers in sorted order\n",
        "    sorted_numbers = sorted([num1, num2])\n",
        "\n",
        "    # Return the sum and the sorted list\n",
        "    return total, sorted_numbers\n",
        "\n",
        "# Example usage:\n",
        "result1 = sum_and_sort_numbers(3, 1)\n",
        "print(result1)\n",
        "\n",
        "result2 = sum_and_sort_numbers(5)\n",
        "print(result2)\n",
        ""
      ],
      "metadata": {
        "colab": {
          "base_uri": "https://localhost:8080/"
        },
        "id": "hu-mcOK870pS",
        "outputId": "8583c188-00fd-4f2d-a47c-5134bf8dc175"
      },
      "execution_count": 6,
      "outputs": [
        {
          "output_type": "stream",
          "name": "stdout",
          "text": [
            "(4, [1, 3])\n",
            "(8.141592653589793, [3.141592653589793, 5])\n"
          ]
        }
      ]
    },
    {
      "cell_type": "code",
      "source": [
        "import math    # Import the math module to access the value of pi\n",
        "\n",
        "def sum_and_sort_numbers(num1, num2=math.pi, verbose=False):\n",
        "    # Calculate the sum of the two numbers\n",
        "    total = num1 + num2\n",
        "\n",
        "    # Create a list containing both numbers in sorted order\n",
        "    sorted_numbers = sorted([num1, num2])\n",
        "\n",
        "    # If 'verbose' is True, print parameters and results\n",
        "    if verbose:\n",
        "        print(f\"num1: {num1}, \\nnum2: {num2}, \\ntotal: {total}, \\nsorted_numbers: {sorted_numbers}\")\n",
        "\n",
        "    # Return the sum and the sorted list\n",
        "    return total, sorted_numbers\n",
        "\n",
        "# Example usage:\n",
        "result1 = sum_and_sort_numbers(3, 1)\n",
        "print(result1)\n",
        "print(\"-\" *50)\n",
        "print()\n",
        "\n",
        "result2 = sum_and_sort_numbers(5, verbose=True)\n",
        "print(result2)"
      ],
      "metadata": {
        "colab": {
          "base_uri": "https://localhost:8080/"
        },
        "id": "ihDJ7wpc73oL",
        "outputId": "c4e47ad8-ac91-4962-ddc8-ab3a80a12741"
      },
      "execution_count": 7,
      "outputs": [
        {
          "output_type": "stream",
          "name": "stdout",
          "text": [
            "(4, [1, 3])\n",
            "--------------------------------------------------\n",
            "\n",
            "num1: 5, \n",
            "num2: 3.141592653589793, \n",
            "total: 8.141592653589793, \n",
            "sorted_numbers: [3.141592653589793, 5]\n",
            "(8.141592653589793, [3.141592653589793, 5])\n"
          ]
        }
      ]
    },
    {
      "cell_type": "code",
      "source": [
        "# Test Case 1: Basic test with verbose=True\n",
        "result1 = sum_and_sort_numbers(3, 1, verbose=True)\n",
        "print(result1)\n",
        "print(\"-\" *50)\n",
        "print()\n",
        "# Expected Output:\n",
        "# num1: 3, num2: 1, total: 4, sorted_numbers: [1, 3]\n",
        "# (4, [1, 3])\n",
        "\n",
        "# Test Case 2: Basic test with verbose=False (default)\n",
        "result2 = sum_and_sort_numbers(5)\n",
        "print(result2)\n",
        "print(\"-\" *50)\n",
        "print()\n",
        "# Expected Output: (8.141592653589793, [3.141592653589793, 5])\n",
        "\n",
        "# Test Case 3: Test with negative numbers and verbose=True\n",
        "result3 = sum_and_sort_numbers(-2, -3, verbose=True)\n",
        "print(result3)\n",
        "print(\"-\" *50)\n",
        "print()\n",
        "# Expected Output:\n",
        "# num1: -2, num2: -3, total: -5, sorted_numbers: [-3, -2]\n",
        "# (-5, [-3, -2])\n",
        "\n",
        "# Test Case 4: Test with only one argument and verbose=False\n",
        "result4 = sum_and_sort_numbers(10)\n",
        "print(result4)\n",
        "print(\"-\" *50)\n",
        "print()\n",
        "# Expected Output: (13.141592653589793, [3.141592653589793, 10])\n",
        "\n",
        "# Test Case 5: Test with verbose=True and pi as the second argument\n",
        "result5 = sum_and_sort_numbers(0, verbose=True)\n",
        "print(result5)\n",
        "print(\"-\" *50)\n",
        "print()\n",
        "# Expected Output:\n",
        "# num1: 0, num2: 3.141592653589793, total: 3.141592653589793, sorted_numbers: [0, 3.141592653589793]\n",
        "# (3.141592653589793, [0, 3.141592653589793])\n",
        "# Test Case 6: Test with verbose=False and pi as the second argument\n",
        "result6 = sum_and_sort_numbers(0)\n",
        "print(result6)\n",
        "print(\"-\" *50)\n",
        "print()\n",
        "# Expected Output: (3.141592653589793, [0, 3.141592653589793])\n",
        "\n",
        "# Test Case 7: Test with non-integer numbers and verbose=True\n",
        "result7 = sum_and_sort_numbers(1.5, 2.75, verbose=True)\n",
        "print(result7)\n",
        "print(\"-\" *50)\n",
        "print()\n",
        "# Expected Output:\n",
        "# num1: 1.5, num2: 2.75, total: 4.25, sorted_numbers: [1.5, 2.75]\n",
        "# (4.25, [1.5, 2.75])\n",
        "\n",
        "# Test Case 8: Test with verbose=False and negative pi as the second argument\n",
        "result8 = sum_and_sort_numbers(7, -math.pi)\n",
        "print(result8)\n",
        "print(\"-\" *50)\n",
        "print()\n",
        "# Expected Output: (3.8584073464102068, [-3.141592653589793, 7])\n",
        "\n",
        "\n"
      ],
      "metadata": {
        "colab": {
          "base_uri": "https://localhost:8080/"
        },
        "id": "vFOqKorV79Ox",
        "outputId": "b7dfcabd-341d-4a0c-e529-6cd48fe95257"
      },
      "execution_count": 8,
      "outputs": [
        {
          "output_type": "stream",
          "name": "stdout",
          "text": [
            "num1: 3, \n",
            "num2: 1, \n",
            "total: 4, \n",
            "sorted_numbers: [1, 3]\n",
            "(4, [1, 3])\n",
            "--------------------------------------------------\n",
            "\n",
            "(8.141592653589793, [3.141592653589793, 5])\n",
            "--------------------------------------------------\n",
            "\n",
            "num1: -2, \n",
            "num2: -3, \n",
            "total: -5, \n",
            "sorted_numbers: [-3, -2]\n",
            "(-5, [-3, -2])\n",
            "--------------------------------------------------\n",
            "\n",
            "(13.141592653589793, [3.141592653589793, 10])\n",
            "--------------------------------------------------\n",
            "\n",
            "num1: 0, \n",
            "num2: 3.141592653589793, \n",
            "total: 3.141592653589793, \n",
            "sorted_numbers: [0, 3.141592653589793]\n",
            "(3.141592653589793, [0, 3.141592653589793])\n",
            "--------------------------------------------------\n",
            "\n",
            "(3.141592653589793, [0, 3.141592653589793])\n",
            "--------------------------------------------------\n",
            "\n",
            "num1: 1.5, \n",
            "num2: 2.75, \n",
            "total: 4.25, \n",
            "sorted_numbers: [1.5, 2.75]\n",
            "(4.25, [1.5, 2.75])\n",
            "--------------------------------------------------\n",
            "\n",
            "(3.858407346410207, [-3.141592653589793, 7])\n",
            "--------------------------------------------------\n",
            "\n"
          ]
        }
      ]
    }
  ]
}