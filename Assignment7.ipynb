{
  "nbformat": 4,
  "nbformat_minor": 0,
  "metadata": {
    "colab": {
      "provenance": [],
      "include_colab_link": true
    },
    "kernelspec": {
      "name": "python3",
      "display_name": "Python 3"
    },
    "language_info": {
      "name": "python"
    }
  },
  "cells": [
    {
      "cell_type": "markdown",
      "metadata": {
        "id": "view-in-github",
        "colab_type": "text"
      },
      "source": [
        "<a href=\"https://colab.research.google.com/github/kbhuj001/CSC221_kbhuj001/blob/main/Assignment7.ipynb\" target=\"_parent\"><img src=\"https://colab.research.google.com/assets/colab-badge.svg\" alt=\"Open In Colab\"/></a>"
      ]
    },
    {
      "cell_type": "code",
      "execution_count": null,
      "metadata": {
        "colab": {
          "base_uri": "https://localhost:8080/"
        },
        "id": "phio0WV14LKu",
        "outputId": "2a75a1eb-e3e8-448f-9314-fb9e5794eccb"
      },
      "outputs": [
        {
          "output_type": "stream",
          "name": "stdout",
          "text": [
            "{'first_name': 'Iskita', 'last_name': 'Gurung', 'age': 19, 'city': 'Pokhara'}\n"
          ]
        }
      ],
      "source": [
        "# 6.1\n",
        "person = {\n",
        "    \"first_name\": \"Iskita\",\n",
        "    \"last_name\": \"Gurung\",\n",
        "    \"age\": 19,\n",
        "    \"city\": \"Pokhara\"\n",
        "}\n",
        "\n",
        "print(person)\n"
      ]
    },
    {
      "cell_type": "code",
      "source": [
        "fav_number = {\n",
        "    \"Josh\": 99,\n",
        "    \"Nile\": 14,\n",
        "    \"Uma\": 33,\n",
        "    \"Ted\": 8,\n",
        "    \"Nikki\": 7\n",
        "}\n",
        "print(fav_number)"
      ],
      "metadata": {
        "colab": {
          "base_uri": "https://localhost:8080/"
        },
        "id": "Hu60eCeB5EH1",
        "outputId": "b8e736f1-3b3b-49bf-90b6-8def8399a953"
      },
      "execution_count": null,
      "outputs": [
        {
          "output_type": "stream",
          "name": "stdout",
          "text": [
            "{'Josh': 99, 'Nile': 14, 'Uma': 33, 'Ted': 8, 'Nikki': 7}\n"
          ]
        }
      ]
    },
    {
      "cell_type": "code",
      "source": [
        "glossary = {\n",
        "    'Variable': 'A container to store data values.',\n",
        "    'String': 'Data structure in Python that represents a sequence of characters',\n",
        "    'List': 'An ordered collection of items that can be modified.',\n",
        "    'If Statement': 'Statement that allows you to execute a block of code if a certain condition is true',\n",
        "    'Loop': 'A control structure that repeats a block of code until a condition is met or for a specified number of times.'\n",
        "}\n",
        "\n",
        "for word, meaning in glossary.items():\n",
        "    print(f\"> {word}: {meaning}\\n\")"
      ],
      "metadata": {
        "colab": {
          "base_uri": "https://localhost:8080/"
        },
        "id": "pHzgICsZ5cTz",
        "outputId": "2ead6ece-0d28-4550-e856-516efda5bb3c"
      },
      "execution_count": null,
      "outputs": [
        {
          "output_type": "stream",
          "name": "stdout",
          "text": [
            "> Variable: A container to store data values.\n",
            "\n",
            "> String: Data structure in Python that represents a sequence of characters\n",
            "\n",
            "> List: An ordered collection of items that can be modified.\n",
            "\n",
            "> If Statement: Statement that allows you to execute a block of code if a certain condition is true\n",
            "\n",
            "> Loop: A control structure that repeats a block of code until a condition is met or for a specified number of times.\n",
            "\n"
          ]
        }
      ]
    },
    {
      "cell_type": "code",
      "source": [
        "# 6.4\n",
        "# Adding five more Python terms to the glossary\n",
        "glossary['Elif'] = 'Elif is short for \"else if\" and is used when the first if statement is not true, but you want to check for another condition.'\n",
        "glossary['Else'] = 'The else keyword is used in conditional statements (if statements), and decides what to do if the condition is False..'\n",
        "glossary['Float'] = 'A function or reusable code in the Python programming language that converts values into floating point numbers.'\n",
        "glossary['conditional statement'] = 'Fundamental programming constructs that allow you to control the flow of your program based on conditions that you specify.'\n",
        "glossary['Tuple'] = 'A tuple represents a sequence of any objects separated by commas and enclosed in parentheses.'\n",
        "\n",
        "for word, meaning in glossary.items():\n",
        "    print(f\"> {word}: {meaning}\\n\")\n"
      ],
      "metadata": {
        "colab": {
          "base_uri": "https://localhost:8080/"
        },
        "id": "Xv2fcZ9k6pKC",
        "outputId": "419c9776-c4ea-4cea-a098-caab038644cf"
      },
      "execution_count": null,
      "outputs": [
        {
          "output_type": "stream",
          "name": "stdout",
          "text": [
            "> Variable: A container to store data values.\n",
            "\n",
            "> String: Data structure in Python that represents a sequence of characters\n",
            "\n",
            "> List: An ordered collection of items that can be modified.\n",
            "\n",
            "> If Statement: Statement that allows you to execute a block of code if a certain condition is true\n",
            "\n",
            "> Loop: A control structure that repeats a block of code until a condition is met or for a specified number of times.\n",
            "\n",
            "> Elif: Elif is short for \"else if\" and is used when the first if statement is not true, but you want to check for another condition.\n",
            "\n",
            "> Else: The else keyword is used in conditional statements (if statements), and decides what to do if the condition is False..\n",
            "\n",
            "> Float: A function or reusable code in the Python programming language that converts values into floating point numbers.\n",
            "\n",
            "> conditional statement: Fundamental programming constructs that allow you to control the flow of your program based on conditions that you specify.\n",
            "\n",
            "> Tuple: A tuple represents a sequence of any objects separated by commas and enclosed in parentheses.\n",
            "\n"
          ]
        }
      ]
    },
    {
      "cell_type": "code",
      "source": [
        "#6.11 Creating a dictionary of cities and their information\n",
        "cities = {\n",
        "    'New York': {\n",
        "        'country': 'United States',\n",
        "        'population': 8398748,\n",
        "        'fact': 'The Statue of Liberty is located in New York Harbor.'\n",
        "    },\n",
        "    'Tokyo': {\n",
        "        'country': 'Japan',\n",
        "        'population': 13929286,\n",
        "        'fact': 'Tokyo is the most populous metropolitan area in the world.'\n",
        "    },\n",
        "    'London': {\n",
        "        'country': 'United Kingdom',\n",
        "        'population': 8982256,\n",
        "        'fact': 'The River Thames flows through the city of London.'\n",
        "    }\n",
        "}\n",
        "\n",
        "# Printing information about each city\n",
        "for city, info in cities.items():\n",
        "    print(f\"\\n{city}:\")\n",
        "    print(f\"Country: {info['country']}\")\n",
        "    print(f\"Population: {info['population']}\")\n",
        "    print(f\"Fact: {info['fact']}\")\n"
      ],
      "metadata": {
        "id": "vbFlsFBZly7t",
        "outputId": "d5a6817c-7587-4e2a-ee52-b46a757fcdcb",
        "colab": {
          "base_uri": "https://localhost:8080/"
        }
      },
      "execution_count": 1,
      "outputs": [
        {
          "output_type": "stream",
          "name": "stdout",
          "text": [
            "\n",
            "New York:\n",
            "Country: United States\n",
            "Population: 8398748\n",
            "Fact: The Statue of Liberty is located in New York Harbor.\n",
            "\n",
            "Tokyo:\n",
            "Country: Japan\n",
            "Population: 13929286\n",
            "Fact: Tokyo is the most populous metropolitan area in the world.\n",
            "\n",
            "London:\n",
            "Country: United Kingdom\n",
            "Population: 8982256\n",
            "Fact: The River Thames flows through the city of London.\n"
          ]
        }
      ]
    },
    {
      "cell_type": "code",
      "source": [
        "#6.12\n",
        "'''Let's extend the 6.11 problem. Let's add more cities and improve the\n",
        "formatting of the code.'''\n",
        "\n",
        "users = {\n",
        "    'aeinstein': {\n",
        "        'first': 'albert',\n",
        "        'last': 'einstein',\n",
        "        'location': 'princeton',\n",
        "        'birth_year': 1879,\n",
        "        'contributions': 'Theory of Relativity',\n",
        "    },\n",
        "    'mcurie': {\n",
        "        'first': 'marie',\n",
        "        'last': 'curie',\n",
        "        'location': 'paris',\n",
        "        'birth_year': 1867,\n",
        "        'contributions': 'Radioactivity and Polonium/Radium discovery',\n",
        "    },\n",
        "}\n",
        "\n",
        "for username, user_info in users.items():\n",
        "    print(f\"\\nUser: {username}\")\n",
        "    full_name = f\"{user_info['first']} {user_info['last']}\"\n",
        "    location = user_info['location']\n",
        "    birth_year = user_info['birth_year']\n",
        "    contributions = user_info['contributions']\n",
        "\n",
        "    print(f\"\\tFull Name: {full_name.title()}\")\n",
        "    print(f\"\\tLocation: {location.title()}\")\n",
        "    print(f\"\\tBirth Year: {birth_year}\")\n",
        "    print(f\"\\tContributions: {contributions}\")\n"
      ],
      "metadata": {
        "id": "hkH2Khz6nw7w",
        "outputId": "bae3a842-0d60-4426-a9d3-8b6d2e67a647",
        "colab": {
          "base_uri": "https://localhost:8080/"
        }
      },
      "execution_count": 2,
      "outputs": [
        {
          "output_type": "stream",
          "name": "stdout",
          "text": [
            "\n",
            "User: aeinstein\n",
            "\tFull Name: Albert Einstein\n",
            "\tLocation: Princeton\n",
            "\tBirth Year: 1879\n",
            "\tContributions: Theory of Relativity\n",
            "\n",
            "User: mcurie\n",
            "\tFull Name: Marie Curie\n",
            "\tLocation: Paris\n",
            "\tBirth Year: 1867\n",
            "\tContributions: Radioactivity and Polonium/Radium discovery\n"
          ]
        }
      ]
    }
  ]
}