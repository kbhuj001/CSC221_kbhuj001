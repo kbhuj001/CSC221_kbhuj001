{
  "nbformat": 4,
  "nbformat_minor": 0,
  "metadata": {
    "colab": {
      "provenance": [],
      "include_colab_link": true
    },
    "kernelspec": {
      "name": "python3",
      "display_name": "Python 3"
    },
    "language_info": {
      "name": "python"
    }
  },
  "cells": [
    {
      "cell_type": "markdown",
      "metadata": {
        "id": "view-in-github",
        "colab_type": "text"
      },
      "source": [
        "<a href=\"https://colab.research.google.com/github/kbhuj001/CSC221_kbhuj001/blob/main/Assignment7.ipynb\" target=\"_parent\"><img src=\"https://colab.research.google.com/assets/colab-badge.svg\" alt=\"Open In Colab\"/></a>"
      ]
    },
    {
      "cell_type": "code",
      "execution_count": null,
      "metadata": {
        "colab": {
          "base_uri": "https://localhost:8080/"
        },
        "id": "phio0WV14LKu",
        "outputId": "2a75a1eb-e3e8-448f-9314-fb9e5794eccb"
      },
      "outputs": [
        {
          "output_type": "stream",
          "name": "stdout",
          "text": [
            "{'first_name': 'Iskita', 'last_name': 'Gurung', 'age': 19, 'city': 'Pokhara'}\n"
          ]
        }
      ],
      "source": [
        "# 6.1\n",
        "person = {\n",
        "    \"first_name\": \"Iskita\",\n",
        "    \"last_name\": \"Gurung\",\n",
        "    \"age\": 19,\n",
        "    \"city\": \"Pokhara\"\n",
        "}\n",
        "\n",
        "print(person)\n"
      ]
    },
    {
      "cell_type": "code",
      "source": [
        "fav_number = {\n",
        "    \"Josh\": 99,\n",
        "    \"Nile\": 14,\n",
        "    \"Uma\": 33,\n",
        "    \"Ted\": 8,\n",
        "    \"Nikki\": 7\n",
        "}\n",
        "print(fav_number)"
      ],
      "metadata": {
        "colab": {
          "base_uri": "https://localhost:8080/"
        },
        "id": "Hu60eCeB5EH1",
        "outputId": "b8e736f1-3b3b-49bf-90b6-8def8399a953"
      },
      "execution_count": null,
      "outputs": [
        {
          "output_type": "stream",
          "name": "stdout",
          "text": [
            "{'Josh': 99, 'Nile': 14, 'Uma': 33, 'Ted': 8, 'Nikki': 7}\n"
          ]
        }
      ]
    },
    {
      "cell_type": "code",
      "source": [
        "glossary = {\n",
        "    'Variable': 'A container to store data values.',\n",
        "    'String': 'Data structure in Python that represents a sequence of characters',\n",
        "    'List': 'An ordered collection of items that can be modified.',\n",
        "    'If Statement': 'Statement that allows you to execute a block of code if a certain condition is true',\n",
        "    'Loop': 'A control structure that repeats a block of code until a condition is met or for a specified number of times.'\n",
        "}\n",
        "\n",
        "for word, meaning in glossary.items():\n",
        "    print(f\"> {word}: {meaning}\\n\")"
      ],
      "metadata": {
        "colab": {
          "base_uri": "https://localhost:8080/"
        },
        "id": "pHzgICsZ5cTz",
        "outputId": "2ead6ece-0d28-4550-e856-516efda5bb3c"
      },
      "execution_count": null,
      "outputs": [
        {
          "output_type": "stream",
          "name": "stdout",
          "text": [
            "> Variable: A container to store data values.\n",
            "\n",
            "> String: Data structure in Python that represents a sequence of characters\n",
            "\n",
            "> List: An ordered collection of items that can be modified.\n",
            "\n",
            "> If Statement: Statement that allows you to execute a block of code if a certain condition is true\n",
            "\n",
            "> Loop: A control structure that repeats a block of code until a condition is met or for a specified number of times.\n",
            "\n"
          ]
        }
      ]
    },
    {
      "cell_type": "code",
      "source": [
        "# 6.4\n",
        "# Adding five more Python terms to the glossary\n",
        "glossary['Elif'] = 'Elif is short for \"else if\" and is used when the first if statement is not true, but you want to check for another condition.'\n",
        "glossary['Else'] = 'The else keyword is used in conditional statements (if statements), and decides what to do if the condition is False..'\n",
        "glossary['Float'] = 'A function or reusable code in the Python programming language that converts values into floating point numbers.'\n",
        "glossary['conditional statement'] = 'Fundamental programming constructs that allow you to control the flow of your program based on conditions that you specify.'\n",
        "glossary['Tuple'] = 'A tuple represents a sequence of any objects separated by commas and enclosed in parentheses.'\n",
        "\n",
        "for word, meaning in glossary.items():\n",
        "    print(f\"> {word}: {meaning}\\n\")\n"
      ],
      "metadata": {
        "colab": {
          "base_uri": "https://localhost:8080/"
        },
        "id": "Xv2fcZ9k6pKC",
        "outputId": "419c9776-c4ea-4cea-a098-caab038644cf"
      },
      "execution_count": null,
      "outputs": [
        {
          "output_type": "stream",
          "name": "stdout",
          "text": [
            "> Variable: A container to store data values.\n",
            "\n",
            "> String: Data structure in Python that represents a sequence of characters\n",
            "\n",
            "> List: An ordered collection of items that can be modified.\n",
            "\n",
            "> If Statement: Statement that allows you to execute a block of code if a certain condition is true\n",
            "\n",
            "> Loop: A control structure that repeats a block of code until a condition is met or for a specified number of times.\n",
            "\n",
            "> Elif: Elif is short for \"else if\" and is used when the first if statement is not true, but you want to check for another condition.\n",
            "\n",
            "> Else: The else keyword is used in conditional statements (if statements), and decides what to do if the condition is False..\n",
            "\n",
            "> Float: A function or reusable code in the Python programming language that converts values into floating point numbers.\n",
            "\n",
            "> conditional statement: Fundamental programming constructs that allow you to control the flow of your program based on conditions that you specify.\n",
            "\n",
            "> Tuple: A tuple represents a sequence of any objects separated by commas and enclosed in parentheses.\n",
            "\n"
          ]
        }
      ]
    }
  ]
}