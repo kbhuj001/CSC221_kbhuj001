{
  "nbformat": 4,
  "nbformat_minor": 0,
  "metadata": {
    "colab": {
      "provenance": [],
      "authorship_tag": "ABX9TyN9tr+zOGajJ0se/ZCYoiK8",
      "include_colab_link": true
    },
    "kernelspec": {
      "name": "python3",
      "display_name": "Python 3"
    },
    "language_info": {
      "name": "python"
    }
  },
  "cells": [
    {
      "cell_type": "markdown",
      "metadata": {
        "id": "view-in-github",
        "colab_type": "text"
      },
      "source": [
        "<a href=\"https://colab.research.google.com/github/kbhuj001/CSC221_kbhuj001/blob/main/Copy_of_Assignment_6.ipynb\" target=\"_parent\"><img src=\"https://colab.research.google.com/assets/colab-badge.svg\" alt=\"Open In Colab\"/></a>"
      ]
    },
    {
      "cell_type": "markdown",
      "source": [
        "5-13) As a sneakerhead and someone who wants to own a shoe shop in the future, I decided to code a program that will help to record the number of bought shoes along with their size and quantity and also will be able to record the number of shoes sold and check the current inventory.\n",
        "I have coded this program with the help of things I learned in the Intro to programming class and programming lab."
      ],
      "metadata": {
        "id": "uYyqwhMVLtdz"
      }
    },
    {
      "cell_type": "code",
      "source": [
        "shoe_inventory = [] # An empty list to store the information about the shoes in store\n",
        "\n",
        "def record_bought_shoes():  #To record shoes bought\n",
        "    model = input(\"Enter the shoe model: \")\n",
        "    size = input(\"Enter the shoe size: \")\n",
        "    quantity = int(input(\"Enter the quantity bought: \"))\n",
        "\n",
        "    for shoe in shoe_inventory:          # Check if the shoe already exists in inventory\n",
        "        if shoe['model'] == model and shoe['size'] == size:\n",
        "            shoe['quantity'] += quantity\n",
        "            print(f\"Added {quantity} {size} {model}(s) to the inventory.\")\n",
        "            return\n",
        "\n",
        "\n",
        "    shoe = {'model': model, 'size': size, 'quantity': quantity}      # add it as a new item if the shoe is not in inventory\n",
        "    shoe_inventory.append(shoe)\n",
        "    print(f\"Recorded {quantity} {size} {model}(s) bought.\")\n",
        "\n",
        "def record_sold_shoes():         # to record shoes sold\n",
        "    model = input(\"Enter the shoe model: \")\n",
        "    size = input(\"Enter the shoe size: \")\n",
        "    quantity = int(input(\"Enter the quantity sold: \"))\n",
        "\n",
        "\n",
        "    for shoe in shoe_inventory:      # to check if shoes are in inventory.\n",
        "        if shoe['model'] == model and shoe['size'] == size:\n",
        "            if shoe['quantity'] >= quantity:\n",
        "                shoe['quantity'] -= quantity\n",
        "                print(f\"Recorded {quantity} {size} {model}(s) sold.\")\n",
        "            else:\n",
        "                print(\"Not enough stock available for sale.\")\n",
        "            return\n",
        "\n",
        "    print(\"This shoe is not in the inventory.\") #if shoe is not in inventory\n",
        "\n",
        "\n",
        "while True:         # create an infinite loop until the user chooses the exit option.\n",
        "    print(\"\\nOptions:\")\n",
        "    print(\"1. Record Bought Shoes\")\n",
        "    print(\"2. Record Sold Shoes\")\n",
        "    print(\"3. Check Inventory\")\n",
        "    print(\"4. Quit\")\n",
        "\n",
        "    choice = input(\"Enter your choice (1/2/3/4): \")\n",
        "\n",
        "    if choice == \"1\":\n",
        "        record_bought_shoes()\n",
        "    elif choice == \"2\":\n",
        "        record_sold_shoes()\n",
        "    elif choice == \"3\":\n",
        "        print(\"\\nCurrent Shoe Inventory:\")\n",
        "        for shoe in shoe_inventory:\n",
        "            print(f\"Model: {shoe['model']}, Size: {shoe['size']}, Quantity: {shoe['quantity']}\")\n",
        "    elif choice == \"4\":\n",
        "        break\n",
        "    else:\n",
        "        print(\"Invalid choice. Please select a valid option (1/2/3/4).\")\n"
      ],
      "metadata": {
        "colab": {
          "base_uri": "https://localhost:8080/"
        },
        "id": "wDyWjkOLOYlP",
        "outputId": "a3816750-ef79-48e0-982f-76f7cf8964cf"
      },
      "execution_count": null,
      "outputs": [
        {
          "name": "stdout",
          "output_type": "stream",
          "text": [
            "\n",
            "Options:\n",
            "1. Record Bought Shoes\n",
            "2. Record Sold Shoes\n",
            "3. Check Inventory\n",
            "4. Quit\n",
            "Enter your choice (1/2/3/4): 1\n",
            "Enter the shoe model: Jordan 1 'Next Chapter'\n",
            "Enter the shoe size: 6\n",
            "Enter the quantity bought: 10\n",
            "Recorded 10 6 Jordan 1 'Next Chapter'(s) bought.\n",
            "\n",
            "Options:\n",
            "1. Record Bought Shoes\n",
            "2. Record Sold Shoes\n",
            "3. Check Inventory\n",
            "4. Quit\n",
            "Enter your choice (1/2/3/4): Jordan 11 Cherry red\n",
            "Invalid choice. Please select a valid option (1/2/3/4).\n",
            "\n",
            "Options:\n",
            "1. Record Bought Shoes\n",
            "2. Record Sold Shoes\n",
            "3. Check Inventory\n",
            "4. Quit\n",
            "Enter your choice (1/2/3/4): 1\n",
            "Enter the shoe model: Jordan 11 Cherry Red \n",
            "Enter the shoe size: 8\n",
            "Enter the quantity bought: 2\n",
            "Recorded 2 8 Jordan 11 Cherry Red (s) bought.\n",
            "\n",
            "Options:\n",
            "1. Record Bought Shoes\n",
            "2. Record Sold Shoes\n",
            "3. Check Inventory\n",
            "4. Quit\n",
            "Enter your choice (1/2/3/4): 2\n",
            "Enter the shoe model: Jordan 11 Cherry Red \n",
            "Enter the shoe size: 8\n",
            "Enter the quantity sold: 1\n",
            "Recorded 1 8 Jordan 11 Cherry Red (s) sold.\n",
            "\n",
            "Options:\n",
            "1. Record Bought Shoes\n",
            "2. Record Sold Shoes\n",
            "3. Check Inventory\n",
            "4. Quit\n",
            "Enter your choice (1/2/3/4): 3\n",
            "\n",
            "Current Shoe Inventory:\n",
            "Model: Jordan 1 'Next Chapter', Size: 6, Quantity: 10\n",
            "Model: Jordan 11 Cherry Red , Size: 8, Quantity: 1\n",
            "\n",
            "Options:\n",
            "1. Record Bought Shoes\n",
            "2. Record Sold Shoes\n",
            "3. Check Inventory\n",
            "4. Quit\n",
            "Enter your choice (1/2/3/4): 1\n",
            "Enter the shoe model: Jordan 1 'Next Chapter'\n",
            "Enter the shoe size: 6\n",
            "Enter the quantity bought: 2\n",
            "Added 2 6 Jordan 1 'Next Chapter'(s) to the inventory.\n",
            "\n",
            "Options:\n",
            "1. Record Bought Shoes\n",
            "2. Record Sold Shoes\n",
            "3. Check Inventory\n",
            "4. Quit\n",
            "Enter your choice (1/2/3/4): 3\n",
            "\n",
            "Current Shoe Inventory:\n",
            "Model: Jordan 1 'Next Chapter', Size: 6, Quantity: 12\n",
            "Model: Jordan 11 Cherry Red , Size: 8, Quantity: 1\n",
            "\n",
            "Options:\n",
            "1. Record Bought Shoes\n",
            "2. Record Sold Shoes\n",
            "3. Check Inventory\n",
            "4. Quit\n",
            "Enter your choice (1/2/3/4): 4\n"
          ]
        }
      ]
    },
    {
      "cell_type": "code",
      "source": [
        "#example 1\n",
        "cars = ['audi','bmw','honda', 'toyota']\n",
        "for cars in cars:\n",
        "  if cars == 'bmw':\n",
        "    print(cars.upper())\n",
        "  else:\n",
        "      print(cars.title())\n"
      ],
      "metadata": {
        "colab": {
          "base_uri": "https://localhost:8080/"
        },
        "id": "--MnqEG2vJ7w",
        "outputId": "0218a7fd-6d7e-4ba5-f815-5cec4ae2b2f9"
      },
      "execution_count": null,
      "outputs": [
        {
          "output_type": "stream",
          "name": "stdout",
          "text": [
            "Audi\n",
            "BMW\n",
            "Honda\n",
            "Toyota\n"
          ]
        }
      ]
    },
    {
      "cell_type": "code",
      "source": [
        "car = 'bmw'    #conditional test\n",
        "car == 'bmw'"
      ],
      "metadata": {
        "colab": {
          "base_uri": "https://localhost:8080/"
        },
        "id": "QJ2jjSeewJ7Q",
        "outputId": "011028e9-f9f2-43d9-a476-10980bbed53c"
      },
      "execution_count": null,
      "outputs": [
        {
          "output_type": "execute_result",
          "data": {
            "text/plain": [
              "True"
            ]
          },
          "metadata": {},
          "execution_count": 10
        }
      ]
    },
    {
      "cell_type": "code",
      "source": [
        "car = 'honda'\n",
        "car == 'bmw'"
      ],
      "metadata": {
        "colab": {
          "base_uri": "https://localhost:8080/"
        },
        "id": "pDXP696twh3Q",
        "outputId": "07788826-a922-49ec-d188-cea0a808d17c"
      },
      "execution_count": null,
      "outputs": [
        {
          "output_type": "execute_result",
          "data": {
            "text/plain": [
              "False"
            ]
          },
          "metadata": {},
          "execution_count": 11
        }
      ]
    },
    {
      "cell_type": "code",
      "source": [
        "# toppings\n",
        "\n",
        "requested_toppings = 'mushrooms'\n",
        "if requested_toppings != 'anchovies':\n",
        "  print(\"HOLD THE ANCHOVIES\")"
      ],
      "metadata": {
        "colab": {
          "base_uri": "https://localhost:8080/"
        },
        "id": "U5lzrkThw-PR",
        "outputId": "40a63e5e-4251-4ebf-fc73-eddabb19a090"
      },
      "execution_count": null,
      "outputs": [
        {
          "output_type": "stream",
          "name": "stdout",
          "text": [
            "HOLD THE ANCHOVIES\n"
          ]
        }
      ]
    },
    {
      "cell_type": "code",
      "source": [
        "requested_toppings = 'mushrooms'\n",
        "if requested_toppings != 'mushrooms':\n",
        "  print(\"Hold the mushrooms\")\n",
        "else:\n",
        "  print(\"Bring out the mushrooms\")"
      ],
      "metadata": {
        "colab": {
          "base_uri": "https://localhost:8080/"
        },
        "id": "AKJsPV_PxaAR",
        "outputId": "ad781a2f-ea83-4848-af8c-f56bf67034bc"
      },
      "execution_count": null,
      "outputs": [
        {
          "output_type": "stream",
          "name": "stdout",
          "text": [
            "Bring out the mushrooms\n"
          ]
        }
      ]
    },
    {
      "cell_type": "code",
      "source": [
        "#5.1 Conditional Test\n",
        "car = 'bmw'\n",
        "car1 = 'honda'\n",
        "car2 = 'hyundai'\n",
        "\n",
        "print(\"\\nIs car == 'bmw'? I predict True.\")\n",
        "print(car == 'bmw')\n",
        "\n",
        "print(\"\\nIs car1 == 'honda'? I predict True.\")\n",
        "print(car1 == 'honda')\n",
        "\n",
        "print(\"\\nIs car2 == 'hyundai'? I predict True.\")\n",
        "print(car2 == 'hyundai')\n",
        "\n",
        "print(\"\\nIs car == 'audi'? I predict False.\")\n",
        "print(car == 'audi')\n",
        "\n",
        "print(\"\\nIs car1 == 'mazda'? I predict False.\")\n",
        "print(car1 == 'mazda')\n",
        "\n",
        "print(\"\\nIs car2 == 'ford'? I predict False.\")\n",
        "print(car2 == 'ford')\n",
        "\n"
      ],
      "metadata": {
        "colab": {
          "base_uri": "https://localhost:8080/"
        },
        "id": "eCvSdSahyDgC",
        "outputId": "e17f31aa-4982-4a85-ec6b-fcdce11759c5"
      },
      "execution_count": null,
      "outputs": [
        {
          "output_type": "stream",
          "name": "stdout",
          "text": [
            "\n",
            "Is car == 'bmw'? I predict True.\n",
            "True\n",
            "\n",
            "Is car1 == 'honda'? I predict True.\n",
            "True\n",
            "\n",
            "Is car2 == 'hyundai'? I predict True.\n",
            "True\n",
            "\n",
            "Is car == 'audi'? I predict False.\n",
            "False\n",
            "\n",
            "Is car1 == 'mazda'? I predict False.\n",
            "False\n",
            "\n",
            "Is car2 == 'ford'? I predict False.\n",
            "False\n"
          ]
        }
      ]
    }
  ]
}