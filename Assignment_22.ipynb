{
  "nbformat": 4,
  "nbformat_minor": 0,
  "metadata": {
    "colab": {
      "provenance": [],
      "authorship_tag": "ABX9TyODyesuhPyDDb2SqAyBO8x8",
      "include_colab_link": true
    },
    "kernelspec": {
      "name": "python3",
      "display_name": "Python 3"
    },
    "language_info": {
      "name": "python"
    }
  },
  "cells": [
    {
      "cell_type": "markdown",
      "metadata": {
        "id": "view-in-github",
        "colab_type": "text"
      },
      "source": [
        "<a href=\"https://colab.research.google.com/github/kbhuj001/CSC221_kbhuj001/blob/main/Assignment_22.ipynb\" target=\"_parent\"><img src=\"https://colab.research.google.com/assets/colab-badge.svg\" alt=\"Open In Colab\"/></a>"
      ]
    },
    {
      "cell_type": "code",
      "execution_count": 1,
      "metadata": {
        "colab": {
          "base_uri": "https://localhost:8080/"
        },
        "id": "DUssagHro_dy",
        "outputId": "a396d056-563f-47cc-b390-f67fd1ef07cb"
      },
      "outputs": [
        {
          "output_type": "stream",
          "name": "stdout",
          "text": [
            "Vector 1: Vector2D(3, 4)\n",
            "Vector 2: Vector2D(1, 2)\n",
            "Vector 3: Vector2D(5, 12)\n",
            "\n",
            "Sorted Vectors by Length:\n",
            "Vector2D(1, 2)\n",
            "Vector2D(3, 4)\n",
            "Vector2D(5, 12)\n"
          ]
        }
      ],
      "source": [
        "#1\n",
        "'''\n",
        "Make a class Vector2D that stores a 2D vector (x,y) and allows me to print them and sort them by length.\n",
        "Show that your code works. It is fine to ask ChatGPT for help... it did a perfect job for me.\n",
        "'''\n",
        "\n",
        "import math\n",
        "\n",
        "class Vector2D:\n",
        "    def __init__(self, x, y):\n",
        "        self.x = x\n",
        "        self.y = y\n",
        "\n",
        "    def __repr__(self):\n",
        "        return f\"Vector2D({self.x}, {self.y})\"\n",
        "\n",
        "    def __lt__(self, other):\n",
        "        return self.length() < other.length()\n",
        "\n",
        "    def length(self):\n",
        "        return math.sqrt(self.x**2 + self.y**2)\n",
        "\n",
        "# Example usage\n",
        "if __name__ == \"__main__\":\n",
        "    # Creating some Vector2D objects\n",
        "    vector1 = Vector2D(3, 4)\n",
        "    vector2 = Vector2D(1, 2)\n",
        "    vector3 = Vector2D(5, 12)\n",
        "\n",
        "    # Printing the vectors\n",
        "    print(\"Vector 1:\", vector1)\n",
        "    print(\"Vector 2:\", vector2)\n",
        "    print(\"Vector 3:\", vector3)\n",
        "\n",
        "    # Sorting vectors by length\n",
        "    vectors_to_sort = [vector1, vector2, vector3]\n",
        "    sorted_vectors = sorted(vectors_to_sort)\n",
        "\n",
        "    # Printing the sorted vectors\n",
        "    print(\"\\nSorted Vectors by Length:\")\n",
        "    for vector in sorted_vectors:\n",
        "        print(vector)\n",
        "\n"
      ]
    },
    {
      "cell_type": "code",
      "source": [],
      "metadata": {
        "id": "WbaX1xLAra-L"
      },
      "execution_count": null,
      "outputs": []
    },
    {
      "cell_type": "code",
      "source": [
        "#2\n",
        "'''\n",
        "Modify the above code to sort by Euclidean length... just the sum of x and y.\n",
        "ChatGPT did a nice job for me except it didn't bother to change the math for length.\n",
        "'''\n",
        "\n",
        "class Vector2D:\n",
        "    def __init__(self, x, y):\n",
        "        self.x = x\n",
        "        self.y = y\n",
        "\n",
        "    def __repr__(self):\n",
        "        return f\"Vector2D({self.x}, {self.y})\"\n",
        "\n",
        "    def euclidean_length(self):\n",
        "        return self.x + self.y\n",
        "\n",
        "# Function to sort a list of Vector2D objects by their length\n",
        "def sort_vectors_by_length(vectors):\n",
        "    return sorted(vectors, key=lambda vector: vector.euclidean_length())\n",
        "\n",
        "# Example usage\n",
        "if __name__ == \"__main__\":\n",
        "    # Creating some Vector2D objects\n",
        "    vector1 = Vector2D(3, 4)\n",
        "    vector2 = Vector2D(1, 2)\n",
        "    vector3 = Vector2D(5, 12)\n",
        "\n",
        "    # Printing the vectors\n",
        "    print(\"Vector 1:\", vector1)\n",
        "    print(\"Vector 2:\", vector2)\n",
        "    print(\"Vector 3:\", vector3)\n",
        "\n",
        "    # Sorting vectors by length\n",
        "    vectors_to_sort = [vector1, vector2, vector3]\n",
        "    sorted_vectors = sort_vectors_by_length(vectors_to_sort)\n",
        "\n",
        "    # Printing the sorted vectors\n",
        "    print(\"\\nSorted Vectors by Euclidean Length:\")\n",
        "    for vector in sorted_vectors:\n",
        "        print(vector)"
      ],
      "metadata": {
        "colab": {
          "base_uri": "https://localhost:8080/"
        },
        "id": "RuZaVn1bpf_U",
        "outputId": "d37aaf61-1435-4ff2-a1bd-3c842702269d"
      },
      "execution_count": 2,
      "outputs": [
        {
          "output_type": "stream",
          "name": "stdout",
          "text": [
            "Vector 1: Vector2D(3, 4)\n",
            "Vector 2: Vector2D(1, 2)\n",
            "Vector 3: Vector2D(5, 12)\n",
            "\n",
            "Sorted Vectors by Euclidean Length:\n",
            "Vector2D(1, 2)\n",
            "Vector2D(3, 4)\n",
            "Vector2D(5, 12)\n"
          ]
        }
      ]
    },
    {
      "cell_type": "code",
      "source": [
        "#3\n",
        "'''\n",
        "Make a class that implements the container protocol such that the class returns the length of the key for any key. In other words:\n",
        "'''\n",
        "\n",
        "class Special():\n",
        "    def __getitem__(self, key):\n",
        "        return len(key)\n",
        "\n",
        "\n",
        "s1 = Special()\n",
        "\n",
        "print(s1[\"krish\"])\n",
        "print(s1[\"krish2\"])\n",
        "print(s1[\"krish2\" * 5])\n",
        "\n"
      ],
      "metadata": {
        "colab": {
          "base_uri": "https://localhost:8080/"
        },
        "id": "3mogBxrPpldT",
        "outputId": "b0d9b29b-d60b-49a9-d080-317fc5a15d5e"
      },
      "execution_count": 3,
      "outputs": [
        {
          "output_type": "stream",
          "name": "stdout",
          "text": [
            "5\n",
            "6\n",
            "30\n"
          ]
        }
      ]
    }
  ]
}