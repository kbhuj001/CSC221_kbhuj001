{
  "nbformat": 4,
  "nbformat_minor": 0,
  "metadata": {
    "colab": {
      "provenance": []
    },
    "kernelspec": {
      "name": "python3",
      "display_name": "Python 3"
    },
    "language_info": {
      "name": "python"
    }
  },
  "cells": [
    {
      "cell_type": "code",
      "execution_count": 1,
      "metadata": {
        "colab": {
          "base_uri": "https://localhost:8080/"
        },
        "id": "hNtdPXa9-09M",
        "outputId": "b147a1d0-37a5-4da5-da4c-4ed9d70c3114"
      },
      "outputs": [
        {
          "output_type": "stream",
          "name": "stdout",
          "text": [
            "1\n",
            "1000000\n",
            "500000500000\n"
          ]
        }
      ],
      "source": [
        "million_list = list(range(1, 1000001))\n",
        "print(min(million_list))\n",
        "print(max(million_list))\n",
        "print(sum(million_list))\n",
        ""
      ]
    },
    {
      "cell_type": "code",
      "source": [
        "odd_number_list = list(range(1, 20, 2))\n",
        "# print(odd_number_list)\n",
        "for odd_number in odd_number_list :\n",
        "  print(odd_number)"
      ],
      "metadata": {
        "colab": {
          "base_uri": "https://localhost:8080/"
        },
        "id": "RYViY9yE_x4F",
        "outputId": "e5eb4f07-d2e7-4df6-9d3a-751bfbeac507"
      },
      "execution_count": 2,
      "outputs": [
        {
          "output_type": "stream",
          "name": "stdout",
          "text": [
            "1\n",
            "3\n",
            "5\n",
            "7\n",
            "9\n",
            "11\n",
            "13\n",
            "15\n",
            "17\n",
            "19\n"
          ]
        }
      ]
    },
    {
      "cell_type": "code",
      "source": [
        "cubes_list = []\n",
        "for cube in range(1, 11):\n",
        "  value = cube**3\n",
        "  print(value)\n",
        "  cubes_list.append(value)"
      ],
      "metadata": {
        "colab": {
          "base_uri": "https://localhost:8080/"
        },
        "id": "EjCdPN_4_97i",
        "outputId": "1ea2303c-2f35-4f87-9d55-1cc45de3f4a0"
      },
      "execution_count": 3,
      "outputs": [
        {
          "output_type": "stream",
          "name": "stdout",
          "text": [
            "1\n",
            "8\n",
            "27\n",
            "64\n",
            "125\n",
            "216\n",
            "343\n",
            "512\n",
            "729\n",
            "1000\n"
          ]
        }
      ]
    },
    {
      "cell_type": "code",
      "source": [
        "cubes_list2 = [x ** 3 for x in range(1, 11)]\n",
        "print(cubes_list2)\n"
      ],
      "metadata": {
        "colab": {
          "base_uri": "https://localhost:8080/"
        },
        "id": "K41hapjDAYpL",
        "outputId": "dc7f6056-0f22-4bdf-ed80-c5928e3ec2cc"
      },
      "execution_count": 5,
      "outputs": [
        {
          "output_type": "stream",
          "name": "stdout",
          "text": [
            "[1, 8, 27, 64, 125, 216, 343, 512, 729, 1000]\n"
          ]
        }
      ]
    },
    {
      "cell_type": "code",
      "source": [
        "print(f\"{cubes_list2[:3]} are the first three items in the list.\")\n",
        "print(f\"{cubes_list2[4:7]} are the middle three items in the list.\")\n",
        "print(f\"{cubes_list2[7:]} are the last three items in the list.\")"
      ],
      "metadata": {
        "colab": {
          "base_uri": "https://localhost:8080/"
        },
        "id": "qh4i5UePAoaB",
        "outputId": "93b45cdf-87a0-4ff5-a94d-2c8db1e07722"
      },
      "execution_count": 6,
      "outputs": [
        {
          "output_type": "stream",
          "name": "stdout",
          "text": [
            "[1, 8, 27] are the first three items in the list.\n",
            "[125, 216, 343] are the middle three items in the list.\n",
            "[512, 729, 1000] are the last three items in the list.\n"
          ]
        }
      ]
    },
    {
      "cell_type": "code",
      "source": [
        "buffet = ('Chicken chow mein', 'Sesame Chicken', 'Pork egg roll', 'beef teriyaki')\n",
        "for food in buffet:\n",
        "  print(food.title())\n",
        "\n",
        "\n",
        "\n",
        "buffet =('Chicken Teriyaki', 'Sesame Chicken', 'Pork egg roll', 'beef teriyaki')\n",
        "print(\"\\nRevised Menu:\")\n",
        "for food in buffet:\n",
        "  print(food.title())\n"
      ],
      "metadata": {
        "colab": {
          "base_uri": "https://localhost:8080/"
        },
        "id": "ftqv2TIcAsGd",
        "outputId": "e9f7ae09-464d-40fa-9f0a-5fd3ee59a7a7"
      },
      "execution_count": 8,
      "outputs": [
        {
          "output_type": "stream",
          "name": "stdout",
          "text": [
            "Chicken Chow Mein\n",
            "Sesame Chicken\n",
            "Pork Egg Roll\n",
            "Beef Teriyaki\n",
            "\n",
            "Revised Menu:\n",
            "Chicken Teriyaki\n",
            "Sesame Chicken\n",
            "Pork Egg Roll\n",
            "Beef Teriyaki\n"
          ]
        }
      ]
    },
    {
      "cell_type": "code",
      "source": [
        "def factorial(num) :\n",
        "  list_for_loop = [x for x in range(1, num+1)]\n",
        "  fact = 1\n",
        "  for i in list_for_loop :\n",
        "    fact *= i\n",
        "\n",
        "  return fact\n",
        "\n",
        "print(factorial(5))\n",
        "print(factorial(10))\n",
        "print(factorial(20))\n",
        "print(factorial(50))"
      ],
      "metadata": {
        "colab": {
          "base_uri": "https://localhost:8080/"
        },
        "id": "kFMEhatACvAQ",
        "outputId": "ad75745a-8872-40ee-95a0-f2db8a39f000"
      },
      "execution_count": 9,
      "outputs": [
        {
          "output_type": "stream",
          "name": "stdout",
          "text": [
            "120\n",
            "3628800\n",
            "2432902008176640000\n",
            "30414093201713378043612608166064768844377641568960512000000000000\n"
          ]
        }
      ]
    },
    {
      "cell_type": "code",
      "source": [
        "def special_factorial(num) :\n",
        "  list_for_loop = [x for x in range(1, num+1)]\n",
        "  fact = 1\n",
        "  for i in list_for_loop :\n",
        "    if i != 4 and i != 13 and i != 22 :\n",
        "      fact *= i\n",
        "\n",
        "  return fact\n",
        "\n",
        "print(special_factorial(5))\n",
        "print(special_factorial(10))\n",
        "print(special_factorial(20))\n",
        "print(special_factorial(50))"
      ],
      "metadata": {
        "colab": {
          "base_uri": "https://localhost:8080/"
        },
        "id": "VX-NAslbCy4i",
        "outputId": "61609188-9fa6-4005-b0c5-c637caa6633a"
      },
      "execution_count": 10,
      "outputs": [
        {
          "output_type": "stream",
          "name": "stdout",
          "text": [
            "30\n",
            "907200\n",
            "46786577080320000\n",
            "26585745805693512275885146998308364374455980392448000000000000\n"
          ]
        }
      ]
    },
    {
      "cell_type": "code",
      "source": [],
      "metadata": {
        "id": "KNdFfxKQD4nl"
      },
      "execution_count": null,
      "outputs": []
    }
  ]
}