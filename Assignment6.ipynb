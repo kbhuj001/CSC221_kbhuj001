{
  "nbformat": 4,
  "nbformat_minor": 0,
  "metadata": {
    "colab": {
      "provenance": [],
      "authorship_tag": "ABX9TyNDGGZFBV6qIcVBECUmh2sB",
      "include_colab_link": true
    },
    "kernelspec": {
      "name": "python3",
      "display_name": "Python 3"
    },
    "language_info": {
      "name": "python"
    }
  },
  "cells": [
    {
      "cell_type": "markdown",
      "metadata": {
        "id": "view-in-github",
        "colab_type": "text"
      },
      "source": [
        "<a href=\"https://colab.research.google.com/github/kbhuj001/CSC221_kbhuj001/blob/main/Assignment6.ipynb\" target=\"_parent\"><img src=\"https://colab.research.google.com/assets/colab-badge.svg\" alt=\"Open In Colab\"/></a>"
      ]
    },
    {
      "cell_type": "markdown",
      "source": [
        "5-13) As a sneakerhead and someone who wants to own a shoe shop in the future, I decided to code a program that will help to record the number of bought shoes along with their size and quantity and also will be able to record the number of shoes sold and check the current inventory.\n",
        "I have coded this program with the help of things I learned in the Intro to programming class and programming lab."
      ],
      "metadata": {
        "id": "uYyqwhMVLtdz"
      }
    },
    {
      "cell_type": "code",
      "source": [
        "shoe_inventory = [] # An empty list to store the information about the shoes in store\n",
        "\n",
        "def record_bought_shoes():  #To record shoes bought\n",
        "    model = input(\"Enter the shoe model: \")\n",
        "    size = input(\"Enter the shoe size: \")\n",
        "    quantity = int(input(\"Enter the quantity bought: \"))\n",
        "\n",
        "    for shoe in shoe_inventory:          # Check if the shoe already exists in inventory\n",
        "        if shoe['model'] == model and shoe['size'] == size:\n",
        "            shoe['quantity'] += quantity\n",
        "            print(f\"Added {quantity} {size} {model}(s) to the inventory.\")\n",
        "            return\n",
        "\n",
        "\n",
        "    shoe = {'model': model, 'size': size, 'quantity': quantity}      # add it as a new item if the shoe is not in inventory\n",
        "    shoe_inventory.append(shoe)\n",
        "    print(f\"Recorded {quantity} {size} {model}(s) bought.\")\n",
        "\n",
        "def record_sold_shoes():         # to record shoes sold\n",
        "    model = input(\"Enter the shoe model: \")\n",
        "    size = input(\"Enter the shoe size: \")\n",
        "    quantity = int(input(\"Enter the quantity sold: \"))\n",
        "\n",
        "\n",
        "    for shoe in shoe_inventory:      # to check if shoes are in inventory.\n",
        "        if shoe['model'] == model and shoe['size'] == size:\n",
        "            if shoe['quantity'] >= quantity:\n",
        "                shoe['quantity'] -= quantity\n",
        "                print(f\"Recorded {quantity} {size} {model}(s) sold.\")\n",
        "            else:\n",
        "                print(\"Not enough stock available for sale.\")\n",
        "            return\n",
        "\n",
        "    print(\"This shoe is not in the inventory.\") #if shoe is not in inventory\n",
        "\n",
        "\n",
        "while True:         # create an infinite loop until the user chooses the exit option.\n",
        "    print(\"\\nOptions:\")\n",
        "    print(\"1. Record Bought Shoes\")\n",
        "    print(\"2. Record Sold Shoes\")\n",
        "    print(\"3. Check Inventory\")\n",
        "    print(\"4. Quit\")\n",
        "\n",
        "    choice = input(\"Enter your choice (1/2/3/4): \")\n",
        "\n",
        "    if choice == \"1\":\n",
        "        record_bought_shoes()\n",
        "    elif choice == \"2\":\n",
        "        record_sold_shoes()\n",
        "    elif choice == \"3\":\n",
        "        print(\"\\nCurrent Shoe Inventory:\")\n",
        "        for shoe in shoe_inventory:\n",
        "            print(f\"Model: {shoe['model']}, Size: {shoe['size']}, Quantity: {shoe['quantity']}\")\n",
        "    elif choice == \"4\":\n",
        "        break\n",
        "    else:\n",
        "        print(\"Invalid choice. Please select a valid option (1/2/3/4).\")\n"
      ],
      "metadata": {
        "colab": {
          "base_uri": "https://localhost:8080/"
        },
        "id": "wDyWjkOLOYlP",
        "outputId": "caec79c2-0db4-48a9-932c-6f8f1e7044b9"
      },
      "execution_count": null,
      "outputs": [
        {
          "output_type": "stream",
          "name": "stdout",
          "text": [
            "\n",
            "Options:\n",
            "1. Record Bought Shoes\n",
            "2. Record Sold Shoes\n",
            "3. Check Inventory\n",
            "4. Quit\n",
            "Enter your choice (1/2/3/4): 1\n",
            "Enter the shoe model: Jordan 1 'Next Chapter'\n",
            "Enter the shoe size: 6\n",
            "Enter the quantity bought: 1\n",
            "Recorded 1 6 Jordan 1 'Next Chapter'(s) bought.\n",
            "\n",
            "Options:\n",
            "1. Record Bought Shoes\n",
            "2. Record Sold Shoes\n",
            "3. Check Inventory\n",
            "4. Quit\n",
            "Enter your choice (1/2/3/4): 3\n",
            "\n",
            "Current Shoe Inventory:\n",
            "Model: Jordan 1 'Next Chapter', Size: 6, Quantity: 1\n",
            "\n",
            "Options:\n",
            "1. Record Bought Shoes\n",
            "2. Record Sold Shoes\n",
            "3. Check Inventory\n",
            "4. Quit\n"
          ]
        }
      ]
    },
    {
      "cell_type": "code",
      "source": [
        "# example\n",
        "cars = ['audi', 'bmw', 'subaru', 'toyota']\n",
        "for car in cars:\n",
        "   if car == 'bmw':\n",
        "     print(car.upper())\n",
        "   else:\n",
        "        print(car.title())\n",
        ""
      ],
      "metadata": {
        "id": "N6rwhWHKwtOE",
        "outputId": "76e71ce2-1327-4862-8a51-bacce2ab8c8e",
        "colab": {
          "base_uri": "https://localhost:8080/"
        }
      },
      "execution_count": 7,
      "outputs": [
        {
          "output_type": "stream",
          "name": "stdout",
          "text": [
            "Audi\n",
            "BMW\n",
            "Subaru\n",
            "Toyota\n"
          ]
        }
      ]
    },
    {
      "cell_type": "code",
      "source": [
        "# 5.1\n",
        "car = 'subaru'\n",
        "bike = 'kawasaki'\n",
        "car2 = 'toyota'\n",
        "\n",
        "print(\"\\nIs car == 'subaru'? I predict True.\")\n",
        "print(car == 'subaru')\n",
        "\n",
        "print(\"\\nIs bike == 'kawasaki'? I predict True.\")\n",
        "print(bike == 'kawasaki')\n",
        "\n",
        "print(\"\\nIs car2 == 'toyota'? I predict True.\")\n",
        "print(car2 == 'toyota')\n",
        "\n",
        "print(\"\\nIs car == 'audi'? I predict False.\")\n",
        "print(car == 'audi')\n",
        "\n",
        "print(\"\\nIs bike == 'buggati'? I predict False.\")\n",
        "print(bike == 'buggati')\n",
        "\n",
        "print(\"\\nIs car2 == 'ford'? I predict False.\")\n",
        "print(car2 == 'ford')"
      ],
      "metadata": {
        "id": "Y14_1xPvxNjb",
        "outputId": "e164d260-8068-40c6-8875-724f677204cd",
        "colab": {
          "base_uri": "https://localhost:8080/"
        }
      },
      "execution_count": 8,
      "outputs": [
        {
          "output_type": "stream",
          "name": "stdout",
          "text": [
            "\n",
            "Is car == 'subaru'? I predict True.\n",
            "True\n",
            "\n",
            "Is bike == 'kawasaki'? I predict True.\n",
            "True\n",
            "\n",
            "Is car2 == 'toyota'? I predict True.\n",
            "True\n",
            "\n",
            "Is car == 'audi'? I predict False.\n",
            "False\n",
            "\n",
            "Is bike == 'buggati'? I predict False.\n",
            "False\n",
            "\n",
            "Is car2 == 'ford'? I predict False.\n",
            "False\n"
          ]
        }
      ]
    },
    {
      "cell_type": "code",
      "source": [
        "car = ['subaru', 'ford', 'toyota', 'HONDA', 'Hyundai']  #5.2\n",
        "if car[1] == 'ford':\n",
        "  print(\"It's a ford!!!\")\n",
        "\n",
        "if car[0] != 'toyota':\n",
        "  print(\"It's not a toyota :(\")\n",
        "\n",
        "if car[3].lower() == 'HONDA':\n",
        "  print(\"It's a honda!!!\")\n",
        "\n",
        "age = 21\n",
        "if age > 18:\n",
        "  print(\"Can vote.\")\n",
        "else:\n",
        "  print(\"Cannot vote.\")\n",
        "\n",
        "if age > 18 or age == 18:\n",
        "  print(\"Can vote.\")\n",
        "\n",
        "print('toyota' in car)\n",
        "print('bugatti' not in car)"
      ],
      "metadata": {
        "id": "Chmge-yPxwBQ",
        "outputId": "4d33f81b-810c-4cef-d58a-0f9ecea360de",
        "colab": {
          "base_uri": "https://localhost:8080/"
        }
      },
      "execution_count": 9,
      "outputs": [
        {
          "output_type": "stream",
          "name": "stdout",
          "text": [
            "It's a ford!!!\n",
            "It's not a toyota :(\n",
            "Can vote.\n",
            "Can vote.\n",
            "True\n",
            "True\n"
          ]
        }
      ]
    },
    {
      "cell_type": "code",
      "source": [
        "#5.3\n",
        "\n",
        "alien_color = ['green', 'yellow', 'red']\n",
        "if 'green' in alien_color:\n",
        "  print(\"Congrats!!! You earned 5 points.\")\n",
        "\n",
        "if 'green' not in alien_color:\n",
        "  print(\"Congrats!!! You earned 5 points.\")"
      ],
      "metadata": {
        "id": "rLegjNA0yOa0",
        "outputId": "ae07c727-81cf-4152-c0c6-62d0b3835f06",
        "colab": {
          "base_uri": "https://localhost:8080/"
        }
      },
      "execution_count": 10,
      "outputs": [
        {
          "output_type": "stream",
          "name": "stdout",
          "text": [
            "Congrats!!! You earned 5 points.\n"
          ]
        }
      ]
    },
    {
      "cell_type": "code",
      "source": [
        "# 5.6\n",
        "age2 = 66\n",
        "if age2 < 2:\n",
        "  print(\"The person is a baby.\")\n",
        "elif 2 <= age2 < 4:\n",
        "  print(\"The person is a toddler\")\n",
        "elif 4 <= age2 < 13:\n",
        "  print(\"The person is a kid\")\n",
        "elif 13 <= age2 < 20:\n",
        "  print(\"The person is a teenager.\")\n",
        "elif 20 <= age2 < 65:\n",
        "  print(\"The person is an adult.\")\n",
        "else:\n",
        "  print(\"The person is an elder.\")"
      ],
      "metadata": {
        "id": "-srAmepTyVVX",
        "outputId": "b070abd4-c059-43e9-de5d-fef38ad5c1fd",
        "colab": {
          "base_uri": "https://localhost:8080/"
        }
      },
      "execution_count": 11,
      "outputs": [
        {
          "output_type": "stream",
          "name": "stdout",
          "text": [
            "The person is an elder.\n"
          ]
        }
      ]
    },
    {
      "cell_type": "code",
      "source": [
        "# 5.12\n",
        "'''\n",
        "If statements are styled properly.\n",
        "'''"
      ],
      "metadata": {
        "id": "vRPxit8RyZe3"
      },
      "execution_count": null,
      "outputs": []
    }
  ]
}