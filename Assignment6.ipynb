{
  "nbformat": 4,
  "nbformat_minor": 0,
  "metadata": {
    "colab": {
      "provenance": [],
      "authorship_tag": "ABX9TyMxpLpOFU4R1K8bLUn52RlI",
      "include_colab_link": true
    },
    "kernelspec": {
      "name": "python3",
      "display_name": "Python 3"
    },
    "language_info": {
      "name": "python"
    }
  },
  "cells": [
    {
      "cell_type": "markdown",
      "metadata": {
        "id": "view-in-github",
        "colab_type": "text"
      },
      "source": [
        "<a href=\"https://colab.research.google.com/github/kbhuj001/CSC221_kbhuj001/blob/main/Assignment6.ipynb\" target=\"_parent\"><img src=\"https://colab.research.google.com/assets/colab-badge.svg\" alt=\"Open In Colab\"/></a>"
      ]
    },
    {
      "cell_type": "markdown",
      "source": [
        "5-13) As a sneakerhead and someone who wants to own a shoe shop in the future, I decided to code a program that will help to record the number of bought shoes along with their size and quantity and also will be able to record the number of shoes sold and check the current inventory.\n",
        "I have coded this program with the help of things I learned in the Intro to programming class and programming lab."
      ],
      "metadata": {
        "id": "uYyqwhMVLtdz"
      }
    },
    {
      "cell_type": "code",
      "source": [
        "shoe_inventory = [] # An empty list to store the information about the shoes in store\n",
        "\n",
        "def record_bought_shoes():  #To record shoes bought\n",
        "    model = input(\"Enter the shoe model: \")\n",
        "    size = input(\"Enter the shoe size: \")\n",
        "    quantity = int(input(\"Enter the quantity bought: \"))\n",
        "\n",
        "    for shoe in shoe_inventory:          # Check if the shoe already exists in inventory\n",
        "        if shoe['model'] == model and shoe['size'] == size:\n",
        "            shoe['quantity'] += quantity\n",
        "            print(f\"Added {quantity} {size} {model}(s) to the inventory.\")\n",
        "            return\n",
        "\n",
        "\n",
        "    shoe = {'model': model, 'size': size, 'quantity': quantity}      # add it as a new item if the shoe is not in inventory\n",
        "    shoe_inventory.append(shoe)\n",
        "    print(f\"Recorded {quantity} {size} {model}(s) bought.\")\n",
        "\n",
        "def record_sold_shoes():         # to record shoes sold\n",
        "    model = input(\"Enter the shoe model: \")\n",
        "    size = input(\"Enter the shoe size: \")\n",
        "    quantity = int(input(\"Enter the quantity sold: \"))\n",
        "\n",
        "\n",
        "    for shoe in shoe_inventory:      # to check if shoes are in inventory.\n",
        "        if shoe['model'] == model and shoe['size'] == size:\n",
        "            if shoe['quantity'] >= quantity:\n",
        "                shoe['quantity'] -= quantity\n",
        "                print(f\"Recorded {quantity} {size} {model}(s) sold.\")\n",
        "            else:\n",
        "                print(\"Not enough stock available for sale.\")\n",
        "            return\n",
        "\n",
        "    print(\"This shoe is not in the inventory.\") #if shoe is not in inventory\n",
        "\n",
        "\n",
        "while True:         # create an infinite loop until the user chooses the exit option.\n",
        "    print(\"\\nOptions:\")\n",
        "    print(\"1. Record Bought Shoes\")\n",
        "    print(\"2. Record Sold Shoes\")\n",
        "    print(\"3. Check Inventory\")\n",
        "    print(\"4. Quit\")\n",
        "\n",
        "    choice = input(\"Enter your choice (1/2/3/4): \")\n",
        "\n",
        "    if choice == \"1\":\n",
        "        record_bought_shoes()\n",
        "    elif choice == \"2\":\n",
        "        record_sold_shoes()\n",
        "    elif choice == \"3\":\n",
        "        print(\"\\nCurrent Shoe Inventory:\")\n",
        "        for shoe in shoe_inventory:\n",
        "            print(f\"Model: {shoe['model']}, Size: {shoe['size']}, Quantity: {shoe['quantity']}\")\n",
        "    elif choice == \"4\":\n",
        "        break\n",
        "    else:\n",
        "        print(\"Invalid choice. Please select a valid option (1/2/3/4).\")\n"
      ],
      "metadata": {
        "colab": {
          "base_uri": "https://localhost:8080/"
        },
        "id": "wDyWjkOLOYlP",
        "outputId": "caec79c2-0db4-48a9-932c-6f8f1e7044b9"
      },
      "execution_count": null,
      "outputs": [
        {
          "output_type": "stream",
          "name": "stdout",
          "text": [
            "\n",
            "Options:\n",
            "1. Record Bought Shoes\n",
            "2. Record Sold Shoes\n",
            "3. Check Inventory\n",
            "4. Quit\n",
            "Enter your choice (1/2/3/4): 1\n",
            "Enter the shoe model: Jordan 1 'Next Chapter'\n",
            "Enter the shoe size: 6\n",
            "Enter the quantity bought: 1\n",
            "Recorded 1 6 Jordan 1 'Next Chapter'(s) bought.\n",
            "\n",
            "Options:\n",
            "1. Record Bought Shoes\n",
            "2. Record Sold Shoes\n",
            "3. Check Inventory\n",
            "4. Quit\n",
            "Enter your choice (1/2/3/4): 3\n",
            "\n",
            "Current Shoe Inventory:\n",
            "Model: Jordan 1 'Next Chapter', Size: 6, Quantity: 1\n",
            "\n",
            "Options:\n",
            "1. Record Bought Shoes\n",
            "2. Record Sold Shoes\n",
            "3. Check Inventory\n",
            "4. Quit\n"
          ]
        }
      ]
    }
  ]
}